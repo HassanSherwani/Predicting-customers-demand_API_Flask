{
  "nbformat": 4,
  "nbformat_minor": 0,
  "metadata": {
    "colab": {
      "name": "Product_Freq.ipynb",
      "version": "0.3.2",
      "provenance": [],
      "collapsed_sections": [],
      "include_colab_link": true
    },
    "kernelspec": {
      "name": "python3",
      "display_name": "Python 3"
    }
  },
  "cells": [
    {
      "cell_type": "markdown",
      "metadata": {
        "id": "view-in-github",
        "colab_type": "text"
      },
      "source": [
        "<a href=\"https://colab.research.google.com/github/HassanSherwani/Product_Purchase_Frequency/blob/master/Product_Freq.ipynb\" target=\"_parent\"><img src=\"https://colab.research.google.com/assets/colab-badge.svg\" alt=\"Open In Colab\"/></a>"
      ]
    },
    {
      "metadata": {
        "id": "GgEoTlCkixz0",
        "colab_type": "code",
        "colab": {}
      },
      "cell_type": "code",
      "source": [
        "\"\"\"\n",
        "Problem Statement:\n",
        "\n",
        "How often a certain product has been sold in the past days.\n",
        "\n",
        "\"\"\""
      ],
      "execution_count": 0,
      "outputs": []
    },
    {
      "metadata": {
        "id": "P-T1NtFHkzUG",
        "colab_type": "code",
        "colab": {}
      },
      "cell_type": "code",
      "source": [
        "#1)- Importing key modules"
      ],
      "execution_count": 0,
      "outputs": []
    },
    {
      "metadata": {
        "id": "ONIqqndak2q2",
        "colab_type": "code",
        "colab": {}
      },
      "cell_type": "code",
      "source": [
        "# Let's be rebels and ignore warnings for now\n",
        "import warnings\n",
        "warnings.filterwarnings('ignore')\n",
        "warnings.filterwarnings(\"ignore\",category=DeprecationWarning)"
      ],
      "execution_count": 0,
      "outputs": []
    },
    {
      "metadata": {
        "id": "vyM7te4Diykk",
        "colab_type": "code",
        "colab": {}
      },
      "cell_type": "code",
      "source": [
        "import pandas as pd\n",
        "import numpy as np\n",
        "import time\n",
        "from sklearn.model_selection import train_test_split\n",
        "import sys"
      ],
      "execution_count": 0,
      "outputs": []
    },
    {
      "metadata": {
        "id": "qO6Amb2Hi0cg",
        "colab_type": "code",
        "colab": {
          "base_uri": "https://localhost:8080/",
          "height": 420
        },
        "outputId": "e2f0f807-b7c4-48f3-f4b3-03737eac2946"
      },
      "cell_type": "code",
      "source": [
        "! pip install turicreate"
      ],
      "execution_count": 4,
      "outputs": [
        {
          "output_type": "stream",
          "text": [
            "Requirement already satisfied: turicreate in /usr/local/lib/python3.6/dist-packages (5.4)\n",
            "Requirement already satisfied: pandas>=0.19.0 in /usr/local/lib/python3.6/dist-packages (from turicreate) (0.22.0)\n",
            "Requirement already satisfied: six>=1.10.0 in /usr/local/lib/python3.6/dist-packages (from turicreate) (1.11.0)\n",
            "Requirement already satisfied: mxnet<1.2.0,>=1.1.0 in /usr/local/lib/python3.6/dist-packages (from turicreate) (1.1.0.post0)\n",
            "Requirement already satisfied: numpy in /usr/local/lib/python3.6/dist-packages (from turicreate) (1.14.6)\n",
            "Requirement already satisfied: decorator>=4.0.9 in /usr/local/lib/python3.6/dist-packages (from turicreate) (4.4.0)\n",
            "Requirement already satisfied: resampy==0.2.1 in /usr/local/lib/python3.6/dist-packages (from turicreate) (0.2.1)\n",
            "Requirement already satisfied: prettytable==0.7.2 in /usr/local/lib/python3.6/dist-packages (from turicreate) (0.7.2)\n",
            "Requirement already satisfied: coremltools==2.1.0 in /usr/local/lib/python3.6/dist-packages (from turicreate) (2.1.0)\n",
            "Requirement already satisfied: pillow>=3.3.0 in /usr/local/lib/python3.6/dist-packages (from turicreate) (4.1.1)\n",
            "Requirement already satisfied: requests>=2.9.1 in /usr/local/lib/python3.6/dist-packages (from turicreate) (2.18.4)\n",
            "Requirement already satisfied: scipy>=0.14.0 in /usr/local/lib/python3.6/dist-packages (from turicreate) (1.1.0)\n",
            "Requirement already satisfied: python-dateutil>=2 in /usr/local/lib/python3.6/dist-packages (from pandas>=0.19.0->turicreate) (2.5.3)\n",
            "Requirement already satisfied: pytz>=2011k in /usr/local/lib/python3.6/dist-packages (from pandas>=0.19.0->turicreate) (2018.9)\n",
            "Requirement already satisfied: graphviz<0.9.0,>=0.8.1 in /usr/local/lib/python3.6/dist-packages (from mxnet<1.2.0,>=1.1.0->turicreate) (0.8.4)\n",
            "Requirement already satisfied: numba>=0.32 in /usr/local/lib/python3.6/dist-packages (from resampy==0.2.1->turicreate) (0.40.1)\n",
            "Requirement already satisfied: protobuf>=3.1.0 in /usr/local/lib/python3.6/dist-packages (from coremltools==2.1.0->turicreate) (3.7.1)\n",
            "Requirement already satisfied: olefile in /usr/local/lib/python3.6/dist-packages (from pillow>=3.3.0->turicreate) (0.46)\n",
            "Requirement already satisfied: idna<2.7,>=2.5 in /usr/local/lib/python3.6/dist-packages (from requests>=2.9.1->turicreate) (2.6)\n",
            "Requirement already satisfied: chardet<3.1.0,>=3.0.2 in /usr/local/lib/python3.6/dist-packages (from requests>=2.9.1->turicreate) (3.0.4)\n",
            "Requirement already satisfied: certifi>=2017.4.17 in /usr/local/lib/python3.6/dist-packages (from requests>=2.9.1->turicreate) (2019.3.9)\n",
            "Requirement already satisfied: urllib3<1.23,>=1.21.1 in /usr/local/lib/python3.6/dist-packages (from requests>=2.9.1->turicreate) (1.22)\n",
            "Requirement already satisfied: llvmlite>=0.25.0dev0 in /usr/local/lib/python3.6/dist-packages (from numba>=0.32->resampy==0.2.1->turicreate) (0.28.0)\n",
            "Requirement already satisfied: setuptools in /usr/local/lib/python3.6/dist-packages (from protobuf>=3.1.0->coremltools==2.1.0->turicreate) (40.9.0)\n"
          ],
          "name": "stdout"
        }
      ]
    },
    {
      "metadata": {
        "id": "MAc6IaOpi00I",
        "colab_type": "code",
        "colab": {}
      },
      "cell_type": "code",
      "source": [
        "import turicreate as tc"
      ],
      "execution_count": 0,
      "outputs": []
    },
    {
      "metadata": {
        "id": "9QJF3aCdk-Ou",
        "colab_type": "code",
        "colab": {}
      },
      "cell_type": "code",
      "source": [
        "# 2)-Loading Data"
      ],
      "execution_count": 0,
      "outputs": []
    },
    {
      "metadata": {
        "id": "Sv4bz7lpjJ1c",
        "colab_type": "code",
        "colab": {}
      },
      "cell_type": "code",
      "source": [
        "url = 'https://raw.githubusercontent.com/HassanSherwani/Product_Purchase_Frequency/master/20190207_transactions%20.json'"
      ],
      "execution_count": 0,
      "outputs": []
    },
    {
      "metadata": {
        "id": "CVUUTZoljOm1",
        "colab_type": "code",
        "colab": {}
      },
      "cell_type": "code",
      "source": [
        "transactions = pd.read_json(url, lines= True)"
      ],
      "execution_count": 0,
      "outputs": []
    },
    {
      "metadata": {
        "id": "QwQ_1VjCogtU",
        "colab_type": "code",
        "colab": {}
      },
      "cell_type": "code",
      "source": [
        "# 3)-Exploring dataset"
      ],
      "execution_count": 0,
      "outputs": []
    },
    {
      "metadata": {
        "id": "yCBuFRWPjQ0W",
        "colab_type": "code",
        "colab": {
          "base_uri": "https://localhost:8080/",
          "height": 195
        },
        "outputId": "daf6c361-d40e-4238-98eb-6a4d161b4e03"
      },
      "cell_type": "code",
      "source": [
        "transactions.head()"
      ],
      "execution_count": 10,
      "outputs": [
        {
          "output_type": "execute_result",
          "data": {
            "text/html": [
              "<div>\n",
              "<style scoped>\n",
              "    .dataframe tbody tr th:only-of-type {\n",
              "        vertical-align: middle;\n",
              "    }\n",
              "\n",
              "    .dataframe tbody tr th {\n",
              "        vertical-align: top;\n",
              "    }\n",
              "\n",
              "    .dataframe thead th {\n",
              "        text-align: right;\n",
              "    }\n",
              "</style>\n",
              "<table border=\"1\" class=\"dataframe\">\n",
              "  <thead>\n",
              "    <tr style=\"text-align: right;\">\n",
              "      <th></th>\n",
              "      <th>id</th>\n",
              "      <th>products</th>\n",
              "    </tr>\n",
              "  </thead>\n",
              "  <tbody>\n",
              "    <tr>\n",
              "      <th>0</th>\n",
              "      <td>0</td>\n",
              "      <td>[185, 30, 77, 188, 78, 125, 45, 155, 241, 229,...</td>\n",
              "    </tr>\n",
              "    <tr>\n",
              "      <th>1</th>\n",
              "      <td>1</td>\n",
              "      <td>[119, 148, 108, 34, 157, 82, 113, 45, 165]</td>\n",
              "    </tr>\n",
              "    <tr>\n",
              "      <th>2</th>\n",
              "      <td>2</td>\n",
              "      <td>[173, 103, 229, 240]</td>\n",
              "    </tr>\n",
              "    <tr>\n",
              "      <th>3</th>\n",
              "      <td>3</td>\n",
              "      <td>[91]</td>\n",
              "    </tr>\n",
              "    <tr>\n",
              "      <th>4</th>\n",
              "      <td>4</td>\n",
              "      <td>[175, 192, 54, 172]</td>\n",
              "    </tr>\n",
              "  </tbody>\n",
              "</table>\n",
              "</div>"
            ],
            "text/plain": [
              "   id                                           products\n",
              "0   0  [185, 30, 77, 188, 78, 125, 45, 155, 241, 229,...\n",
              "1   1         [119, 148, 108, 34, 157, 82, 113, 45, 165]\n",
              "2   2                               [173, 103, 229, 240]\n",
              "3   3                                               [91]\n",
              "4   4                                [175, 192, 54, 172]"
            ]
          },
          "metadata": {
            "tags": []
          },
          "execution_count": 10
        }
      ]
    },
    {
      "metadata": {
        "id": "yPAUbIxWojdD",
        "colab_type": "code",
        "colab": {
          "base_uri": "https://localhost:8080/",
          "height": 34
        },
        "outputId": "88cfebbc-6f6e-4da5-f332-324d92d35b25"
      },
      "cell_type": "code",
      "source": [
        "transactions.shape"
      ],
      "execution_count": 11,
      "outputs": [
        {
          "output_type": "execute_result",
          "data": {
            "text/plain": [
              "(2500, 2)"
            ]
          },
          "metadata": {
            "tags": []
          },
          "execution_count": 11
        }
      ]
    },
    {
      "metadata": {
        "id": "VgeTdpb8jSrM",
        "colab_type": "code",
        "colab": {
          "base_uri": "https://localhost:8080/",
          "height": 134
        },
        "outputId": "133274f5-ed9c-4c3d-ef8c-374505ba1344"
      },
      "cell_type": "code",
      "source": [
        "transactions.info() # checking missing values"
      ],
      "execution_count": 12,
      "outputs": [
        {
          "output_type": "stream",
          "text": [
            "<class 'pandas.core.frame.DataFrame'>\n",
            "Int64Index: 2500 entries, 0 to 2499\n",
            "Data columns (total 2 columns):\n",
            "id          2500 non-null int64\n",
            "products    2500 non-null object\n",
            "dtypes: int64(1), object(1)\n",
            "memory usage: 58.6+ KB\n"
          ],
          "name": "stdout"
        }
      ]
    },
    {
      "metadata": {
        "id": "5AKaMrgsoHvq",
        "colab_type": "code",
        "colab": {
          "base_uri": "https://localhost:8080/",
          "height": 284
        },
        "outputId": "1754cd64-7a56-4f47-eb68-6fdc83b7eafd"
      },
      "cell_type": "code",
      "source": [
        "transactions.describe()"
      ],
      "execution_count": 13,
      "outputs": [
        {
          "output_type": "execute_result",
          "data": {
            "text/html": [
              "<div>\n",
              "<style scoped>\n",
              "    .dataframe tbody tr th:only-of-type {\n",
              "        vertical-align: middle;\n",
              "    }\n",
              "\n",
              "    .dataframe tbody tr th {\n",
              "        vertical-align: top;\n",
              "    }\n",
              "\n",
              "    .dataframe thead th {\n",
              "        text-align: right;\n",
              "    }\n",
              "</style>\n",
              "<table border=\"1\" class=\"dataframe\">\n",
              "  <thead>\n",
              "    <tr style=\"text-align: right;\">\n",
              "      <th></th>\n",
              "      <th>id</th>\n",
              "    </tr>\n",
              "  </thead>\n",
              "  <tbody>\n",
              "    <tr>\n",
              "      <th>count</th>\n",
              "      <td>2500.00000</td>\n",
              "    </tr>\n",
              "    <tr>\n",
              "      <th>mean</th>\n",
              "      <td>1249.50000</td>\n",
              "    </tr>\n",
              "    <tr>\n",
              "      <th>std</th>\n",
              "      <td>721.83216</td>\n",
              "    </tr>\n",
              "    <tr>\n",
              "      <th>min</th>\n",
              "      <td>0.00000</td>\n",
              "    </tr>\n",
              "    <tr>\n",
              "      <th>25%</th>\n",
              "      <td>624.75000</td>\n",
              "    </tr>\n",
              "    <tr>\n",
              "      <th>50%</th>\n",
              "      <td>1249.50000</td>\n",
              "    </tr>\n",
              "    <tr>\n",
              "      <th>75%</th>\n",
              "      <td>1874.25000</td>\n",
              "    </tr>\n",
              "    <tr>\n",
              "      <th>max</th>\n",
              "      <td>2499.00000</td>\n",
              "    </tr>\n",
              "  </tbody>\n",
              "</table>\n",
              "</div>"
            ],
            "text/plain": [
              "               id\n",
              "count  2500.00000\n",
              "mean   1249.50000\n",
              "std     721.83216\n",
              "min       0.00000\n",
              "25%     624.75000\n",
              "50%    1249.50000\n",
              "75%    1874.25000\n",
              "max    2499.00000"
            ]
          },
          "metadata": {
            "tags": []
          },
          "execution_count": 13
        }
      ]
    },
    {
      "metadata": {
        "id": "0DBhi0vnu8SS",
        "colab_type": "code",
        "colab": {}
      },
      "cell_type": "code",
      "source": [
        "### Adding Features: Create a separate dataframe for recommending users\n",
        "customers=transactions['id']"
      ],
      "execution_count": 0,
      "outputs": []
    },
    {
      "metadata": {
        "id": "Sb4DSom_vM3j",
        "colab_type": "code",
        "colab": {}
      },
      "cell_type": "code",
      "source": [
        "cust_2_rec=customers[:1000]"
      ],
      "execution_count": 0,
      "outputs": []
    },
    {
      "metadata": {
        "id": "zeYv4cVJoQg1",
        "colab_type": "code",
        "colab": {
          "base_uri": "https://localhost:8080/",
          "height": 758
        },
        "outputId": "ed1e7bf8-73c2-454a-8c63-fa1b799bf502"
      },
      "cell_type": "code",
      "source": [
        "### break down each list of items in the products column into rows and count the number of products bought by a user\n",
        "\n",
        "pd.melt(transactions.head(2).set_index('id')['products'].apply(pd.Series).reset_index(), \n",
        "             id_vars=['id'],\n",
        "             value_name='products') \\\n",
        "    .dropna().drop(['variable'], axis=1) \\\n",
        "    .groupby(['id', 'products']) \\\n",
        "    .agg({'products': 'count'}) \\\n",
        "    .rename(columns={'products': 'purchase_count'}) \\\n",
        "    .reset_index() \\\n",
        "    .rename(columns={'products': 'productId'})"
      ],
      "execution_count": 16,
      "outputs": [
        {
          "output_type": "execute_result",
          "data": {
            "text/html": [
              "<div>\n",
              "<style scoped>\n",
              "    .dataframe tbody tr th:only-of-type {\n",
              "        vertical-align: middle;\n",
              "    }\n",
              "\n",
              "    .dataframe tbody tr th {\n",
              "        vertical-align: top;\n",
              "    }\n",
              "\n",
              "    .dataframe thead th {\n",
              "        text-align: right;\n",
              "    }\n",
              "</style>\n",
              "<table border=\"1\" class=\"dataframe\">\n",
              "  <thead>\n",
              "    <tr style=\"text-align: right;\">\n",
              "      <th></th>\n",
              "      <th>id</th>\n",
              "      <th>productId</th>\n",
              "      <th>purchase_count</th>\n",
              "    </tr>\n",
              "  </thead>\n",
              "  <tbody>\n",
              "    <tr>\n",
              "      <th>0</th>\n",
              "      <td>0</td>\n",
              "      <td>30.0</td>\n",
              "      <td>1</td>\n",
              "    </tr>\n",
              "    <tr>\n",
              "      <th>1</th>\n",
              "      <td>0</td>\n",
              "      <td>45.0</td>\n",
              "      <td>1</td>\n",
              "    </tr>\n",
              "    <tr>\n",
              "      <th>2</th>\n",
              "      <td>0</td>\n",
              "      <td>77.0</td>\n",
              "      <td>1</td>\n",
              "    </tr>\n",
              "    <tr>\n",
              "      <th>3</th>\n",
              "      <td>0</td>\n",
              "      <td>78.0</td>\n",
              "      <td>1</td>\n",
              "    </tr>\n",
              "    <tr>\n",
              "      <th>4</th>\n",
              "      <td>0</td>\n",
              "      <td>89.0</td>\n",
              "      <td>2</td>\n",
              "    </tr>\n",
              "    <tr>\n",
              "      <th>5</th>\n",
              "      <td>0</td>\n",
              "      <td>125.0</td>\n",
              "      <td>1</td>\n",
              "    </tr>\n",
              "    <tr>\n",
              "      <th>6</th>\n",
              "      <td>0</td>\n",
              "      <td>133.0</td>\n",
              "      <td>1</td>\n",
              "    </tr>\n",
              "    <tr>\n",
              "      <th>7</th>\n",
              "      <td>0</td>\n",
              "      <td>155.0</td>\n",
              "      <td>1</td>\n",
              "    </tr>\n",
              "    <tr>\n",
              "      <th>8</th>\n",
              "      <td>0</td>\n",
              "      <td>161.0</td>\n",
              "      <td>1</td>\n",
              "    </tr>\n",
              "    <tr>\n",
              "      <th>9</th>\n",
              "      <td>0</td>\n",
              "      <td>185.0</td>\n",
              "      <td>1</td>\n",
              "    </tr>\n",
              "    <tr>\n",
              "      <th>10</th>\n",
              "      <td>0</td>\n",
              "      <td>188.0</td>\n",
              "      <td>1</td>\n",
              "    </tr>\n",
              "    <tr>\n",
              "      <th>11</th>\n",
              "      <td>0</td>\n",
              "      <td>210.0</td>\n",
              "      <td>1</td>\n",
              "    </tr>\n",
              "    <tr>\n",
              "      <th>12</th>\n",
              "      <td>0</td>\n",
              "      <td>229.0</td>\n",
              "      <td>1</td>\n",
              "    </tr>\n",
              "    <tr>\n",
              "      <th>13</th>\n",
              "      <td>0</td>\n",
              "      <td>238.0</td>\n",
              "      <td>1</td>\n",
              "    </tr>\n",
              "    <tr>\n",
              "      <th>14</th>\n",
              "      <td>0</td>\n",
              "      <td>241.0</td>\n",
              "      <td>1</td>\n",
              "    </tr>\n",
              "    <tr>\n",
              "      <th>15</th>\n",
              "      <td>1</td>\n",
              "      <td>34.0</td>\n",
              "      <td>1</td>\n",
              "    </tr>\n",
              "    <tr>\n",
              "      <th>16</th>\n",
              "      <td>1</td>\n",
              "      <td>45.0</td>\n",
              "      <td>1</td>\n",
              "    </tr>\n",
              "    <tr>\n",
              "      <th>17</th>\n",
              "      <td>1</td>\n",
              "      <td>82.0</td>\n",
              "      <td>1</td>\n",
              "    </tr>\n",
              "    <tr>\n",
              "      <th>18</th>\n",
              "      <td>1</td>\n",
              "      <td>108.0</td>\n",
              "      <td>1</td>\n",
              "    </tr>\n",
              "    <tr>\n",
              "      <th>19</th>\n",
              "      <td>1</td>\n",
              "      <td>113.0</td>\n",
              "      <td>1</td>\n",
              "    </tr>\n",
              "    <tr>\n",
              "      <th>20</th>\n",
              "      <td>1</td>\n",
              "      <td>119.0</td>\n",
              "      <td>1</td>\n",
              "    </tr>\n",
              "    <tr>\n",
              "      <th>21</th>\n",
              "      <td>1</td>\n",
              "      <td>148.0</td>\n",
              "      <td>1</td>\n",
              "    </tr>\n",
              "    <tr>\n",
              "      <th>22</th>\n",
              "      <td>1</td>\n",
              "      <td>157.0</td>\n",
              "      <td>1</td>\n",
              "    </tr>\n",
              "    <tr>\n",
              "      <th>23</th>\n",
              "      <td>1</td>\n",
              "      <td>165.0</td>\n",
              "      <td>1</td>\n",
              "    </tr>\n",
              "  </tbody>\n",
              "</table>\n",
              "</div>"
            ],
            "text/plain": [
              "    id  productId  purchase_count\n",
              "0    0       30.0               1\n",
              "1    0       45.0               1\n",
              "2    0       77.0               1\n",
              "3    0       78.0               1\n",
              "4    0       89.0               2\n",
              "5    0      125.0               1\n",
              "6    0      133.0               1\n",
              "7    0      155.0               1\n",
              "8    0      161.0               1\n",
              "9    0      185.0               1\n",
              "10   0      188.0               1\n",
              "11   0      210.0               1\n",
              "12   0      229.0               1\n",
              "13   0      238.0               1\n",
              "14   0      241.0               1\n",
              "15   1       34.0               1\n",
              "16   1       45.0               1\n",
              "17   1       82.0               1\n",
              "18   1      108.0               1\n",
              "19   1      113.0               1\n",
              "20   1      119.0               1\n",
              "21   1      148.0               1\n",
              "22   1      157.0               1\n",
              "23   1      165.0               1"
            ]
          },
          "metadata": {
            "tags": []
          },
          "execution_count": 16
        }
      ]
    },
    {
      "metadata": {
        "id": "qwuzwOwgrGcJ",
        "colab_type": "code",
        "colab": {}
      },
      "cell_type": "code",
      "source": [
        "# 4)- Making data for user, item, and target field"
      ],
      "execution_count": 0,
      "outputs": []
    },
    {
      "metadata": {
        "id": "KQIQ1Djlo5zz",
        "colab_type": "code",
        "colab": {
          "base_uri": "https://localhost:8080/",
          "height": 34
        },
        "outputId": "f390f402-ef1f-47dd-8e54-8f0a51b37732"
      },
      "cell_type": "code",
      "source": [
        "### 4a)-One for purchase count\n",
        "s=time.time()\n",
        "\n",
        "data = pd.melt(transactions.set_index('id')['products'].apply(pd.Series).reset_index(), \n",
        "             id_vars=['id'],\n",
        "             value_name='products') \\\n",
        "    .dropna().drop(['variable'], axis=1) \\\n",
        "    .groupby(['id', 'products']) \\\n",
        "    .agg({'products': 'count'}) \\\n",
        "    .rename(columns={'products': 'purchase_count'}) \\\n",
        "    .reset_index() \\\n",
        "    .rename(columns={'products': 'productId'})\n",
        "data['productId'] = data['productId'].astype(np.int64)\n",
        "\n",
        "print(\"Execution time:\", round((time.time()-s)/60,2), \"minutes\")"
      ],
      "execution_count": 18,
      "outputs": [
        {
          "output_type": "stream",
          "text": [
            "Execution time: 0.01 minutes\n"
          ],
          "name": "stdout"
        }
      ]
    },
    {
      "metadata": {
        "id": "A8OZyl_Gqzy4",
        "colab_type": "code",
        "colab": {
          "base_uri": "https://localhost:8080/",
          "height": 34
        },
        "outputId": "7f8aecb6-90fc-4611-dd06-689410033e6b"
      },
      "cell_type": "code",
      "source": [
        "data.shape"
      ],
      "execution_count": 19,
      "outputs": [
        {
          "output_type": "execute_result",
          "data": {
            "text/plain": [
              "(24811, 3)"
            ]
          },
          "metadata": {
            "tags": []
          },
          "execution_count": 19
        }
      ]
    },
    {
      "metadata": {
        "id": "f-NAiHgoq3rP",
        "colab_type": "code",
        "colab": {
          "base_uri": "https://localhost:8080/",
          "height": 195
        },
        "outputId": "a37cbff0-539b-4387-e583-60c608d55f07"
      },
      "cell_type": "code",
      "source": [
        "data.head()"
      ],
      "execution_count": 20,
      "outputs": [
        {
          "output_type": "execute_result",
          "data": {
            "text/html": [
              "<div>\n",
              "<style scoped>\n",
              "    .dataframe tbody tr th:only-of-type {\n",
              "        vertical-align: middle;\n",
              "    }\n",
              "\n",
              "    .dataframe tbody tr th {\n",
              "        vertical-align: top;\n",
              "    }\n",
              "\n",
              "    .dataframe thead th {\n",
              "        text-align: right;\n",
              "    }\n",
              "</style>\n",
              "<table border=\"1\" class=\"dataframe\">\n",
              "  <thead>\n",
              "    <tr style=\"text-align: right;\">\n",
              "      <th></th>\n",
              "      <th>id</th>\n",
              "      <th>productId</th>\n",
              "      <th>purchase_count</th>\n",
              "    </tr>\n",
              "  </thead>\n",
              "  <tbody>\n",
              "    <tr>\n",
              "      <th>0</th>\n",
              "      <td>0</td>\n",
              "      <td>30</td>\n",
              "      <td>1</td>\n",
              "    </tr>\n",
              "    <tr>\n",
              "      <th>1</th>\n",
              "      <td>0</td>\n",
              "      <td>45</td>\n",
              "      <td>1</td>\n",
              "    </tr>\n",
              "    <tr>\n",
              "      <th>2</th>\n",
              "      <td>0</td>\n",
              "      <td>77</td>\n",
              "      <td>1</td>\n",
              "    </tr>\n",
              "    <tr>\n",
              "      <th>3</th>\n",
              "      <td>0</td>\n",
              "      <td>78</td>\n",
              "      <td>1</td>\n",
              "    </tr>\n",
              "    <tr>\n",
              "      <th>4</th>\n",
              "      <td>0</td>\n",
              "      <td>89</td>\n",
              "      <td>2</td>\n",
              "    </tr>\n",
              "  </tbody>\n",
              "</table>\n",
              "</div>"
            ],
            "text/plain": [
              "   id  productId  purchase_count\n",
              "0   0         30               1\n",
              "1   0         45               1\n",
              "2   0         77               1\n",
              "3   0         78               1\n",
              "4   0         89               2"
            ]
          },
          "metadata": {
            "tags": []
          },
          "execution_count": 20
        }
      ]
    },
    {
      "metadata": {
        "id": "VXOHWK49VHG2",
        "colab_type": "code",
        "colab": {}
      },
      "cell_type": "code",
      "source": [
        "#Let find top frequent items\n",
        "from heapq import nlargest\n",
        "\n",
        "class Product:\n",
        "    def __init__ (self, name, sales):\n",
        "        self.name= name\n",
        "        self.sales= sales\n",
        "    def getname(self):\n",
        "        return self.name\n",
        "    \n",
        "    def getsales(self):\n",
        "        return self.sales\n",
        "\n",
        "def gettopselling(productlist):\n",
        "    return nlargest(10, productlist, key=lambda product : product.getsales())"
      ],
      "execution_count": 0,
      "outputs": []
    },
    {
      "metadata": {
        "id": "AO2tv3VMVHKJ",
        "colab_type": "code",
        "colab": {}
      },
      "cell_type": "code",
      "source": [
        "# Let just focus on our list. We are not interested in customers so, only productID and purchase_count\n",
        "    \n",
        "productlist= data[['productId','purchase_count']]\n",
        "# converting to list values\n",
        "productlist=productlist.values.tolist()"
      ],
      "execution_count": 0,
      "outputs": []
    },
    {
      "metadata": {
        "id": "J6T-6MqJVHNY",
        "colab_type": "code",
        "colab": {
          "base_uri": "https://localhost:8080/",
          "height": 34
        },
        "outputId": "d3221736-8374-4f1e-f997-0cf0985baaec"
      },
      "cell_type": "code",
      "source": [
        "productlist[:5]"
      ],
      "execution_count": 79,
      "outputs": [
        {
          "output_type": "execute_result",
          "data": {
            "text/plain": [
              "[[30, 1], [45, 1], [77, 1], [78, 1], [89, 2]]"
            ]
          },
          "metadata": {
            "tags": []
          },
          "execution_count": 79
        }
      ]
    },
    {
      "metadata": {
        "id": "qSg-VkogVHVz",
        "colab_type": "code",
        "colab": {}
      },
      "cell_type": "code",
      "source": [
        "top= gettopselling(productlist)\n",
        "print('This is the most frequent sold product:')\n",
        "for i in top:\n",
        "    print(i.getname(), ':', i.getsales())"
      ],
      "execution_count": 0,
      "outputs": []
    },
    {
      "metadata": {
        "id": "Jd9S4vEnVHb2",
        "colab_type": "code",
        "colab": {}
      },
      "cell_type": "code",
      "source": [
        ""
      ],
      "execution_count": 0,
      "outputs": []
    },
    {
      "metadata": {
        "id": "_lvExc39VHY5",
        "colab_type": "code",
        "colab": {}
      },
      "cell_type": "code",
      "source": [
        ""
      ],
      "execution_count": 0,
      "outputs": []
    },
    {
      "metadata": {
        "id": "UzZph8TrVHSw",
        "colab_type": "code",
        "colab": {}
      },
      "cell_type": "code",
      "source": [
        ""
      ],
      "execution_count": 0,
      "outputs": []
    },
    {
      "metadata": {
        "id": "JwJ-1tSnVHQm",
        "colab_type": "code",
        "colab": {}
      },
      "cell_type": "code",
      "source": [
        ""
      ],
      "execution_count": 0,
      "outputs": []
    },
    {
      "metadata": {
        "id": "C3wP4wcmq5cF",
        "colab_type": "code",
        "colab": {}
      },
      "cell_type": "code",
      "source": [
        "### 4-b)-Dummy as target \n",
        "def create_data_dummy(data):\n",
        "    data_dummy = data.copy()\n",
        "    data_dummy['purchase_dummy'] = 1\n",
        "    return data_dummy"
      ],
      "execution_count": 0,
      "outputs": []
    },
    {
      "metadata": {
        "id": "dtNSDIMcrQ4A",
        "colab_type": "code",
        "colab": {}
      },
      "cell_type": "code",
      "source": [
        "data_dummy = create_data_dummy(data)"
      ],
      "execution_count": 0,
      "outputs": []
    },
    {
      "metadata": {
        "id": "FQeqe8ttyb12",
        "colab_type": "code",
        "colab": {
          "base_uri": "https://localhost:8080/",
          "height": 195
        },
        "outputId": "6b4da1fe-0f73-4ff6-d4ce-53f09fcaef9a"
      },
      "cell_type": "code",
      "source": [
        "data_dummy.head()"
      ],
      "execution_count": 23,
      "outputs": [
        {
          "output_type": "execute_result",
          "data": {
            "text/html": [
              "<div>\n",
              "<style scoped>\n",
              "    .dataframe tbody tr th:only-of-type {\n",
              "        vertical-align: middle;\n",
              "    }\n",
              "\n",
              "    .dataframe tbody tr th {\n",
              "        vertical-align: top;\n",
              "    }\n",
              "\n",
              "    .dataframe thead th {\n",
              "        text-align: right;\n",
              "    }\n",
              "</style>\n",
              "<table border=\"1\" class=\"dataframe\">\n",
              "  <thead>\n",
              "    <tr style=\"text-align: right;\">\n",
              "      <th></th>\n",
              "      <th>id</th>\n",
              "      <th>productId</th>\n",
              "      <th>purchase_count</th>\n",
              "      <th>purchase_dummy</th>\n",
              "    </tr>\n",
              "  </thead>\n",
              "  <tbody>\n",
              "    <tr>\n",
              "      <th>0</th>\n",
              "      <td>0</td>\n",
              "      <td>30</td>\n",
              "      <td>1</td>\n",
              "      <td>1</td>\n",
              "    </tr>\n",
              "    <tr>\n",
              "      <th>1</th>\n",
              "      <td>0</td>\n",
              "      <td>45</td>\n",
              "      <td>1</td>\n",
              "      <td>1</td>\n",
              "    </tr>\n",
              "    <tr>\n",
              "      <th>2</th>\n",
              "      <td>0</td>\n",
              "      <td>77</td>\n",
              "      <td>1</td>\n",
              "      <td>1</td>\n",
              "    </tr>\n",
              "    <tr>\n",
              "      <th>3</th>\n",
              "      <td>0</td>\n",
              "      <td>78</td>\n",
              "      <td>1</td>\n",
              "      <td>1</td>\n",
              "    </tr>\n",
              "    <tr>\n",
              "      <th>4</th>\n",
              "      <td>0</td>\n",
              "      <td>89</td>\n",
              "      <td>2</td>\n",
              "      <td>1</td>\n",
              "    </tr>\n",
              "  </tbody>\n",
              "</table>\n",
              "</div>"
            ],
            "text/plain": [
              "   id  productId  purchase_count  purchase_dummy\n",
              "0   0         30               1               1\n",
              "1   0         45               1               1\n",
              "2   0         77               1               1\n",
              "3   0         78               1               1\n",
              "4   0         89               2               1"
            ]
          },
          "metadata": {
            "tags": []
          },
          "execution_count": 23
        }
      ]
    },
    {
      "metadata": {
        "id": "e_rsFroyrTXV",
        "colab_type": "code",
        "colab": {}
      },
      "cell_type": "code",
      "source": [
        "### 4-c)-Normalize item\n",
        "\"\"\"\n",
        "we normalize purchase frequency of each item across users by first creating a user-item matrix \n",
        "\n",
        "\"\"\"\n",
        "df_matrix = pd.pivot_table(data, values='purchase_count', index='id', columns='productId')"
      ],
      "execution_count": 0,
      "outputs": []
    },
    {
      "metadata": {
        "id": "Fba9TbRorjoE",
        "colab_type": "code",
        "colab": {
          "base_uri": "https://localhost:8080/",
          "height": 254
        },
        "outputId": "3d85b1a3-01a4-4f2f-d322-187827f63774"
      },
      "cell_type": "code",
      "source": [
        "df_matrix.head()"
      ],
      "execution_count": 25,
      "outputs": [
        {
          "output_type": "execute_result",
          "data": {
            "text/html": [
              "<div>\n",
              "<style scoped>\n",
              "    .dataframe tbody tr th:only-of-type {\n",
              "        vertical-align: middle;\n",
              "    }\n",
              "\n",
              "    .dataframe tbody tr th {\n",
              "        vertical-align: top;\n",
              "    }\n",
              "\n",
              "    .dataframe thead th {\n",
              "        text-align: right;\n",
              "    }\n",
              "</style>\n",
              "<table border=\"1\" class=\"dataframe\">\n",
              "  <thead>\n",
              "    <tr style=\"text-align: right;\">\n",
              "      <th>productId</th>\n",
              "      <th>1</th>\n",
              "      <th>2</th>\n",
              "      <th>3</th>\n",
              "      <th>4</th>\n",
              "      <th>5</th>\n",
              "      <th>6</th>\n",
              "      <th>7</th>\n",
              "      <th>8</th>\n",
              "      <th>9</th>\n",
              "      <th>10</th>\n",
              "      <th>...</th>\n",
              "      <th>241</th>\n",
              "      <th>242</th>\n",
              "      <th>243</th>\n",
              "      <th>244</th>\n",
              "      <th>245</th>\n",
              "      <th>246</th>\n",
              "      <th>247</th>\n",
              "      <th>248</th>\n",
              "      <th>249</th>\n",
              "      <th>250</th>\n",
              "    </tr>\n",
              "    <tr>\n",
              "      <th>id</th>\n",
              "      <th></th>\n",
              "      <th></th>\n",
              "      <th></th>\n",
              "      <th></th>\n",
              "      <th></th>\n",
              "      <th></th>\n",
              "      <th></th>\n",
              "      <th></th>\n",
              "      <th></th>\n",
              "      <th></th>\n",
              "      <th></th>\n",
              "      <th></th>\n",
              "      <th></th>\n",
              "      <th></th>\n",
              "      <th></th>\n",
              "      <th></th>\n",
              "      <th></th>\n",
              "      <th></th>\n",
              "      <th></th>\n",
              "      <th></th>\n",
              "      <th></th>\n",
              "    </tr>\n",
              "  </thead>\n",
              "  <tbody>\n",
              "    <tr>\n",
              "      <th>0</th>\n",
              "      <td>NaN</td>\n",
              "      <td>NaN</td>\n",
              "      <td>NaN</td>\n",
              "      <td>NaN</td>\n",
              "      <td>NaN</td>\n",
              "      <td>NaN</td>\n",
              "      <td>NaN</td>\n",
              "      <td>NaN</td>\n",
              "      <td>NaN</td>\n",
              "      <td>NaN</td>\n",
              "      <td>...</td>\n",
              "      <td>1.0</td>\n",
              "      <td>NaN</td>\n",
              "      <td>NaN</td>\n",
              "      <td>NaN</td>\n",
              "      <td>NaN</td>\n",
              "      <td>NaN</td>\n",
              "      <td>NaN</td>\n",
              "      <td>NaN</td>\n",
              "      <td>NaN</td>\n",
              "      <td>NaN</td>\n",
              "    </tr>\n",
              "    <tr>\n",
              "      <th>1</th>\n",
              "      <td>NaN</td>\n",
              "      <td>NaN</td>\n",
              "      <td>NaN</td>\n",
              "      <td>NaN</td>\n",
              "      <td>NaN</td>\n",
              "      <td>NaN</td>\n",
              "      <td>NaN</td>\n",
              "      <td>NaN</td>\n",
              "      <td>NaN</td>\n",
              "      <td>NaN</td>\n",
              "      <td>...</td>\n",
              "      <td>NaN</td>\n",
              "      <td>NaN</td>\n",
              "      <td>NaN</td>\n",
              "      <td>NaN</td>\n",
              "      <td>NaN</td>\n",
              "      <td>NaN</td>\n",
              "      <td>NaN</td>\n",
              "      <td>NaN</td>\n",
              "      <td>NaN</td>\n",
              "      <td>NaN</td>\n",
              "    </tr>\n",
              "    <tr>\n",
              "      <th>2</th>\n",
              "      <td>NaN</td>\n",
              "      <td>NaN</td>\n",
              "      <td>NaN</td>\n",
              "      <td>NaN</td>\n",
              "      <td>NaN</td>\n",
              "      <td>NaN</td>\n",
              "      <td>NaN</td>\n",
              "      <td>NaN</td>\n",
              "      <td>NaN</td>\n",
              "      <td>NaN</td>\n",
              "      <td>...</td>\n",
              "      <td>NaN</td>\n",
              "      <td>NaN</td>\n",
              "      <td>NaN</td>\n",
              "      <td>NaN</td>\n",
              "      <td>NaN</td>\n",
              "      <td>NaN</td>\n",
              "      <td>NaN</td>\n",
              "      <td>NaN</td>\n",
              "      <td>NaN</td>\n",
              "      <td>NaN</td>\n",
              "    </tr>\n",
              "    <tr>\n",
              "      <th>3</th>\n",
              "      <td>NaN</td>\n",
              "      <td>NaN</td>\n",
              "      <td>NaN</td>\n",
              "      <td>NaN</td>\n",
              "      <td>NaN</td>\n",
              "      <td>NaN</td>\n",
              "      <td>NaN</td>\n",
              "      <td>NaN</td>\n",
              "      <td>NaN</td>\n",
              "      <td>NaN</td>\n",
              "      <td>...</td>\n",
              "      <td>NaN</td>\n",
              "      <td>NaN</td>\n",
              "      <td>NaN</td>\n",
              "      <td>NaN</td>\n",
              "      <td>NaN</td>\n",
              "      <td>NaN</td>\n",
              "      <td>NaN</td>\n",
              "      <td>NaN</td>\n",
              "      <td>NaN</td>\n",
              "      <td>NaN</td>\n",
              "    </tr>\n",
              "    <tr>\n",
              "      <th>4</th>\n",
              "      <td>NaN</td>\n",
              "      <td>NaN</td>\n",
              "      <td>NaN</td>\n",
              "      <td>NaN</td>\n",
              "      <td>NaN</td>\n",
              "      <td>NaN</td>\n",
              "      <td>NaN</td>\n",
              "      <td>NaN</td>\n",
              "      <td>NaN</td>\n",
              "      <td>NaN</td>\n",
              "      <td>...</td>\n",
              "      <td>NaN</td>\n",
              "      <td>NaN</td>\n",
              "      <td>NaN</td>\n",
              "      <td>NaN</td>\n",
              "      <td>NaN</td>\n",
              "      <td>NaN</td>\n",
              "      <td>NaN</td>\n",
              "      <td>NaN</td>\n",
              "      <td>NaN</td>\n",
              "      <td>NaN</td>\n",
              "    </tr>\n",
              "  </tbody>\n",
              "</table>\n",
              "<p>5 rows × 250 columns</p>\n",
              "</div>"
            ],
            "text/plain": [
              "productId  1    2    3    4    5    6    7    8    9    10  ...   241  242  \\\n",
              "id                                                          ...              \n",
              "0          NaN  NaN  NaN  NaN  NaN  NaN  NaN  NaN  NaN  NaN ...   1.0  NaN   \n",
              "1          NaN  NaN  NaN  NaN  NaN  NaN  NaN  NaN  NaN  NaN ...   NaN  NaN   \n",
              "2          NaN  NaN  NaN  NaN  NaN  NaN  NaN  NaN  NaN  NaN ...   NaN  NaN   \n",
              "3          NaN  NaN  NaN  NaN  NaN  NaN  NaN  NaN  NaN  NaN ...   NaN  NaN   \n",
              "4          NaN  NaN  NaN  NaN  NaN  NaN  NaN  NaN  NaN  NaN ...   NaN  NaN   \n",
              "\n",
              "productId  243  244  245  246  247  248  249  250  \n",
              "id                                                 \n",
              "0          NaN  NaN  NaN  NaN  NaN  NaN  NaN  NaN  \n",
              "1          NaN  NaN  NaN  NaN  NaN  NaN  NaN  NaN  \n",
              "2          NaN  NaN  NaN  NaN  NaN  NaN  NaN  NaN  \n",
              "3          NaN  NaN  NaN  NaN  NaN  NaN  NaN  NaN  \n",
              "4          NaN  NaN  NaN  NaN  NaN  NaN  NaN  NaN  \n",
              "\n",
              "[5 rows x 250 columns]"
            ]
          },
          "metadata": {
            "tags": []
          },
          "execution_count": 25
        }
      ]
    },
    {
      "metadata": {
        "id": "GmABscQbrpHq",
        "colab_type": "code",
        "colab": {
          "base_uri": "https://localhost:8080/",
          "height": 34
        },
        "outputId": "ada046c3-2361-4e58-bbfc-f7bf5865fb15"
      },
      "cell_type": "code",
      "source": [
        "df_matrix.shape"
      ],
      "execution_count": 26,
      "outputs": [
        {
          "output_type": "execute_result",
          "data": {
            "text/plain": [
              "(2378, 250)"
            ]
          },
          "metadata": {
            "tags": []
          },
          "execution_count": 26
        }
      ]
    },
    {
      "metadata": {
        "id": "PfyHzkE3rs2X",
        "colab_type": "code",
        "colab": {
          "base_uri": "https://localhost:8080/",
          "height": 254
        },
        "outputId": "02eaa8e5-937f-42fa-aa92-e496cf71f230"
      },
      "cell_type": "code",
      "source": [
        "df_matrix_norm = (df_matrix-df_matrix.min())/(df_matrix.max()-df_matrix.min())\n",
        "\n",
        "df_matrix_norm.head()"
      ],
      "execution_count": 27,
      "outputs": [
        {
          "output_type": "execute_result",
          "data": {
            "text/html": [
              "<div>\n",
              "<style scoped>\n",
              "    .dataframe tbody tr th:only-of-type {\n",
              "        vertical-align: middle;\n",
              "    }\n",
              "\n",
              "    .dataframe tbody tr th {\n",
              "        vertical-align: top;\n",
              "    }\n",
              "\n",
              "    .dataframe thead th {\n",
              "        text-align: right;\n",
              "    }\n",
              "</style>\n",
              "<table border=\"1\" class=\"dataframe\">\n",
              "  <thead>\n",
              "    <tr style=\"text-align: right;\">\n",
              "      <th>productId</th>\n",
              "      <th>1</th>\n",
              "      <th>2</th>\n",
              "      <th>3</th>\n",
              "      <th>4</th>\n",
              "      <th>5</th>\n",
              "      <th>6</th>\n",
              "      <th>7</th>\n",
              "      <th>8</th>\n",
              "      <th>9</th>\n",
              "      <th>10</th>\n",
              "      <th>...</th>\n",
              "      <th>241</th>\n",
              "      <th>242</th>\n",
              "      <th>243</th>\n",
              "      <th>244</th>\n",
              "      <th>245</th>\n",
              "      <th>246</th>\n",
              "      <th>247</th>\n",
              "      <th>248</th>\n",
              "      <th>249</th>\n",
              "      <th>250</th>\n",
              "    </tr>\n",
              "    <tr>\n",
              "      <th>id</th>\n",
              "      <th></th>\n",
              "      <th></th>\n",
              "      <th></th>\n",
              "      <th></th>\n",
              "      <th></th>\n",
              "      <th></th>\n",
              "      <th></th>\n",
              "      <th></th>\n",
              "      <th></th>\n",
              "      <th></th>\n",
              "      <th></th>\n",
              "      <th></th>\n",
              "      <th></th>\n",
              "      <th></th>\n",
              "      <th></th>\n",
              "      <th></th>\n",
              "      <th></th>\n",
              "      <th></th>\n",
              "      <th></th>\n",
              "      <th></th>\n",
              "      <th></th>\n",
              "    </tr>\n",
              "  </thead>\n",
              "  <tbody>\n",
              "    <tr>\n",
              "      <th>0</th>\n",
              "      <td>NaN</td>\n",
              "      <td>NaN</td>\n",
              "      <td>NaN</td>\n",
              "      <td>NaN</td>\n",
              "      <td>NaN</td>\n",
              "      <td>NaN</td>\n",
              "      <td>NaN</td>\n",
              "      <td>NaN</td>\n",
              "      <td>NaN</td>\n",
              "      <td>NaN</td>\n",
              "      <td>...</td>\n",
              "      <td>0.0</td>\n",
              "      <td>NaN</td>\n",
              "      <td>NaN</td>\n",
              "      <td>NaN</td>\n",
              "      <td>NaN</td>\n",
              "      <td>NaN</td>\n",
              "      <td>NaN</td>\n",
              "      <td>NaN</td>\n",
              "      <td>NaN</td>\n",
              "      <td>NaN</td>\n",
              "    </tr>\n",
              "    <tr>\n",
              "      <th>1</th>\n",
              "      <td>NaN</td>\n",
              "      <td>NaN</td>\n",
              "      <td>NaN</td>\n",
              "      <td>NaN</td>\n",
              "      <td>NaN</td>\n",
              "      <td>NaN</td>\n",
              "      <td>NaN</td>\n",
              "      <td>NaN</td>\n",
              "      <td>NaN</td>\n",
              "      <td>NaN</td>\n",
              "      <td>...</td>\n",
              "      <td>NaN</td>\n",
              "      <td>NaN</td>\n",
              "      <td>NaN</td>\n",
              "      <td>NaN</td>\n",
              "      <td>NaN</td>\n",
              "      <td>NaN</td>\n",
              "      <td>NaN</td>\n",
              "      <td>NaN</td>\n",
              "      <td>NaN</td>\n",
              "      <td>NaN</td>\n",
              "    </tr>\n",
              "    <tr>\n",
              "      <th>2</th>\n",
              "      <td>NaN</td>\n",
              "      <td>NaN</td>\n",
              "      <td>NaN</td>\n",
              "      <td>NaN</td>\n",
              "      <td>NaN</td>\n",
              "      <td>NaN</td>\n",
              "      <td>NaN</td>\n",
              "      <td>NaN</td>\n",
              "      <td>NaN</td>\n",
              "      <td>NaN</td>\n",
              "      <td>...</td>\n",
              "      <td>NaN</td>\n",
              "      <td>NaN</td>\n",
              "      <td>NaN</td>\n",
              "      <td>NaN</td>\n",
              "      <td>NaN</td>\n",
              "      <td>NaN</td>\n",
              "      <td>NaN</td>\n",
              "      <td>NaN</td>\n",
              "      <td>NaN</td>\n",
              "      <td>NaN</td>\n",
              "    </tr>\n",
              "    <tr>\n",
              "      <th>3</th>\n",
              "      <td>NaN</td>\n",
              "      <td>NaN</td>\n",
              "      <td>NaN</td>\n",
              "      <td>NaN</td>\n",
              "      <td>NaN</td>\n",
              "      <td>NaN</td>\n",
              "      <td>NaN</td>\n",
              "      <td>NaN</td>\n",
              "      <td>NaN</td>\n",
              "      <td>NaN</td>\n",
              "      <td>...</td>\n",
              "      <td>NaN</td>\n",
              "      <td>NaN</td>\n",
              "      <td>NaN</td>\n",
              "      <td>NaN</td>\n",
              "      <td>NaN</td>\n",
              "      <td>NaN</td>\n",
              "      <td>NaN</td>\n",
              "      <td>NaN</td>\n",
              "      <td>NaN</td>\n",
              "      <td>NaN</td>\n",
              "    </tr>\n",
              "    <tr>\n",
              "      <th>4</th>\n",
              "      <td>NaN</td>\n",
              "      <td>NaN</td>\n",
              "      <td>NaN</td>\n",
              "      <td>NaN</td>\n",
              "      <td>NaN</td>\n",
              "      <td>NaN</td>\n",
              "      <td>NaN</td>\n",
              "      <td>NaN</td>\n",
              "      <td>NaN</td>\n",
              "      <td>NaN</td>\n",
              "      <td>...</td>\n",
              "      <td>NaN</td>\n",
              "      <td>NaN</td>\n",
              "      <td>NaN</td>\n",
              "      <td>NaN</td>\n",
              "      <td>NaN</td>\n",
              "      <td>NaN</td>\n",
              "      <td>NaN</td>\n",
              "      <td>NaN</td>\n",
              "      <td>NaN</td>\n",
              "      <td>NaN</td>\n",
              "    </tr>\n",
              "  </tbody>\n",
              "</table>\n",
              "<p>5 rows × 250 columns</p>\n",
              "</div>"
            ],
            "text/plain": [
              "productId  1    2    3    4    5    6    7    8    9    10  ...   241  242  \\\n",
              "id                                                          ...              \n",
              "0          NaN  NaN  NaN  NaN  NaN  NaN  NaN  NaN  NaN  NaN ...   0.0  NaN   \n",
              "1          NaN  NaN  NaN  NaN  NaN  NaN  NaN  NaN  NaN  NaN ...   NaN  NaN   \n",
              "2          NaN  NaN  NaN  NaN  NaN  NaN  NaN  NaN  NaN  NaN ...   NaN  NaN   \n",
              "3          NaN  NaN  NaN  NaN  NaN  NaN  NaN  NaN  NaN  NaN ...   NaN  NaN   \n",
              "4          NaN  NaN  NaN  NaN  NaN  NaN  NaN  NaN  NaN  NaN ...   NaN  NaN   \n",
              "\n",
              "productId  243  244  245  246  247  248  249  250  \n",
              "id                                                 \n",
              "0          NaN  NaN  NaN  NaN  NaN  NaN  NaN  NaN  \n",
              "1          NaN  NaN  NaN  NaN  NaN  NaN  NaN  NaN  \n",
              "2          NaN  NaN  NaN  NaN  NaN  NaN  NaN  NaN  \n",
              "3          NaN  NaN  NaN  NaN  NaN  NaN  NaN  NaN  \n",
              "4          NaN  NaN  NaN  NaN  NaN  NaN  NaN  NaN  \n",
              "\n",
              "[5 rows x 250 columns]"
            ]
          },
          "metadata": {
            "tags": []
          },
          "execution_count": 27
        }
      ]
    },
    {
      "metadata": {
        "id": "0b58yH_xryRu",
        "colab_type": "code",
        "colab": {
          "base_uri": "https://localhost:8080/",
          "height": 34
        },
        "outputId": "6a15ce33-4d59-4b69-d0bf-bfdddf676d64"
      },
      "cell_type": "code",
      "source": [
        "print(df_matrix_norm.shape)"
      ],
      "execution_count": 28,
      "outputs": [
        {
          "output_type": "stream",
          "text": [
            "(2378, 250)\n"
          ],
          "name": "stdout"
        }
      ]
    },
    {
      "metadata": {
        "id": "Z7S6mGvyr1Bd",
        "colab_type": "code",
        "colab": {}
      },
      "cell_type": "code",
      "source": [
        "### 4-d)- create a table for input to the modeling\n",
        "\n",
        "d = df_matrix_norm.reset_index()\n",
        "d.index.names = ['scaled_purchase_freq']\n",
        "data_norm = pd.melt(d, id_vars=['id'], value_name='scaled_purchase_freq').dropna()"
      ],
      "execution_count": 0,
      "outputs": []
    },
    {
      "metadata": {
        "id": "NCG8znk2r7Wn",
        "colab_type": "code",
        "colab": {
          "base_uri": "https://localhost:8080/",
          "height": 195
        },
        "outputId": "654ea49d-aac2-489a-b679-de31971dc6c6"
      },
      "cell_type": "code",
      "source": [
        "data_norm.head()"
      ],
      "execution_count": 30,
      "outputs": [
        {
          "output_type": "execute_result",
          "data": {
            "text/html": [
              "<div>\n",
              "<style scoped>\n",
              "    .dataframe tbody tr th:only-of-type {\n",
              "        vertical-align: middle;\n",
              "    }\n",
              "\n",
              "    .dataframe tbody tr th {\n",
              "        vertical-align: top;\n",
              "    }\n",
              "\n",
              "    .dataframe thead th {\n",
              "        text-align: right;\n",
              "    }\n",
              "</style>\n",
              "<table border=\"1\" class=\"dataframe\">\n",
              "  <thead>\n",
              "    <tr style=\"text-align: right;\">\n",
              "      <th></th>\n",
              "      <th>id</th>\n",
              "      <th>productId</th>\n",
              "      <th>scaled_purchase_freq</th>\n",
              "    </tr>\n",
              "  </thead>\n",
              "  <tbody>\n",
              "    <tr>\n",
              "      <th>11</th>\n",
              "      <td>12</td>\n",
              "      <td>1</td>\n",
              "      <td>0.0</td>\n",
              "    </tr>\n",
              "    <tr>\n",
              "      <th>38</th>\n",
              "      <td>41</td>\n",
              "      <td>1</td>\n",
              "      <td>0.0</td>\n",
              "    </tr>\n",
              "    <tr>\n",
              "      <th>40</th>\n",
              "      <td>43</td>\n",
              "      <td>1</td>\n",
              "      <td>0.0</td>\n",
              "    </tr>\n",
              "    <tr>\n",
              "      <th>93</th>\n",
              "      <td>96</td>\n",
              "      <td>1</td>\n",
              "      <td>0.0</td>\n",
              "    </tr>\n",
              "    <tr>\n",
              "      <th>100</th>\n",
              "      <td>103</td>\n",
              "      <td>1</td>\n",
              "      <td>0.0</td>\n",
              "    </tr>\n",
              "  </tbody>\n",
              "</table>\n",
              "</div>"
            ],
            "text/plain": [
              "      id productId  scaled_purchase_freq\n",
              "11    12         1                   0.0\n",
              "38    41         1                   0.0\n",
              "40    43         1                   0.0\n",
              "93    96         1                   0.0\n",
              "100  103         1                   0.0"
            ]
          },
          "metadata": {
            "tags": []
          },
          "execution_count": 30
        }
      ]
    },
    {
      "metadata": {
        "id": "x13h0mgDsAgu",
        "colab_type": "code",
        "colab": {
          "base_uri": "https://localhost:8080/",
          "height": 34
        },
        "outputId": "161f2a58-8053-464a-f1fb-db0b61be9f95"
      },
      "cell_type": "code",
      "source": [
        "data_norm.shape"
      ],
      "execution_count": 31,
      "outputs": [
        {
          "output_type": "execute_result",
          "data": {
            "text/plain": [
              "(22530, 3)"
            ]
          },
          "metadata": {
            "tags": []
          },
          "execution_count": 31
        }
      ]
    },
    {
      "metadata": {
        "id": "yzHVuK6qsCyG",
        "colab_type": "code",
        "colab": {}
      },
      "cell_type": "code",
      "source": [
        "###4-e) a function for normalizing data\n",
        "def normalize_data(data):\n",
        "    df_matrix = pd.pivot_table(data, values='purchase_count', index='id', columns='productId')\n",
        "    df_matrix_norm = (df_matrix-df_matrix.min())/(df_matrix.max()-df_matrix.min())\n",
        "    d = df_matrix_norm.reset_index()\n",
        "    d.index.names = ['scaled_purchase_freq']\n",
        "    return pd.melt(d, id_vars=['id'], value_name='scaled_purchase_freq').dropna()"
      ],
      "execution_count": 0,
      "outputs": []
    },
    {
      "metadata": {
        "id": "hz_2zsNusOIj",
        "colab_type": "code",
        "colab": {}
      },
      "cell_type": "code",
      "source": [
        "# 5)-Split train and test set"
      ],
      "execution_count": 0,
      "outputs": []
    },
    {
      "metadata": {
        "id": "nHwctOiDsngJ",
        "colab_type": "code",
        "colab": {
          "base_uri": "https://localhost:8080/",
          "height": 34
        },
        "outputId": "4b67c338-27e8-44ea-b9eb-337cd51f3461"
      },
      "cell_type": "code",
      "source": [
        "train, test = train_test_split(data, test_size = .2)\n",
        "print(train.shape, test.shape)"
      ],
      "execution_count": 34,
      "outputs": [
        {
          "output_type": "stream",
          "text": [
            "(19848, 3) (4963, 3)\n"
          ],
          "name": "stdout"
        }
      ]
    },
    {
      "metadata": {
        "id": "wASbW7iIsni6",
        "colab_type": "code",
        "colab": {}
      },
      "cell_type": "code",
      "source": [
        "\"\"\"convert dataframe to SFrame \"\"\"\n",
        "train_data = tc.SFrame(train)\n",
        "test_data = tc.SFrame(test)"
      ],
      "execution_count": 0,
      "outputs": []
    },
    {
      "metadata": {
        "id": "mQaoby4qsnlw",
        "colab_type": "code",
        "colab": {
          "base_uri": "https://localhost:8080/",
          "height": 271
        },
        "outputId": "16259aa5-526d-4ba0-92dd-b99dd557b509"
      },
      "cell_type": "code",
      "source": [
        "train_data"
      ],
      "execution_count": 36,
      "outputs": [
        {
          "output_type": "execute_result",
          "data": {
            "text/html": [
              "<div style=\"max-height:1000px;max-width:1500px;overflow:auto;\"><table frame=\"box\" rules=\"cols\">\n",
              "    <tr>\n",
              "        <th style=\"padding-left: 1em; padding-right: 1em; text-align: center\">id</th>\n",
              "        <th style=\"padding-left: 1em; padding-right: 1em; text-align: center\">productId</th>\n",
              "        <th style=\"padding-left: 1em; padding-right: 1em; text-align: center\">purchase_count</th>\n",
              "    </tr>\n",
              "    <tr>\n",
              "        <td style=\"padding-left: 1em; padding-right: 1em; text-align: center; vertical-align: top\">819</td>\n",
              "        <td style=\"padding-left: 1em; padding-right: 1em; text-align: center; vertical-align: top\">234</td>\n",
              "        <td style=\"padding-left: 1em; padding-right: 1em; text-align: center; vertical-align: top\">1</td>\n",
              "    </tr>\n",
              "    <tr>\n",
              "        <td style=\"padding-left: 1em; padding-right: 1em; text-align: center; vertical-align: top\">373</td>\n",
              "        <td style=\"padding-left: 1em; padding-right: 1em; text-align: center; vertical-align: top\">58</td>\n",
              "        <td style=\"padding-left: 1em; padding-right: 1em; text-align: center; vertical-align: top\">1</td>\n",
              "    </tr>\n",
              "    <tr>\n",
              "        <td style=\"padding-left: 1em; padding-right: 1em; text-align: center; vertical-align: top\">990</td>\n",
              "        <td style=\"padding-left: 1em; padding-right: 1em; text-align: center; vertical-align: top\">22</td>\n",
              "        <td style=\"padding-left: 1em; padding-right: 1em; text-align: center; vertical-align: top\">1</td>\n",
              "    </tr>\n",
              "    <tr>\n",
              "        <td style=\"padding-left: 1em; padding-right: 1em; text-align: center; vertical-align: top\">1096</td>\n",
              "        <td style=\"padding-left: 1em; padding-right: 1em; text-align: center; vertical-align: top\">185</td>\n",
              "        <td style=\"padding-left: 1em; padding-right: 1em; text-align: center; vertical-align: top\">1</td>\n",
              "    </tr>\n",
              "    <tr>\n",
              "        <td style=\"padding-left: 1em; padding-right: 1em; text-align: center; vertical-align: top\">2448</td>\n",
              "        <td style=\"padding-left: 1em; padding-right: 1em; text-align: center; vertical-align: top\">200</td>\n",
              "        <td style=\"padding-left: 1em; padding-right: 1em; text-align: center; vertical-align: top\">1</td>\n",
              "    </tr>\n",
              "    <tr>\n",
              "        <td style=\"padding-left: 1em; padding-right: 1em; text-align: center; vertical-align: top\">1963</td>\n",
              "        <td style=\"padding-left: 1em; padding-right: 1em; text-align: center; vertical-align: top\">213</td>\n",
              "        <td style=\"padding-left: 1em; padding-right: 1em; text-align: center; vertical-align: top\">1</td>\n",
              "    </tr>\n",
              "    <tr>\n",
              "        <td style=\"padding-left: 1em; padding-right: 1em; text-align: center; vertical-align: top\">2452</td>\n",
              "        <td style=\"padding-left: 1em; padding-right: 1em; text-align: center; vertical-align: top\">241</td>\n",
              "        <td style=\"padding-left: 1em; padding-right: 1em; text-align: center; vertical-align: top\">1</td>\n",
              "    </tr>\n",
              "    <tr>\n",
              "        <td style=\"padding-left: 1em; padding-right: 1em; text-align: center; vertical-align: top\">2403</td>\n",
              "        <td style=\"padding-left: 1em; padding-right: 1em; text-align: center; vertical-align: top\">63</td>\n",
              "        <td style=\"padding-left: 1em; padding-right: 1em; text-align: center; vertical-align: top\">1</td>\n",
              "    </tr>\n",
              "    <tr>\n",
              "        <td style=\"padding-left: 1em; padding-right: 1em; text-align: center; vertical-align: top\">2011</td>\n",
              "        <td style=\"padding-left: 1em; padding-right: 1em; text-align: center; vertical-align: top\">207</td>\n",
              "        <td style=\"padding-left: 1em; padding-right: 1em; text-align: center; vertical-align: top\">1</td>\n",
              "    </tr>\n",
              "    <tr>\n",
              "        <td style=\"padding-left: 1em; padding-right: 1em; text-align: center; vertical-align: top\">501</td>\n",
              "        <td style=\"padding-left: 1em; padding-right: 1em; text-align: center; vertical-align: top\">151</td>\n",
              "        <td style=\"padding-left: 1em; padding-right: 1em; text-align: center; vertical-align: top\">1</td>\n",
              "    </tr>\n",
              "</table>\n",
              "[19848 rows x 3 columns]<br/>Note: Only the head of the SFrame is printed.<br/>You can use print_rows(num_rows=m, num_columns=n) to print more rows and columns.\n",
              "</div>"
            ],
            "text/plain": [
              "Columns:\n",
              "\tid\tint\n",
              "\tproductId\tint\n",
              "\tpurchase_count\tint\n",
              "\n",
              "Rows: 19848\n",
              "\n",
              "Data:\n",
              "+------+-----------+----------------+\n",
              "|  id  | productId | purchase_count |\n",
              "+------+-----------+----------------+\n",
              "| 819  |    234    |       1        |\n",
              "| 373  |     58    |       1        |\n",
              "| 990  |     22    |       1        |\n",
              "| 1096 |    185    |       1        |\n",
              "| 2448 |    200    |       1        |\n",
              "| 1963 |    213    |       1        |\n",
              "| 2452 |    241    |       1        |\n",
              "| 2403 |     63    |       1        |\n",
              "| 2011 |    207    |       1        |\n",
              "| 501  |    151    |       1        |\n",
              "+------+-----------+----------------+\n",
              "[19848 rows x 3 columns]\n",
              "Note: Only the head of the SFrame is printed.\n",
              "You can use print_rows(num_rows=m, num_columns=n) to print more rows and columns."
            ]
          },
          "metadata": {
            "tags": []
          },
          "execution_count": 36
        }
      ]
    },
    {
      "metadata": {
        "id": "-DfWqtgAsnoZ",
        "colab_type": "code",
        "colab": {
          "base_uri": "https://localhost:8080/",
          "height": 271
        },
        "outputId": "572a68d3-2e39-49bb-fc9c-3e812240e14c"
      },
      "cell_type": "code",
      "source": [
        "test_data"
      ],
      "execution_count": 37,
      "outputs": [
        {
          "output_type": "execute_result",
          "data": {
            "text/html": [
              "<div style=\"max-height:1000px;max-width:1500px;overflow:auto;\"><table frame=\"box\" rules=\"cols\">\n",
              "    <tr>\n",
              "        <th style=\"padding-left: 1em; padding-right: 1em; text-align: center\">id</th>\n",
              "        <th style=\"padding-left: 1em; padding-right: 1em; text-align: center\">productId</th>\n",
              "        <th style=\"padding-left: 1em; padding-right: 1em; text-align: center\">purchase_count</th>\n",
              "    </tr>\n",
              "    <tr>\n",
              "        <td style=\"padding-left: 1em; padding-right: 1em; text-align: center; vertical-align: top\">2378</td>\n",
              "        <td style=\"padding-left: 1em; padding-right: 1em; text-align: center; vertical-align: top\">216</td>\n",
              "        <td style=\"padding-left: 1em; padding-right: 1em; text-align: center; vertical-align: top\">1</td>\n",
              "    </tr>\n",
              "    <tr>\n",
              "        <td style=\"padding-left: 1em; padding-right: 1em; text-align: center; vertical-align: top\">567</td>\n",
              "        <td style=\"padding-left: 1em; padding-right: 1em; text-align: center; vertical-align: top\">230</td>\n",
              "        <td style=\"padding-left: 1em; padding-right: 1em; text-align: center; vertical-align: top\">1</td>\n",
              "    </tr>\n",
              "    <tr>\n",
              "        <td style=\"padding-left: 1em; padding-right: 1em; text-align: center; vertical-align: top\">2439</td>\n",
              "        <td style=\"padding-left: 1em; padding-right: 1em; text-align: center; vertical-align: top\">190</td>\n",
              "        <td style=\"padding-left: 1em; padding-right: 1em; text-align: center; vertical-align: top\">1</td>\n",
              "    </tr>\n",
              "    <tr>\n",
              "        <td style=\"padding-left: 1em; padding-right: 1em; text-align: center; vertical-align: top\">1702</td>\n",
              "        <td style=\"padding-left: 1em; padding-right: 1em; text-align: center; vertical-align: top\">234</td>\n",
              "        <td style=\"padding-left: 1em; padding-right: 1em; text-align: center; vertical-align: top\">1</td>\n",
              "    </tr>\n",
              "    <tr>\n",
              "        <td style=\"padding-left: 1em; padding-right: 1em; text-align: center; vertical-align: top\">413</td>\n",
              "        <td style=\"padding-left: 1em; padding-right: 1em; text-align: center; vertical-align: top\">160</td>\n",
              "        <td style=\"padding-left: 1em; padding-right: 1em; text-align: center; vertical-align: top\">1</td>\n",
              "    </tr>\n",
              "    <tr>\n",
              "        <td style=\"padding-left: 1em; padding-right: 1em; text-align: center; vertical-align: top\">1347</td>\n",
              "        <td style=\"padding-left: 1em; padding-right: 1em; text-align: center; vertical-align: top\">116</td>\n",
              "        <td style=\"padding-left: 1em; padding-right: 1em; text-align: center; vertical-align: top\">1</td>\n",
              "    </tr>\n",
              "    <tr>\n",
              "        <td style=\"padding-left: 1em; padding-right: 1em; text-align: center; vertical-align: top\">165</td>\n",
              "        <td style=\"padding-left: 1em; padding-right: 1em; text-align: center; vertical-align: top\">121</td>\n",
              "        <td style=\"padding-left: 1em; padding-right: 1em; text-align: center; vertical-align: top\">1</td>\n",
              "    </tr>\n",
              "    <tr>\n",
              "        <td style=\"padding-left: 1em; padding-right: 1em; text-align: center; vertical-align: top\">2486</td>\n",
              "        <td style=\"padding-left: 1em; padding-right: 1em; text-align: center; vertical-align: top\">31</td>\n",
              "        <td style=\"padding-left: 1em; padding-right: 1em; text-align: center; vertical-align: top\">1</td>\n",
              "    </tr>\n",
              "    <tr>\n",
              "        <td style=\"padding-left: 1em; padding-right: 1em; text-align: center; vertical-align: top\">1237</td>\n",
              "        <td style=\"padding-left: 1em; padding-right: 1em; text-align: center; vertical-align: top\">137</td>\n",
              "        <td style=\"padding-left: 1em; padding-right: 1em; text-align: center; vertical-align: top\">1</td>\n",
              "    </tr>\n",
              "    <tr>\n",
              "        <td style=\"padding-left: 1em; padding-right: 1em; text-align: center; vertical-align: top\">23</td>\n",
              "        <td style=\"padding-left: 1em; padding-right: 1em; text-align: center; vertical-align: top\">9</td>\n",
              "        <td style=\"padding-left: 1em; padding-right: 1em; text-align: center; vertical-align: top\">1</td>\n",
              "    </tr>\n",
              "</table>\n",
              "[4963 rows x 3 columns]<br/>Note: Only the head of the SFrame is printed.<br/>You can use print_rows(num_rows=m, num_columns=n) to print more rows and columns.\n",
              "</div>"
            ],
            "text/plain": [
              "Columns:\n",
              "\tid\tint\n",
              "\tproductId\tint\n",
              "\tpurchase_count\tint\n",
              "\n",
              "Rows: 4963\n",
              "\n",
              "Data:\n",
              "+------+-----------+----------------+\n",
              "|  id  | productId | purchase_count |\n",
              "+------+-----------+----------------+\n",
              "| 2378 |    216    |       1        |\n",
              "| 567  |    230    |       1        |\n",
              "| 2439 |    190    |       1        |\n",
              "| 1702 |    234    |       1        |\n",
              "| 413  |    160    |       1        |\n",
              "| 1347 |    116    |       1        |\n",
              "| 165  |    121    |       1        |\n",
              "| 2486 |     31    |       1        |\n",
              "| 1237 |    137    |       1        |\n",
              "|  23  |     9     |       1        |\n",
              "+------+-----------+----------------+\n",
              "[4963 rows x 3 columns]\n",
              "Note: Only the head of the SFrame is printed.\n",
              "You can use print_rows(num_rows=m, num_columns=n) to print more rows and columns."
            ]
          },
          "metadata": {
            "tags": []
          },
          "execution_count": 37
        }
      ]
    },
    {
      "metadata": {
        "id": "RUiWbUERsnrB",
        "colab_type": "code",
        "colab": {}
      },
      "cell_type": "code",
      "source": [
        "### 5.2)- Define a split_data function for splitting data to training and test set\n",
        "def split_data(data):\n",
        "    '''\n",
        "    Splits dataset into training and test set.\n",
        "    \n",
        "    Args:\n",
        "        data (pandas.DataFrame)\n",
        "        \n",
        "    Returns\n",
        "        train_data (tc.SFrame)\n",
        "        test_data (tc.SFrame)\n",
        "    '''\n",
        "    train, test = train_test_split(data, test_size = .2)\n",
        "    train_data = tc.SFrame(train)\n",
        "    test_data = tc.SFrame(test)\n",
        "    return train_data, test_data"
      ],
      "execution_count": 0,
      "outputs": []
    },
    {
      "metadata": {
        "id": "2Axu2cRlsntg",
        "colab_type": "code",
        "colab": {}
      },
      "cell_type": "code",
      "source": [
        "### 5.3)-Apply for both dummy table and scaled/normalized purchase table"
      ],
      "execution_count": 0,
      "outputs": []
    },
    {
      "metadata": {
        "id": "_9R19PGitW1i",
        "colab_type": "code",
        "colab": {}
      },
      "cell_type": "code",
      "source": [
        "train_data_dummy, test_data_dummy = split_data(data_dummy)\n",
        "train_data_norm, test_data_norm = split_data(data_norm)"
      ],
      "execution_count": 0,
      "outputs": []
    },
    {
      "metadata": {
        "id": "TjW1mLJMtW4h",
        "colab_type": "code",
        "colab": {}
      },
      "cell_type": "code",
      "source": [
        "#6)-Model"
      ],
      "execution_count": 0,
      "outputs": []
    },
    {
      "metadata": {
        "id": "KpJQezACt29U",
        "colab_type": "code",
        "colab": {}
      },
      "cell_type": "code",
      "source": [
        "### 6.1)- Parameters to define field names for purchase count as target feature\n",
        "user_id = 'id'\n",
        "item_id = 'productId'\n",
        "users_to_recommend=list(cust_2_rec)\n",
        "target = 'purchase_count'\n",
        "n_rec = 10 # number of items to recommend\n",
        "n_display = 30 # 1st 30 rows to display"
      ],
      "execution_count": 0,
      "outputs": []
    },
    {
      "metadata": {
        "id": "6l311XlBt3AY",
        "colab_type": "code",
        "colab": {
          "base_uri": "https://localhost:8080/",
          "height": 84
        },
        "outputId": "7d14ea31-89c6-4b9d-fb19-4519255f0c22"
      },
      "cell_type": "code",
      "source": [
        "popularity_model = tc.popularity_recommender.create(train_data, \n",
        "                                                    user_id=user_id, \n",
        "                                                    item_id=item_id, \n",
        "                                                    target=target)"
      ],
      "execution_count": 43,
      "outputs": [
        {
          "output_type": "display_data",
          "data": {
            "text/html": [
              "<pre>Preparing data set.</pre>"
            ],
            "text/plain": [
              "Preparing data set."
            ]
          },
          "metadata": {
            "tags": []
          }
        },
        {
          "output_type": "display_data",
          "data": {
            "text/html": [
              "<pre>    Data has 19848 observations with 2354 users and 250 items.</pre>"
            ],
            "text/plain": [
              "    Data has 19848 observations with 2354 users and 250 items."
            ]
          },
          "metadata": {
            "tags": []
          }
        },
        {
          "output_type": "display_data",
          "data": {
            "text/html": [
              "<pre>    Data prepared in: 0.038827s</pre>"
            ],
            "text/plain": [
              "    Data prepared in: 0.038827s"
            ]
          },
          "metadata": {
            "tags": []
          }
        },
        {
          "output_type": "display_data",
          "data": {
            "text/html": [
              "<pre>19848 observations to process; with 250 unique items.</pre>"
            ],
            "text/plain": [
              "19848 observations to process; with 250 unique items."
            ]
          },
          "metadata": {
            "tags": []
          }
        }
      ]
    },
    {
      "metadata": {
        "id": "ebqixrJ4t3GC",
        "colab_type": "code",
        "colab": {
          "base_uri": "https://localhost:8080/",
          "height": 638
        },
        "outputId": "99a69557-afef-4ebd-fbdc-2bf84412c39e"
      },
      "cell_type": "code",
      "source": [
        "popularity_recomm = popularity_model.recommend(users=users_to_recommend, k=n_rec)\n",
        "popularity_recomm.print_rows(n_display)"
      ],
      "execution_count": 44,
      "outputs": [
        {
          "output_type": "display_data",
          "data": {
            "text/html": [
              "<pre>recommendations finished on 1000/1000 queries. users per second: 81766.1</pre>"
            ],
            "text/plain": [
              "recommendations finished on 1000/1000 queries. users per second: 81766.1"
            ]
          },
          "metadata": {
            "tags": []
          }
        },
        {
          "output_type": "stream",
          "text": [
            "+----+-----------+--------------------+------+\n",
            "| id | productId |       score        | rank |\n",
            "+----+-----------+--------------------+------+\n",
            "| 0  |    207    | 1.0795454545454546 |  1   |\n",
            "| 0  |    153    | 1.0769230769230769 |  2   |\n",
            "| 0  |     96    | 1.072289156626506  |  3   |\n",
            "| 0  |    112    | 1.0705882352941176 |  4   |\n",
            "| 0  |     35    | 1.0704225352112675 |  5   |\n",
            "| 0  |    129    | 1.0675675675675675 |  6   |\n",
            "| 0  |    201    | 1.0666666666666667 |  7   |\n",
            "| 0  |    150    | 1.0666666666666667 |  8   |\n",
            "| 0  |     63    | 1.064516129032258  |  9   |\n",
            "| 0  |    120    | 1.0632911392405062 |  10  |\n",
            "| 1  |    207    | 1.0795454545454546 |  1   |\n",
            "| 1  |    153    | 1.0769230769230769 |  2   |\n",
            "| 1  |     96    | 1.072289156626506  |  3   |\n",
            "| 1  |    112    | 1.0705882352941176 |  4   |\n",
            "| 1  |     35    | 1.0704225352112675 |  5   |\n",
            "| 1  |    129    | 1.0675675675675675 |  6   |\n",
            "| 1  |    201    | 1.0666666666666667 |  7   |\n",
            "| 1  |    150    | 1.0666666666666667 |  8   |\n",
            "| 1  |     63    | 1.064516129032258  |  9   |\n",
            "| 1  |    120    | 1.0632911392405062 |  10  |\n",
            "| 2  |    207    | 1.0795454545454546 |  1   |\n",
            "| 2  |    153    | 1.0769230769230769 |  2   |\n",
            "| 2  |     96    | 1.072289156626506  |  3   |\n",
            "| 2  |    112    | 1.0705882352941176 |  4   |\n",
            "| 2  |     35    | 1.0704225352112675 |  5   |\n",
            "| 2  |    129    | 1.0675675675675675 |  6   |\n",
            "| 2  |    201    | 1.0666666666666667 |  7   |\n",
            "| 2  |    150    | 1.0666666666666667 |  8   |\n",
            "| 2  |     63    | 1.064516129032258  |  9   |\n",
            "| 2  |    120    | 1.0632911392405062 |  10  |\n",
            "+----+-----------+--------------------+------+\n",
            "[10000 rows x 4 columns]\n",
            "\n"
          ],
          "name": "stdout"
        }
      ]
    },
    {
      "metadata": {
        "id": "NTXpBvBu1pk9",
        "colab_type": "code",
        "colab": {
          "base_uri": "https://localhost:8080/",
          "height": 54
        },
        "outputId": "542b52d8-b5ec-4807-d1d7-a36fc8f41729"
      },
      "cell_type": "code",
      "source": [
        "\"\"\"\n",
        "Through this model, we predicted the recommendation items using scores by popularity. As you can tell for each model results above, the rows show the first 30 records from 1000 users\n",
        "with 10 recommendations. These 30 records include 3 users and their recommended items, along with score and descending ranks.\n",
        "\n",
        "\"\"\""
      ],
      "execution_count": 45,
      "outputs": [
        {
          "output_type": "execute_result",
          "data": {
            "text/plain": [
              "'\\nThrough this model, we predicted the recommendation items using scores by popularity. As you can tell for each model results above, the rows show the first 30 records from 1000 users\\nwith 10 recommendations. These 30 records include 3 users and their recommended items, along with score and descending ranks.\\n\\n'"
            ]
          },
          "metadata": {
            "tags": []
          },
          "execution_count": 45
        }
      ]
    },
    {
      "metadata": {
        "id": "rFGBiP1P1Olk",
        "colab_type": "code",
        "colab": {
          "base_uri": "https://localhost:8080/",
          "height": 386
        },
        "outputId": "54c512e1-63ec-4ee7-f90c-5329f2a07f39"
      },
      "cell_type": "code",
      "source": [
        "# Checking most frequent items  \n",
        "train.groupby(by=item_id)['purchase_count'].mean().sort_values(ascending=False).head(20)"
      ],
      "execution_count": 46,
      "outputs": [
        {
          "output_type": "execute_result",
          "data": {
            "text/plain": [
              "productId\n",
              "207    1.079545\n",
              "153    1.076923\n",
              "96     1.072289\n",
              "112    1.070588\n",
              "35     1.070423\n",
              "129    1.067568\n",
              "150    1.066667\n",
              "201    1.066667\n",
              "63     1.064516\n",
              "120    1.063291\n",
              "131    1.062500\n",
              "125    1.057471\n",
              "53     1.055556\n",
              "122    1.054348\n",
              "170    1.053763\n",
              "156    1.053333\n",
              "102    1.053191\n",
              "85     1.051546\n",
              "247    1.051282\n",
              "117    1.050633\n",
              "Name: purchase_count, dtype: float64"
            ]
          },
          "metadata": {
            "tags": []
          },
          "execution_count": 46
        }
      ]
    },
    {
      "metadata": {
        "id": "V1ce9XYH15pu",
        "colab_type": "code",
        "colab": {
          "base_uri": "https://localhost:8080/",
          "height": 34
        },
        "outputId": "ef1950d6-51c6-4e07-ab73-38130389ac72"
      },
      "cell_type": "code",
      "source": [
        "\"\"\"\n",
        "products 207,96, 201, 153, and 63 are the most popular (best-selling) across customers.\n",
        "\n",
        "\n",
        "\"\"\""
      ],
      "execution_count": 47,
      "outputs": [
        {
          "output_type": "execute_result",
          "data": {
            "text/plain": [
              "'\\nproducts 207,96, 201, 153, and 63 are the most popular (best-selling) across customers.\\n\\n\\n'"
            ]
          },
          "metadata": {
            "tags": []
          },
          "execution_count": 47
        }
      ]
    },
    {
      "metadata": {
        "id": "eYMQpnLX1Ouh",
        "colab_type": "code",
        "colab": {}
      },
      "cell_type": "code",
      "source": [
        ""
      ],
      "execution_count": 0,
      "outputs": []
    },
    {
      "metadata": {
        "id": "PYyQhk7xw5So",
        "colab_type": "code",
        "colab": {
          "base_uri": "https://localhost:8080/",
          "height": 54
        },
        "outputId": "4abb8af0-7a73-45f9-b922-5dd26e29baf2"
      },
      "cell_type": "code",
      "source": [
        "\"\"\"\n",
        "\n",
        "\n",
        "\n",
        "# Define a model\n",
        "def model(train_data, name, user_id, item_id, target, users_to_recommend, n_rec, n_display):\n",
        "    if name == 'popularity':\n",
        "        model = tc.popularity_recommender.create(train_data, \n",
        "                                                    user_id=user_id, \n",
        "                                                    item_id=item_id, \n",
        "                                                    target=target)\n",
        "    recom = model.recommend(users=users_to_recommend, k=n_rec)\n",
        "    recom.print_rows(n_display)\n",
        "    return model\n",
        "    \n",
        " \"\"\""
      ],
      "execution_count": 48,
      "outputs": [
        {
          "output_type": "execute_result",
          "data": {
            "text/plain": [
              "\"\\n\\n\\n\\n# Define a model\\ndef model(train_data, name, user_id, item_id, target, users_to_recommend, n_rec, n_display):\\n    if name == 'popularity':\\n        model = tc.popularity_recommender.create(train_data, \\n                                                    user_id=user_id, \\n                                                    item_id=item_id, \\n                                                    target=target)\\n    recom = model.recommend(users=users_to_recommend, k=n_rec)\\n    recom.print_rows(n_display)\\n    return model\\n    \\n \""
            ]
          },
          "metadata": {
            "tags": []
          },
          "execution_count": 48
        }
      ]
    },
    {
      "metadata": {
        "id": "7zLpjU4Et3Q3",
        "colab_type": "code",
        "colab": {}
      },
      "cell_type": "code",
      "source": [
        "### 6.2)- purchase dummy as target feature\n",
        "user_id = 'id'\n",
        "item_id = 'productId'\n",
        "users_to_recommend=list(cust_2_rec)\n",
        "target = 'purchase_dummy'\n",
        "n_rec = 10 # number of items to recommend\n",
        "n_display = 30 # 1st 30 rows to display"
      ],
      "execution_count": 0,
      "outputs": []
    },
    {
      "metadata": {
        "id": "faFCukO4wPC7",
        "colab_type": "code",
        "colab": {
          "base_uri": "https://localhost:8080/",
          "height": 118
        },
        "outputId": "63c6d033-cb17-4b1d-9197-9d84aa4594ba"
      },
      "cell_type": "code",
      "source": [
        "popularity_model_dummy = tc.popularity_recommender.create(train_data_dummy, \n",
        "                                                    user_id=user_id, \n",
        "                                                    item_id=item_id, \n",
        "                                                    target=target)"
      ],
      "execution_count": 50,
      "outputs": [
        {
          "output_type": "display_data",
          "data": {
            "text/html": [
              "<pre>Warning: Ignoring columns purchase_count;</pre>"
            ],
            "text/plain": [
              "Warning: Ignoring columns purchase_count;"
            ]
          },
          "metadata": {
            "tags": []
          }
        },
        {
          "output_type": "display_data",
          "data": {
            "text/html": [
              "<pre>    To use these columns in scoring predictions, use a model that allows the use of additional features.</pre>"
            ],
            "text/plain": [
              "    To use these columns in scoring predictions, use a model that allows the use of additional features."
            ]
          },
          "metadata": {
            "tags": []
          }
        },
        {
          "output_type": "display_data",
          "data": {
            "text/html": [
              "<pre>Preparing data set.</pre>"
            ],
            "text/plain": [
              "Preparing data set."
            ]
          },
          "metadata": {
            "tags": []
          }
        },
        {
          "output_type": "display_data",
          "data": {
            "text/html": [
              "<pre>    Data has 19848 observations with 2348 users and 250 items.</pre>"
            ],
            "text/plain": [
              "    Data has 19848 observations with 2348 users and 250 items."
            ]
          },
          "metadata": {
            "tags": []
          }
        },
        {
          "output_type": "display_data",
          "data": {
            "text/html": [
              "<pre>    Data prepared in: 0.043364s</pre>"
            ],
            "text/plain": [
              "    Data prepared in: 0.043364s"
            ]
          },
          "metadata": {
            "tags": []
          }
        },
        {
          "output_type": "display_data",
          "data": {
            "text/html": [
              "<pre>19848 observations to process; with 250 unique items.</pre>"
            ],
            "text/plain": [
              "19848 observations to process; with 250 unique items."
            ]
          },
          "metadata": {
            "tags": []
          }
        }
      ]
    },
    {
      "metadata": {
        "id": "WVM6JuyowPFw",
        "colab_type": "code",
        "colab": {
          "base_uri": "https://localhost:8080/",
          "height": 638
        },
        "outputId": "4b65d6af-05f8-4cf8-e525-490de4ed33ee"
      },
      "cell_type": "code",
      "source": [
        "popularity_recomm_4_dummy = popularity_model_dummy.recommend(users=users_to_recommend, k=n_rec)\n",
        "popularity_recomm_4_dummy.print_rows(n_display)"
      ],
      "execution_count": 51,
      "outputs": [
        {
          "output_type": "display_data",
          "data": {
            "text/html": [
              "<pre>recommendations finished on 1000/1000 queries. users per second: 109457</pre>"
            ],
            "text/plain": [
              "recommendations finished on 1000/1000 queries. users per second: 109457"
            ]
          },
          "metadata": {
            "tags": []
          }
        },
        {
          "output_type": "stream",
          "text": [
            "+----+-----------+-------+------+\n",
            "| id | productId | score | rank |\n",
            "+----+-----------+-------+------+\n",
            "| 0  |     2     |  1.0  |  1   |\n",
            "| 0  |     25    |  1.0  |  2   |\n",
            "| 0  |     80    |  1.0  |  3   |\n",
            "| 0  |     26    |  1.0  |  4   |\n",
            "| 0  |    236    |  1.0  |  5   |\n",
            "| 0  |    174    |  1.0  |  6   |\n",
            "| 0  |    129    |  1.0  |  7   |\n",
            "| 0  |    150    |  1.0  |  8   |\n",
            "| 0  |     46    |  1.0  |  9   |\n",
            "| 0  |     31    |  1.0  |  10  |\n",
            "| 1  |     2     |  1.0  |  1   |\n",
            "| 1  |     25    |  1.0  |  2   |\n",
            "| 1  |     80    |  1.0  |  3   |\n",
            "| 1  |     26    |  1.0  |  4   |\n",
            "| 1  |    236    |  1.0  |  5   |\n",
            "| 1  |    174    |  1.0  |  6   |\n",
            "| 1  |    129    |  1.0  |  7   |\n",
            "| 1  |    150    |  1.0  |  8   |\n",
            "| 1  |     46    |  1.0  |  9   |\n",
            "| 1  |     31    |  1.0  |  10  |\n",
            "| 2  |     2     |  1.0  |  1   |\n",
            "| 2  |     25    |  1.0  |  2   |\n",
            "| 2  |     80    |  1.0  |  3   |\n",
            "| 2  |     26    |  1.0  |  4   |\n",
            "| 2  |    236    |  1.0  |  5   |\n",
            "| 2  |    174    |  1.0  |  6   |\n",
            "| 2  |    129    |  1.0  |  7   |\n",
            "| 2  |    150    |  1.0  |  8   |\n",
            "| 2  |     46    |  1.0  |  9   |\n",
            "| 2  |     31    |  1.0  |  10  |\n",
            "+----+-----------+-------+------+\n",
            "[10000 rows x 4 columns]\n",
            "\n"
          ],
          "name": "stdout"
        }
      ]
    },
    {
      "metadata": {
        "id": "yGz6sNqswPIY",
        "colab_type": "code",
        "colab": {}
      },
      "cell_type": "code",
      "source": [
        "### 6.3)- Applying 'scaled_purchase_freq' as target feature on model\n",
        "user_id = 'id'\n",
        "item_id = 'productId'\n",
        "users_to_recommend=list(cust_2_rec)\n",
        "target = 'scaled_purchase_freq'\n",
        "n_rec = 10 # number of items to recommend\n",
        "n_display = 30 # 1st 30 rows to display"
      ],
      "execution_count": 0,
      "outputs": []
    },
    {
      "metadata": {
        "id": "ibt4XP2UzK6Y",
        "colab_type": "code",
        "colab": {
          "base_uri": "https://localhost:8080/",
          "height": 84
        },
        "outputId": "fe3a3379-c0e6-42a6-c46a-59ea63504242"
      },
      "cell_type": "code",
      "source": [
        "popularity_model_scaled = tc.popularity_recommender.create(train_data_norm, \n",
        "                                                    user_id=user_id, \n",
        "                                                    item_id=item_id, \n",
        "                                                    target=target)"
      ],
      "execution_count": 53,
      "outputs": [
        {
          "output_type": "display_data",
          "data": {
            "text/html": [
              "<pre>Preparing data set.</pre>"
            ],
            "text/plain": [
              "Preparing data set."
            ]
          },
          "metadata": {
            "tags": []
          }
        },
        {
          "output_type": "display_data",
          "data": {
            "text/html": [
              "<pre>    Data has 18024 observations with 2331 users and 227 items.</pre>"
            ],
            "text/plain": [
              "    Data has 18024 observations with 2331 users and 227 items."
            ]
          },
          "metadata": {
            "tags": []
          }
        },
        {
          "output_type": "display_data",
          "data": {
            "text/html": [
              "<pre>    Data prepared in: 0.029766s</pre>"
            ],
            "text/plain": [
              "    Data prepared in: 0.029766s"
            ]
          },
          "metadata": {
            "tags": []
          }
        },
        {
          "output_type": "display_data",
          "data": {
            "text/html": [
              "<pre>18024 observations to process; with 227 unique items.</pre>"
            ],
            "text/plain": [
              "18024 observations to process; with 227 unique items."
            ]
          },
          "metadata": {
            "tags": []
          }
        }
      ]
    },
    {
      "metadata": {
        "id": "mvsMhunTzLCd",
        "colab_type": "code",
        "colab": {
          "base_uri": "https://localhost:8080/",
          "height": 638
        },
        "outputId": "4e1fd7fc-e35f-4f47-97e5-9da045a4a3dc"
      },
      "cell_type": "code",
      "source": [
        "popularity_recomm_4_scaled = popularity_model_scaled.recommend(users=users_to_recommend, k=n_rec)\n",
        "popularity_recomm_4_scaled.print_rows(n_display)"
      ],
      "execution_count": 54,
      "outputs": [
        {
          "output_type": "display_data",
          "data": {
            "text/html": [
              "<pre>recommendations finished on 1000/1000 queries. users per second: 101502</pre>"
            ],
            "text/plain": [
              "recommendations finished on 1000/1000 queries. users per second: 101502"
            ]
          },
          "metadata": {
            "tags": []
          }
        },
        {
          "output_type": "stream",
          "text": [
            "+----+-----------+----------------------+------+\n",
            "| id | productId |        score         | rank |\n",
            "+----+-----------+----------------------+------+\n",
            "| 0  |    201    | 0.08695652173913043  |  1   |\n",
            "| 0  |    207    | 0.08641975308641975  |  2   |\n",
            "| 0  |    101    | 0.07042253521126761  |  3   |\n",
            "| 0  |    152    | 0.06741573033707865  |  4   |\n",
            "| 0  |     96    |  0.0641025641025641  |  5   |\n",
            "| 0  |    129    | 0.06329113924050633  |  6   |\n",
            "| 0  |     71    |        0.0625        |  7   |\n",
            "| 0  |    117    | 0.06172839506172839  |  8   |\n",
            "| 0  |     85    | 0.061224489795918366 |  9   |\n",
            "| 0  |    156    | 0.06097560975609756  |  10  |\n",
            "| 1  |    201    | 0.08695652173913043  |  1   |\n",
            "| 1  |    207    | 0.08641975308641975  |  2   |\n",
            "| 1  |    101    | 0.07042253521126761  |  3   |\n",
            "| 1  |    152    | 0.06741573033707865  |  4   |\n",
            "| 1  |     96    |  0.0641025641025641  |  5   |\n",
            "| 1  |    129    | 0.06329113924050633  |  6   |\n",
            "| 1  |     71    |        0.0625        |  7   |\n",
            "| 1  |    117    | 0.06172839506172839  |  8   |\n",
            "| 1  |     85    | 0.061224489795918366 |  9   |\n",
            "| 1  |    156    | 0.06097560975609756  |  10  |\n",
            "| 2  |    201    | 0.08695652173913043  |  1   |\n",
            "| 2  |    207    | 0.08641975308641975  |  2   |\n",
            "| 2  |    101    | 0.07042253521126761  |  3   |\n",
            "| 2  |    152    | 0.06741573033707865  |  4   |\n",
            "| 2  |     96    |  0.0641025641025641  |  5   |\n",
            "| 2  |    129    | 0.06329113924050633  |  6   |\n",
            "| 2  |     71    |        0.0625        |  7   |\n",
            "| 2  |    117    | 0.06172839506172839  |  8   |\n",
            "| 2  |     85    | 0.061224489795918366 |  9   |\n",
            "| 2  |    156    | 0.06097560975609756  |  10  |\n",
            "+----+-----------+----------------------+------+\n",
            "[10000 rows x 4 columns]\n",
            "\n"
          ],
          "name": "stdout"
        }
      ]
    },
    {
      "metadata": {
        "id": "iuzAYKqxzLKb",
        "colab_type": "code",
        "colab": {}
      },
      "cell_type": "code",
      "source": [
        "# 7)- Evaluate"
      ],
      "execution_count": 0,
      "outputs": []
    },
    {
      "metadata": {
        "id": "s3gMFv429ak0",
        "colab_type": "code",
        "colab": {}
      },
      "cell_type": "code",
      "source": [
        "### 7.1)- For Popularity Model on Purchase Counts"
      ],
      "execution_count": 0,
      "outputs": []
    },
    {
      "metadata": {
        "id": "cIW_BH3Z5s5P",
        "colab_type": "code",
        "colab": {}
      },
      "cell_type": "code",
      "source": [
        "models_counts = [popularity_model]"
      ],
      "execution_count": 0,
      "outputs": []
    },
    {
      "metadata": {
        "id": "pmX0_gFqzLNi",
        "colab_type": "code",
        "colab": {}
      },
      "cell_type": "code",
      "source": [
        "model_names=['Popularity Model on Purchase Counts']"
      ],
      "execution_count": 0,
      "outputs": []
    },
    {
      "metadata": {
        "id": "LXiQqoO9zLH2",
        "colab_type": "code",
        "colab": {
          "base_uri": "https://localhost:8080/",
          "height": 991
        },
        "outputId": "fec94ae9-74e2-4064-d8c9-eb90e87fe889"
      },
      "cell_type": "code",
      "source": [
        "eval_counts = tc.recommender.util.compare_models(test_data, models_counts, model_names)"
      ],
      "execution_count": 59,
      "outputs": [
        {
          "output_type": "stream",
          "text": [
            "PROGRESS: Evaluate model Popularity Model on Purchase Counts\n"
          ],
          "name": "stdout"
        },
        {
          "output_type": "display_data",
          "data": {
            "text/html": [
              "<pre>recommendations finished on 1000/1935 queries. users per second: 55334.2</pre>"
            ],
            "text/plain": [
              "recommendations finished on 1000/1935 queries. users per second: 55334.2"
            ]
          },
          "metadata": {
            "tags": []
          }
        },
        {
          "output_type": "stream",
          "text": [
            "\n",
            "Precision and recall summary statistics by cutoff\n",
            "+--------+----------------------+----------------------+\n",
            "| cutoff |    mean_precision    |     mean_recall      |\n",
            "+--------+----------------------+----------------------+\n",
            "|   1    | 0.009302325581395371 | 0.003764611787867597 |\n",
            "|   2    | 0.009819121447028432 | 0.007586030105409956 |\n",
            "|   3    | 0.009474590869939696 | 0.011022722611869897 |\n",
            "|   4    | 0.009819121447028392 | 0.01517923793117595  |\n",
            "|   5    |  0.0097157622739018  | 0.019227472211968362 |\n",
            "|   6    | 0.009560723514211882 | 0.022784750420409346 |\n",
            "|   7    | 0.009007013658176466 |  0.0250937205200771  |\n",
            "|   8    | 0.009754521963824267 | 0.03091198064066275  |\n",
            "|   9    | 0.009704277921332199 | 0.034391739469258935 |\n",
            "|   10   | 0.009870801033591722 | 0.03918071449079202  |\n",
            "+--------+----------------------+----------------------+\n",
            "[10 rows x 3 columns]\n",
            "\n",
            "\n",
            "Overall RMSE: 0.13935375769222003\n",
            "\n",
            "Per User RMSE (best)\n",
            "+-----+------+-------+\n",
            "|  id | rmse | count |\n",
            "+-----+------+-------+\n",
            "| 771 | 0.0  |   2   |\n",
            "+-----+------+-------+\n",
            "[1 rows x 3 columns]\n",
            "\n",
            "\n",
            "Per User RMSE (worst)\n",
            "+------+------+-------+\n",
            "|  id  | rmse | count |\n",
            "+------+------+-------+\n",
            "| 1964 | 0.99 |   1   |\n",
            "+------+------+-------+\n",
            "[1 rows x 3 columns]\n",
            "\n",
            "\n",
            "Per Item RMSE (best)\n",
            "+-----------+------+-------+\n",
            "| productId | rmse | count |\n",
            "+-----------+------+-------+\n",
            "|    215    | 0.0  |   13  |\n",
            "+-----------+------+-------+\n",
            "[1 rows x 3 columns]\n",
            "\n",
            "\n",
            "Per Item RMSE (worst)\n",
            "+-----------+--------------------+-------+\n",
            "| productId |        rmse        | count |\n",
            "+-----------+--------------------+-------+\n",
            "|     49    | 0.3683642760351587 |   14  |\n",
            "+-----------+--------------------+-------+\n",
            "[1 rows x 3 columns]\n",
            "\n"
          ],
          "name": "stdout"
        }
      ]
    },
    {
      "metadata": {
        "id": "t6-r_bEpzLFZ",
        "colab_type": "code",
        "colab": {
          "base_uri": "https://localhost:8080/",
          "height": 991
        },
        "outputId": "329f37c5-101f-476c-a393-1cedd4ba6035"
      },
      "cell_type": "code",
      "source": [
        "### 7.2)- For Popularity Model on Purchase Counts (dummy)\n",
        "models_counts = [popularity_model_dummy]\n",
        "model_names=['Popularity Model on Dummy Purchase Counts']\n",
        "eval_counts_dummy = tc.recommender.util.compare_models(test_data_dummy, models_counts, model_names)"
      ],
      "execution_count": 60,
      "outputs": [
        {
          "output_type": "stream",
          "text": [
            "PROGRESS: Evaluate model Popularity Model on Dummy Purchase Counts\n"
          ],
          "name": "stdout"
        },
        {
          "output_type": "display_data",
          "data": {
            "text/html": [
              "<pre>recommendations finished on 1000/1928 queries. users per second: 65385.1</pre>"
            ],
            "text/plain": [
              "recommendations finished on 1000/1928 queries. users per second: 65385.1"
            ]
          },
          "metadata": {
            "tags": []
          }
        },
        {
          "output_type": "stream",
          "text": [
            "\n",
            "Precision and recall summary statistics by cutoff\n",
            "+--------+----------------------+----------------------+\n",
            "| cutoff |    mean_precision    |     mean_recall      |\n",
            "+--------+----------------------+----------------------+\n",
            "|   1    | 0.010892116182572641 | 0.003938203912270309 |\n",
            "|   2    | 0.010114107883817442 | 0.007854179016004745 |\n",
            "|   3    | 0.010892116182572626 | 0.014246813870776531 |\n",
            "|   4    | 0.011799792531120333 | 0.01979434235658301  |\n",
            "|   5    | 0.011099585062240663 | 0.023502848580649417 |\n",
            "|   6    | 0.011237897648686015 | 0.028265988276361786 |\n",
            "|   7    | 0.011484884410195613 | 0.03321066324178353  |\n",
            "|   8    | 0.012059128630705409 |  0.0388057366791807  |\n",
            "|   9    | 0.011698939603503917 | 0.04257907692814336  |\n",
            "|   10   | 0.011618257261410804 | 0.04738173450569719  |\n",
            "+--------+----------------------+----------------------+\n",
            "[10 rows x 3 columns]\n",
            "\n",
            "\n",
            "Overall RMSE: 0.0\n",
            "\n",
            "Per User RMSE (best)\n",
            "+-----+------+-------+\n",
            "|  id | rmse | count |\n",
            "+-----+------+-------+\n",
            "| 918 | 0.0  |   3   |\n",
            "+-----+------+-------+\n",
            "[1 rows x 3 columns]\n",
            "\n",
            "\n",
            "Per User RMSE (worst)\n",
            "+-----+------+-------+\n",
            "|  id | rmse | count |\n",
            "+-----+------+-------+\n",
            "| 118 | 0.0  |   4   |\n",
            "+-----+------+-------+\n",
            "[1 rows x 3 columns]\n",
            "\n",
            "\n",
            "Per Item RMSE (best)\n",
            "+-----------+------+-------+\n",
            "| productId | rmse | count |\n",
            "+-----------+------+-------+\n",
            "|    149    | 0.0  |   19  |\n",
            "+-----------+------+-------+\n",
            "[1 rows x 3 columns]\n",
            "\n",
            "\n",
            "Per Item RMSE (worst)\n",
            "+-----------+------+-------+\n",
            "| productId | rmse | count |\n",
            "+-----------+------+-------+\n",
            "|    118    | 0.0  |   19  |\n",
            "+-----------+------+-------+\n",
            "[1 rows x 3 columns]\n",
            "\n"
          ],
          "name": "stdout"
        }
      ]
    },
    {
      "metadata": {
        "id": "Ft_1Z5Z0zK_m",
        "colab_type": "code",
        "colab": {
          "base_uri": "https://localhost:8080/",
          "height": 991
        },
        "outputId": "0fc5765a-9bb3-42ec-9f96-3e2e8630c500"
      },
      "cell_type": "code",
      "source": [
        "### 7.3)- For Popularity Model on Scaled Purchase Counts\n",
        "models_counts = [popularity_model_scaled]\n",
        "model_names=['Popularity Model on Scaled Purchase Counts']\n",
        "eval_counts_dummy = tc.recommender.util.compare_models(test_data_norm, models_counts, model_names)"
      ],
      "execution_count": 61,
      "outputs": [
        {
          "output_type": "stream",
          "text": [
            "PROGRESS: Evaluate model Popularity Model on Scaled Purchase Counts\n"
          ],
          "name": "stdout"
        },
        {
          "output_type": "display_data",
          "data": {
            "text/html": [
              "<pre>recommendations finished on 1000/1841 queries. users per second: 47391.1</pre>"
            ],
            "text/plain": [
              "recommendations finished on 1000/1841 queries. users per second: 47391.1"
            ]
          },
          "metadata": {
            "tags": []
          }
        },
        {
          "output_type": "stream",
          "text": [
            "\n",
            "Precision and recall summary statistics by cutoff\n",
            "+--------+----------------------+----------------------+\n",
            "| cutoff |    mean_precision    |     mean_recall      |\n",
            "+--------+----------------------+----------------------+\n",
            "|   1    | 0.010320478001086379 | 0.004314425389927838 |\n",
            "|   2    | 0.011135252580119511 | 0.009796694343136484 |\n",
            "|   3    |  0.0115879051240268  | 0.014903908331393382 |\n",
            "|   4    | 0.012357414448669205 | 0.020734073096919343 |\n",
            "|   5    | 0.012167300380228136 | 0.024600372468378994 |\n",
            "|   6    | 0.011497374615245352 | 0.027466309717803422 |\n",
            "|   7    | 0.011484441685419407 | 0.031223325832233972 |\n",
            "|   8    | 0.010999456816947317 | 0.03452768940275722  |\n",
            "|   9    | 0.010863661053775111 | 0.03872830501021699  |\n",
            "|   10   | 0.010809342748506227 | 0.042458161972013235 |\n",
            "+--------+----------------------+----------------------+\n",
            "[10 rows x 3 columns]\n",
            "\n",
            "\n",
            "Overall RMSE: 0.1630846073844427\n",
            "\n",
            "Per User RMSE (best)\n",
            "+------+------+-------+\n",
            "|  id  | rmse | count |\n",
            "+------+------+-------+\n",
            "| 1533 | 0.0  |   1   |\n",
            "+------+------+-------+\n",
            "[1 rows x 3 columns]\n",
            "\n",
            "\n",
            "Per User RMSE (worst)\n",
            "+------+------+-------+\n",
            "|  id  | rmse | count |\n",
            "+------+------+-------+\n",
            "| 2351 | 1.0  |   1   |\n",
            "+------+------+-------+\n",
            "[1 rows x 3 columns]\n",
            "\n",
            "\n",
            "Per Item RMSE (best)\n",
            "+-----------+----------------------+-------+\n",
            "| productId |         rmse         | count |\n",
            "+-----------+----------------------+-------+\n",
            "|    174    | 0.010309278350515464 |   20  |\n",
            "+-----------+----------------------+-------+\n",
            "[1 rows x 3 columns]\n",
            "\n",
            "\n",
            "Per Item RMSE (worst)\n",
            "+-----------+---------------------+-------+\n",
            "| productId |         rmse        | count |\n",
            "+-----------+---------------------+-------+\n",
            "|    153    | 0.41423043473850707 |   16  |\n",
            "+-----------+---------------------+-------+\n",
            "[1 rows x 3 columns]\n",
            "\n"
          ],
          "name": "stdout"
        }
      ]
    },
    {
      "metadata": {
        "id": "A36dUmzvzK9p",
        "colab_type": "code",
        "colab": {
          "base_uri": "https://localhost:8080/",
          "height": 34
        },
        "outputId": "eac67bc7-f3e8-40f8-bd1c-3d6c3b00fd0e"
      },
      "cell_type": "code",
      "source": [
        "# 8) Submission\n",
        "\"\"\"\n",
        "Dummy purchase count model gives lowest rmse . So we will choose that as best model for our final step.\n",
        "\n",
        "\"\"\""
      ],
      "execution_count": 62,
      "outputs": [
        {
          "output_type": "execute_result",
          "data": {
            "text/plain": [
              "'\\nDummy purchase count model gives lowest rmse . So we will choose that as best model for our final step.\\n\\n'"
            ]
          },
          "metadata": {
            "tags": []
          },
          "execution_count": 62
        }
      ]
    },
    {
      "metadata": {
        "id": "e9-7haUjwPLh",
        "colab_type": "code",
        "colab": {
          "base_uri": "https://localhost:8080/",
          "height": 420
        },
        "outputId": "fa40619e-2c02-4c9b-e671-8e16d9d952bd"
      },
      "cell_type": "code",
      "source": [
        "users_to_recommend = list(cust_2_rec)\n",
        "\n",
        "final_model = tc.item_similarity_recommender.create(tc.SFrame(data_dummy), \n",
        "                                            user_id=user_id, \n",
        "                                            item_id=item_id, \n",
        "                                            target='purchase_dummy')\n"
      ],
      "execution_count": 63,
      "outputs": [
        {
          "output_type": "display_data",
          "data": {
            "text/html": [
              "<pre>Warning: Ignoring columns purchase_count;</pre>"
            ],
            "text/plain": [
              "Warning: Ignoring columns purchase_count;"
            ]
          },
          "metadata": {
            "tags": []
          }
        },
        {
          "output_type": "display_data",
          "data": {
            "text/html": [
              "<pre>    To use these columns in scoring predictions, use a model that allows the use of additional features.</pre>"
            ],
            "text/plain": [
              "    To use these columns in scoring predictions, use a model that allows the use of additional features."
            ]
          },
          "metadata": {
            "tags": []
          }
        },
        {
          "output_type": "display_data",
          "data": {
            "text/html": [
              "<pre>Preparing data set.</pre>"
            ],
            "text/plain": [
              "Preparing data set."
            ]
          },
          "metadata": {
            "tags": []
          }
        },
        {
          "output_type": "display_data",
          "data": {
            "text/html": [
              "<pre>    Data has 24811 observations with 2378 users and 250 items.</pre>"
            ],
            "text/plain": [
              "    Data has 24811 observations with 2378 users and 250 items."
            ]
          },
          "metadata": {
            "tags": []
          }
        },
        {
          "output_type": "display_data",
          "data": {
            "text/html": [
              "<pre>    Data prepared in: 0.039693s</pre>"
            ],
            "text/plain": [
              "    Data prepared in: 0.039693s"
            ]
          },
          "metadata": {
            "tags": []
          }
        },
        {
          "output_type": "display_data",
          "data": {
            "text/html": [
              "<pre>Training model from provided data.</pre>"
            ],
            "text/plain": [
              "Training model from provided data."
            ]
          },
          "metadata": {
            "tags": []
          }
        },
        {
          "output_type": "display_data",
          "data": {
            "text/html": [
              "<pre>Gathering per-item and per-user statistics.</pre>"
            ],
            "text/plain": [
              "Gathering per-item and per-user statistics."
            ]
          },
          "metadata": {
            "tags": []
          }
        },
        {
          "output_type": "display_data",
          "data": {
            "text/html": [
              "<pre>+--------------------------------+------------+</pre>"
            ],
            "text/plain": [
              "+--------------------------------+------------+"
            ]
          },
          "metadata": {
            "tags": []
          }
        },
        {
          "output_type": "display_data",
          "data": {
            "text/html": [
              "<pre>| Elapsed Time (Item Statistics) | % Complete |</pre>"
            ],
            "text/plain": [
              "| Elapsed Time (Item Statistics) | % Complete |"
            ]
          },
          "metadata": {
            "tags": []
          }
        },
        {
          "output_type": "display_data",
          "data": {
            "text/html": [
              "<pre>+--------------------------------+------------+</pre>"
            ],
            "text/plain": [
              "+--------------------------------+------------+"
            ]
          },
          "metadata": {
            "tags": []
          }
        },
        {
          "output_type": "display_data",
          "data": {
            "text/html": [
              "<pre>| 3.725ms                        | 42         |</pre>"
            ],
            "text/plain": [
              "| 3.725ms                        | 42         |"
            ]
          },
          "metadata": {
            "tags": []
          }
        },
        {
          "output_type": "display_data",
          "data": {
            "text/html": [
              "<pre>| 4.924ms                        | 100        |</pre>"
            ],
            "text/plain": [
              "| 4.924ms                        | 100        |"
            ]
          },
          "metadata": {
            "tags": []
          }
        },
        {
          "output_type": "display_data",
          "data": {
            "text/html": [
              "<pre>+--------------------------------+------------+</pre>"
            ],
            "text/plain": [
              "+--------------------------------+------------+"
            ]
          },
          "metadata": {
            "tags": []
          }
        },
        {
          "output_type": "display_data",
          "data": {
            "text/html": [
              "<pre>Setting up lookup tables.</pre>"
            ],
            "text/plain": [
              "Setting up lookup tables."
            ]
          },
          "metadata": {
            "tags": []
          }
        },
        {
          "output_type": "display_data",
          "data": {
            "text/html": [
              "<pre>Processing data in one pass using dense lookup tables.</pre>"
            ],
            "text/plain": [
              "Processing data in one pass using dense lookup tables."
            ]
          },
          "metadata": {
            "tags": []
          }
        },
        {
          "output_type": "display_data",
          "data": {
            "text/html": [
              "<pre>+-------------------------------------+------------------+-----------------+</pre>"
            ],
            "text/plain": [
              "+-------------------------------------+------------------+-----------------+"
            ]
          },
          "metadata": {
            "tags": []
          }
        },
        {
          "output_type": "display_data",
          "data": {
            "text/html": [
              "<pre>| Elapsed Time (Constructing Lookups) | Total % Complete | Items Processed |</pre>"
            ],
            "text/plain": [
              "| Elapsed Time (Constructing Lookups) | Total % Complete | Items Processed |"
            ]
          },
          "metadata": {
            "tags": []
          }
        },
        {
          "output_type": "display_data",
          "data": {
            "text/html": [
              "<pre>+-------------------------------------+------------------+-----------------+</pre>"
            ],
            "text/plain": [
              "+-------------------------------------+------------------+-----------------+"
            ]
          },
          "metadata": {
            "tags": []
          }
        },
        {
          "output_type": "display_data",
          "data": {
            "text/html": [
              "<pre>| 5.58ms                              | 0                | 0               |</pre>"
            ],
            "text/plain": [
              "| 5.58ms                              | 0                | 0               |"
            ]
          },
          "metadata": {
            "tags": []
          }
        },
        {
          "output_type": "display_data",
          "data": {
            "text/html": [
              "<pre>| 34.708ms                            | 100              | 250             |</pre>"
            ],
            "text/plain": [
              "| 34.708ms                            | 100              | 250             |"
            ]
          },
          "metadata": {
            "tags": []
          }
        },
        {
          "output_type": "display_data",
          "data": {
            "text/html": [
              "<pre>+-------------------------------------+------------------+-----------------+</pre>"
            ],
            "text/plain": [
              "+-------------------------------------+------------------+-----------------+"
            ]
          },
          "metadata": {
            "tags": []
          }
        },
        {
          "output_type": "display_data",
          "data": {
            "text/html": [
              "<pre>Finalizing lookup tables.</pre>"
            ],
            "text/plain": [
              "Finalizing lookup tables."
            ]
          },
          "metadata": {
            "tags": []
          }
        },
        {
          "output_type": "display_data",
          "data": {
            "text/html": [
              "<pre>Generating candidate set for working with new users.</pre>"
            ],
            "text/plain": [
              "Generating candidate set for working with new users."
            ]
          },
          "metadata": {
            "tags": []
          }
        },
        {
          "output_type": "display_data",
          "data": {
            "text/html": [
              "<pre>Finished training in 1.04343s</pre>"
            ],
            "text/plain": [
              "Finished training in 1.04343s"
            ]
          },
          "metadata": {
            "tags": []
          }
        }
      ]
    },
    {
      "metadata": {
        "id": "w0TC2imZt3VA",
        "colab_type": "code",
        "colab": {
          "base_uri": "https://localhost:8080/",
          "height": 638
        },
        "outputId": "f562094d-db47-4778-cc3d-cdec51358cc3"
      },
      "cell_type": "code",
      "source": [
        "recom = final_model.recommend(users=users_to_recommend, k=n_rec)\n",
        "recom.print_rows(n_display)"
      ],
      "execution_count": 64,
      "outputs": [
        {
          "output_type": "display_data",
          "data": {
            "text/html": [
              "<pre>recommendations finished on 1000/1000 queries. users per second: 26850</pre>"
            ],
            "text/plain": [
              "recommendations finished on 1000/1000 queries. users per second: 26850"
            ]
          },
          "metadata": {
            "tags": []
          }
        },
        {
          "output_type": "stream",
          "text": [
            "+----+-----------+----------------------+------+\n",
            "| id | productId |        score         | rank |\n",
            "+----+-----------+----------------------+------+\n",
            "| 0  |    168    | 0.025631868839263917 |  1   |\n",
            "| 0  |    248    | 0.025486195087432863 |  2   |\n",
            "| 0  |     23    | 0.024235220750172932 |  3   |\n",
            "| 0  |     32    | 0.02150735855102539  |  4   |\n",
            "| 0  |    214    | 0.021062183380126952 |  5   |\n",
            "| 0  |    126    | 0.02020918925603231  |  6   |\n",
            "| 0  |     63    | 0.020147351423899333 |  7   |\n",
            "| 0  |    139    | 0.019966328144073488 |  8   |\n",
            "| 0  |     74    | 0.01874724229176839  |  9   |\n",
            "| 0  |    110    | 0.018568030993143716 |  10  |\n",
            "| 1  |     23    | 0.029968857765197754 |  1   |\n",
            "| 1  |     79    | 0.025663250022464328 |  2   |\n",
            "| 1  |     80    | 0.02526219023598565  |  3   |\n",
            "| 1  |    112    | 0.025098118517133925 |  4   |\n",
            "| 1  |     2     | 0.02443495061662462  |  5   |\n",
            "| 1  |     40    | 0.024198671181996662 |  6   |\n",
            "| 1  |     17    | 0.023633764849768743 |  7   |\n",
            "| 1  |    177    | 0.02356364991929796  |  8   |\n",
            "| 1  |    122    | 0.02353888087802463  |  9   |\n",
            "| 1  |    150    | 0.022505886024898954 |  10  |\n",
            "| 2  |     19    | 0.042675092816352844 |  1   |\n",
            "| 2  |     36    | 0.042177557945251465 |  2   |\n",
            "| 2  |    119    | 0.03865352272987366  |  3   |\n",
            "| 2  |     11    | 0.038590192794799805 |  4   |\n",
            "| 2  |    236    | 0.03665468096733093  |  5   |\n",
            "| 2  |     55    |  0.0363050252199173  |  6   |\n",
            "| 2  |    250    | 0.03284776210784912  |  7   |\n",
            "| 2  |     37    | 0.03266581892967224  |  8   |\n",
            "| 2  |    174    | 0.03185035288333893  |  9   |\n",
            "| 2  |    167    |  0.0310695618391037  |  10  |\n",
            "+----+-----------+----------------------+------+\n",
            "[10000 rows x 4 columns]\n",
            "\n"
          ],
          "name": "stdout"
        }
      ]
    },
    {
      "metadata": {
        "id": "BP5jXHS6t3bC",
        "colab_type": "code",
        "colab": {
          "base_uri": "https://localhost:8080/",
          "height": 386
        },
        "outputId": "23ee2c5b-a0dc-41ba-a500-def6f36c4c9b"
      },
      "cell_type": "code",
      "source": [
        "# 8.2)- Checking most frequent items in final model\n",
        "data_dummy.groupby(by=item_id)['purchase_count'].mean().sort_values(ascending=False).head(20)"
      ],
      "execution_count": 65,
      "outputs": [
        {
          "output_type": "execute_result",
          "data": {
            "text/plain": [
              "productId\n",
              "96     1.080808\n",
              "207    1.076923\n",
              "153    1.071429\n",
              "201    1.069767\n",
              "26     1.063158\n",
              "152    1.060345\n",
              "125    1.058824\n",
              "112    1.058824\n",
              "85     1.058824\n",
              "131    1.057143\n",
              "35     1.056180\n",
              "63     1.054545\n",
              "44     1.054545\n",
              "129    1.053763\n",
              "101    1.053763\n",
              "117    1.052632\n",
              "150    1.051724\n",
              "122    1.051724\n",
              "156    1.051546\n",
              "120    1.050000\n",
              "Name: purchase_count, dtype: float64"
            ]
          },
          "metadata": {
            "tags": []
          },
          "execution_count": 65
        }
      ]
    },
    {
      "metadata": {
        "id": "uuIUBIQdt3DY",
        "colab_type": "code",
        "colab": {}
      },
      "cell_type": "code",
      "source": [
        "#8.3)- CSV output file"
      ],
      "execution_count": 0,
      "outputs": []
    },
    {
      "metadata": {
        "id": "nziXF39HtW7I",
        "colab_type": "code",
        "colab": {
          "base_uri": "https://localhost:8080/",
          "height": 195
        },
        "outputId": "bd92c844-50c7-41da-ed69-4a4dec86bf41"
      },
      "cell_type": "code",
      "source": [
        "df_rec = recom.to_dataframe()\n",
        "df_rec.head()"
      ],
      "execution_count": 67,
      "outputs": [
        {
          "output_type": "execute_result",
          "data": {
            "text/html": [
              "<div>\n",
              "<style scoped>\n",
              "    .dataframe tbody tr th:only-of-type {\n",
              "        vertical-align: middle;\n",
              "    }\n",
              "\n",
              "    .dataframe tbody tr th {\n",
              "        vertical-align: top;\n",
              "    }\n",
              "\n",
              "    .dataframe thead th {\n",
              "        text-align: right;\n",
              "    }\n",
              "</style>\n",
              "<table border=\"1\" class=\"dataframe\">\n",
              "  <thead>\n",
              "    <tr style=\"text-align: right;\">\n",
              "      <th></th>\n",
              "      <th>id</th>\n",
              "      <th>productId</th>\n",
              "      <th>score</th>\n",
              "      <th>rank</th>\n",
              "    </tr>\n",
              "  </thead>\n",
              "  <tbody>\n",
              "    <tr>\n",
              "      <th>0</th>\n",
              "      <td>0</td>\n",
              "      <td>168</td>\n",
              "      <td>0.025632</td>\n",
              "      <td>1</td>\n",
              "    </tr>\n",
              "    <tr>\n",
              "      <th>1</th>\n",
              "      <td>0</td>\n",
              "      <td>248</td>\n",
              "      <td>0.025486</td>\n",
              "      <td>2</td>\n",
              "    </tr>\n",
              "    <tr>\n",
              "      <th>2</th>\n",
              "      <td>0</td>\n",
              "      <td>23</td>\n",
              "      <td>0.024235</td>\n",
              "      <td>3</td>\n",
              "    </tr>\n",
              "    <tr>\n",
              "      <th>3</th>\n",
              "      <td>0</td>\n",
              "      <td>32</td>\n",
              "      <td>0.021507</td>\n",
              "      <td>4</td>\n",
              "    </tr>\n",
              "    <tr>\n",
              "      <th>4</th>\n",
              "      <td>0</td>\n",
              "      <td>214</td>\n",
              "      <td>0.021062</td>\n",
              "      <td>5</td>\n",
              "    </tr>\n",
              "  </tbody>\n",
              "</table>\n",
              "</div>"
            ],
            "text/plain": [
              "   id  productId     score  rank\n",
              "0   0        168  0.025632     1\n",
              "1   0        248  0.025486     2\n",
              "2   0         23  0.024235     3\n",
              "3   0         32  0.021507     4\n",
              "4   0        214  0.021062     5"
            ]
          },
          "metadata": {
            "tags": []
          },
          "execution_count": 67
        }
      ]
    },
    {
      "metadata": {
        "id": "tJTMXIdbtW9v",
        "colab_type": "code",
        "colab": {
          "base_uri": "https://localhost:8080/",
          "height": 34
        },
        "outputId": "757fd04d-8d9d-446d-c213-d0a9de2af43d"
      },
      "cell_type": "code",
      "source": [
        "print(df_rec.shape)\n"
      ],
      "execution_count": 68,
      "outputs": [
        {
          "output_type": "stream",
          "text": [
            "(10000, 4)\n"
          ],
          "name": "stdout"
        }
      ]
    },
    {
      "metadata": {
        "id": "dzg1VKC_B5YM",
        "colab_type": "code",
        "colab": {}
      },
      "cell_type": "code",
      "source": [
        "#8.4)- Bonus Part- Recommending products to customers"
      ],
      "execution_count": 0,
      "outputs": []
    },
    {
      "metadata": {
        "id": "n_9xXvjWtXAg",
        "colab_type": "code",
        "colab": {}
      },
      "cell_type": "code",
      "source": [
        "df_rec['recommendedProducts'] = df_rec.groupby([id])[item_id].transform(lambda x: '|'.join(x.astype(str)))\n",
        "df_output = df_rec[['id', 'recommendedProducts']].drop_duplicates().sort_values('id').set_index('id')"
      ],
      "execution_count": 0,
      "outputs": []
    },
    {
      "metadata": {
        "id": "PAp3RMVWFK7-",
        "colab_type": "code",
        "colab": {
          "base_uri": "https://localhost:8080/",
          "height": 34
        },
        "outputId": "f1707551-ec00-45d8-e16d-d3f9f829d81a"
      },
      "cell_type": "code",
      "source": [
        "recomendation = final_model.recommend(users=users_to_recommend, k=n_rec)"
      ],
      "execution_count": 71,
      "outputs": [
        {
          "output_type": "display_data",
          "data": {
            "text/html": [
              "<pre>recommendations finished on 1000/1000 queries. users per second: 28091.5</pre>"
            ],
            "text/plain": [
              "recommendations finished on 1000/1000 queries. users per second: 28091.5"
            ]
          },
          "metadata": {
            "tags": []
          }
        }
      ]
    },
    {
      "metadata": {
        "id": "Col5kW0eEP76",
        "colab_type": "code",
        "colab": {}
      },
      "cell_type": "code",
      "source": [
        "df_rec = recomendation.to_dataframe()\n"
      ],
      "execution_count": 0,
      "outputs": []
    },
    {
      "metadata": {
        "id": "F47rQK6RFW9R",
        "colab_type": "code",
        "colab": {}
      },
      "cell_type": "code",
      "source": [
        "df_rec['recommendedProducts'] = df_rec.groupby([user_id])[item_id] \\\n",
        "        .transform(lambda x: '|'.join(x.astype(str)))"
      ],
      "execution_count": 0,
      "outputs": []
    },
    {
      "metadata": {
        "id": "eQNzFWdBEXWp",
        "colab_type": "code",
        "colab": {}
      },
      "cell_type": "code",
      "source": [
        "\n",
        "df_output = df_rec[['id', 'recommendedProducts']].drop_duplicates() \\\n",
        "        .sort_values('id').set_index('id')"
      ],
      "execution_count": 0,
      "outputs": []
    },
    {
      "metadata": {
        "id": "ztsQTdETFdVW",
        "colab_type": "code",
        "colab": {
          "base_uri": "https://localhost:8080/",
          "height": 225
        },
        "outputId": "895402fa-d8e4-4ccf-ac91-8b1bc736d6bc"
      },
      "cell_type": "code",
      "source": [
        "df_output.head()"
      ],
      "execution_count": 75,
      "outputs": [
        {
          "output_type": "execute_result",
          "data": {
            "text/html": [
              "<div>\n",
              "<style scoped>\n",
              "    .dataframe tbody tr th:only-of-type {\n",
              "        vertical-align: middle;\n",
              "    }\n",
              "\n",
              "    .dataframe tbody tr th {\n",
              "        vertical-align: top;\n",
              "    }\n",
              "\n",
              "    .dataframe thead th {\n",
              "        text-align: right;\n",
              "    }\n",
              "</style>\n",
              "<table border=\"1\" class=\"dataframe\">\n",
              "  <thead>\n",
              "    <tr style=\"text-align: right;\">\n",
              "      <th></th>\n",
              "      <th>recommendedProducts</th>\n",
              "    </tr>\n",
              "    <tr>\n",
              "      <th>id</th>\n",
              "      <th></th>\n",
              "    </tr>\n",
              "  </thead>\n",
              "  <tbody>\n",
              "    <tr>\n",
              "      <th>0</th>\n",
              "      <td>168|248|23|32|214|126|63|139|74|110</td>\n",
              "    </tr>\n",
              "    <tr>\n",
              "      <th>1</th>\n",
              "      <td>23|79|80|112|2|40|17|177|122|150</td>\n",
              "    </tr>\n",
              "    <tr>\n",
              "      <th>2</th>\n",
              "      <td>19|36|119|11|236|55|250|37|174|167</td>\n",
              "    </tr>\n",
              "    <tr>\n",
              "      <th>3</th>\n",
              "      <td>160|36|138|107|212|150|215|22|218|72</td>\n",
              "    </tr>\n",
              "    <tr>\n",
              "      <th>4</th>\n",
              "      <td>23|153|211|176|143|129|131|152|3|234</td>\n",
              "    </tr>\n",
              "  </tbody>\n",
              "</table>\n",
              "</div>"
            ],
            "text/plain": [
              "                     recommendedProducts\n",
              "id                                      \n",
              "0    168|248|23|32|214|126|63|139|74|110\n",
              "1       23|79|80|112|2|40|17|177|122|150\n",
              "2     19|36|119|11|236|55|250|37|174|167\n",
              "3   160|36|138|107|212|150|215|22|218|72\n",
              "4   23|153|211|176|143|129|131|152|3|234"
            ]
          },
          "metadata": {
            "tags": []
          },
          "execution_count": 75
        }
      ]
    },
    {
      "metadata": {
        "id": "OkIcATf_Fkot",
        "colab_type": "code",
        "colab": {}
      },
      "cell_type": "code",
      "source": [
        ""
      ],
      "execution_count": 0,
      "outputs": []
    }
  ]
}