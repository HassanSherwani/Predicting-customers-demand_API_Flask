{
  "nbformat": 4,
  "nbformat_minor": 0,
  "metadata": {
    "colab": {
      "name": "Product_Freq.ipynb",
      "version": "0.3.2",
      "provenance": [],
      "collapsed_sections": [],
      "include_colab_link": true
    },
    "kernelspec": {
      "name": "python3",
      "display_name": "Python 3"
    }
  },
  "cells": [
    {
      "cell_type": "markdown",
      "metadata": {
        "id": "view-in-github",
        "colab_type": "text"
      },
      "source": [
        "<a href=\"https://colab.research.google.com/github/HassanSherwani/Product_Purchase_Frequency/blob/master/Product_Freq.ipynb\" target=\"_parent\"><img src=\"https://colab.research.google.com/assets/colab-badge.svg\" alt=\"Open In Colab\"/></a>"
      ]
    },
    {
      "metadata": {
        "id": "UMVYNospmyXs",
        "colab_type": "text"
      },
      "cell_type": "markdown",
      "source": [
        "# Problem Statement:\n",
        "\n",
        "How often a certain product has been sold in the past days."
      ]
    },
    {
      "metadata": {
        "id": "nL9G4pv1m403",
        "colab_type": "text"
      },
      "cell_type": "markdown",
      "source": [
        "#1)- Importing key modules"
      ]
    },
    {
      "metadata": {
        "id": "ONIqqndak2q2",
        "colab_type": "code",
        "colab": {}
      },
      "cell_type": "code",
      "source": [
        "# Let's be rebels and ignore warnings for now\n",
        "import warnings\n",
        "warnings.filterwarnings('ignore')\n",
        "warnings.filterwarnings(\"ignore\",category=DeprecationWarning)"
      ],
      "execution_count": 0,
      "outputs": []
    },
    {
      "metadata": {
        "id": "vyM7te4Diykk",
        "colab_type": "code",
        "colab": {}
      },
      "cell_type": "code",
      "source": [
        "import pandas as pd\n",
        "import numpy as np\n",
        "import time\n",
        "from sklearn.model_selection import train_test_split\n",
        "import sys"
      ],
      "execution_count": 0,
      "outputs": []
    },
    {
      "metadata": {
        "id": "qO6Amb2Hi0cg",
        "colab_type": "code",
        "outputId": "3e46a02c-d9fd-4aa9-c170-33e935f79542",
        "colab": {
          "base_uri": "https://localhost:8080/",
          "height": 642
        }
      },
      "cell_type": "code",
      "source": [
        "! pip install turicreate"
      ],
      "execution_count": 3,
      "outputs": [
        {
          "output_type": "stream",
          "text": [
            "Collecting turicreate\n",
            "\u001b[?25l  Downloading https://files.pythonhosted.org/packages/4f/ef/1847a704548ad4cbcabe09b3882181c190f5b696da8b2d082521c33ec187/turicreate-5.4-cp36-cp36m-manylinux1_x86_64.whl (87.4MB)\n",
            "\u001b[K    100% |████████████████████████████████| 87.4MB 264kB/s \n",
            "\u001b[?25hRequirement already satisfied: pillow>=3.3.0 in /usr/local/lib/python3.6/dist-packages (from turicreate) (4.1.1)\n",
            "Requirement already satisfied: requests>=2.9.1 in /usr/local/lib/python3.6/dist-packages (from turicreate) (2.18.4)\n",
            "Requirement already satisfied: numpy in /usr/local/lib/python3.6/dist-packages (from turicreate) (1.14.6)\n",
            "Requirement already satisfied: decorator>=4.0.9 in /usr/local/lib/python3.6/dist-packages (from turicreate) (4.4.0)\n",
            "Requirement already satisfied: six>=1.10.0 in /usr/local/lib/python3.6/dist-packages (from turicreate) (1.11.0)\n",
            "Collecting mxnet<1.2.0,>=1.1.0 (from turicreate)\n",
            "\u001b[?25l  Downloading https://files.pythonhosted.org/packages/96/98/c9877e100c3d1ac92263bfaba7bb8a49294e099046592040a2ff8620ac61/mxnet-1.1.0.post0-py2.py3-none-manylinux1_x86_64.whl (23.8MB)\n",
            "\u001b[K    100% |████████████████████████████████| 23.8MB 1.8MB/s \n",
            "\u001b[?25hRequirement already satisfied: resampy==0.2.1 in /usr/local/lib/python3.6/dist-packages (from turicreate) (0.2.1)\n",
            "Requirement already satisfied: pandas>=0.19.0 in /usr/local/lib/python3.6/dist-packages (from turicreate) (0.22.0)\n",
            "Requirement already satisfied: scipy>=0.14.0 in /usr/local/lib/python3.6/dist-packages (from turicreate) (1.1.0)\n",
            "Collecting coremltools==2.1.0 (from turicreate)\n",
            "\u001b[?25l  Downloading https://files.pythonhosted.org/packages/b9/9d/7ec5a2480c6afce4fcb99de1650b7abfd1457b2ef1de5ce39bf7bee8a8ae/coremltools-2.1.0-cp36-none-manylinux1_x86_64.whl (2.7MB)\n",
            "\u001b[K    100% |████████████████████████████████| 2.7MB 11.5MB/s \n",
            "\u001b[?25hRequirement already satisfied: prettytable==0.7.2 in /usr/local/lib/python3.6/dist-packages (from turicreate) (0.7.2)\n",
            "Requirement already satisfied: olefile in /usr/local/lib/python3.6/dist-packages (from pillow>=3.3.0->turicreate) (0.46)\n",
            "Requirement already satisfied: idna<2.7,>=2.5 in /usr/local/lib/python3.6/dist-packages (from requests>=2.9.1->turicreate) (2.6)\n",
            "Requirement already satisfied: chardet<3.1.0,>=3.0.2 in /usr/local/lib/python3.6/dist-packages (from requests>=2.9.1->turicreate) (3.0.4)\n",
            "Requirement already satisfied: urllib3<1.23,>=1.21.1 in /usr/local/lib/python3.6/dist-packages (from requests>=2.9.1->turicreate) (1.22)\n",
            "Requirement already satisfied: certifi>=2017.4.17 in /usr/local/lib/python3.6/dist-packages (from requests>=2.9.1->turicreate) (2019.3.9)\n",
            "Collecting graphviz<0.9.0,>=0.8.1 (from mxnet<1.2.0,>=1.1.0->turicreate)\n",
            "  Downloading https://files.pythonhosted.org/packages/53/39/4ab213673844e0c004bed8a0781a0721a3f6bb23eb8854ee75c236428892/graphviz-0.8.4-py2.py3-none-any.whl\n",
            "Requirement already satisfied: numba>=0.32 in /usr/local/lib/python3.6/dist-packages (from resampy==0.2.1->turicreate) (0.40.1)\n",
            "Requirement already satisfied: pytz>=2011k in /usr/local/lib/python3.6/dist-packages (from pandas>=0.19.0->turicreate) (2018.9)\n",
            "Requirement already satisfied: python-dateutil>=2 in /usr/local/lib/python3.6/dist-packages (from pandas>=0.19.0->turicreate) (2.5.3)\n",
            "Requirement already satisfied: protobuf>=3.1.0 in /usr/local/lib/python3.6/dist-packages (from coremltools==2.1.0->turicreate) (3.7.1)\n",
            "Requirement already satisfied: llvmlite>=0.25.0dev0 in /usr/local/lib/python3.6/dist-packages (from numba>=0.32->resampy==0.2.1->turicreate) (0.28.0)\n",
            "Requirement already satisfied: setuptools in /usr/local/lib/python3.6/dist-packages (from protobuf>=3.1.0->coremltools==2.1.0->turicreate) (40.9.0)\n",
            "Installing collected packages: graphviz, mxnet, coremltools, turicreate\n",
            "  Found existing installation: graphviz 0.10.1\n",
            "    Uninstalling graphviz-0.10.1:\n",
            "      Successfully uninstalled graphviz-0.10.1\n",
            "Successfully installed coremltools-2.1.0 graphviz-0.8.4 mxnet-1.1.0.post0 turicreate-5.4\n"
          ],
          "name": "stdout"
        }
      ]
    },
    {
      "metadata": {
        "id": "MAc6IaOpi00I",
        "colab_type": "code",
        "colab": {}
      },
      "cell_type": "code",
      "source": [
        "import turicreate as tc"
      ],
      "execution_count": 0,
      "outputs": []
    },
    {
      "metadata": {
        "id": "3Tm0EX0ynzAr",
        "colab_type": "text"
      },
      "cell_type": "markdown",
      "source": [
        "# 2)-Loading Data"
      ]
    },
    {
      "metadata": {
        "id": "Sv4bz7lpjJ1c",
        "colab_type": "code",
        "colab": {}
      },
      "cell_type": "code",
      "source": [
        "url = 'https://raw.githubusercontent.com/HassanSherwani/Product_Purchase_Frequency/master/20190207_transactions%20.json'"
      ],
      "execution_count": 0,
      "outputs": []
    },
    {
      "metadata": {
        "id": "CVUUTZoljOm1",
        "colab_type": "code",
        "colab": {}
      },
      "cell_type": "code",
      "source": [
        "transactions = pd.read_json(url, lines= True)"
      ],
      "execution_count": 0,
      "outputs": []
    },
    {
      "metadata": {
        "id": "A-tmEIdNn5tq",
        "colab_type": "text"
      },
      "cell_type": "markdown",
      "source": [
        "# 3)-Exploring dataset"
      ]
    },
    {
      "metadata": {
        "id": "yCBuFRWPjQ0W",
        "colab_type": "code",
        "outputId": "e3d9c1e3-2e2c-4d03-8ed6-877cb7245cea",
        "colab": {
          "base_uri": "https://localhost:8080/",
          "height": 195
        }
      },
      "cell_type": "code",
      "source": [
        "transactions.head()"
      ],
      "execution_count": 7,
      "outputs": [
        {
          "output_type": "execute_result",
          "data": {
            "text/html": [
              "<div>\n",
              "<style scoped>\n",
              "    .dataframe tbody tr th:only-of-type {\n",
              "        vertical-align: middle;\n",
              "    }\n",
              "\n",
              "    .dataframe tbody tr th {\n",
              "        vertical-align: top;\n",
              "    }\n",
              "\n",
              "    .dataframe thead th {\n",
              "        text-align: right;\n",
              "    }\n",
              "</style>\n",
              "<table border=\"1\" class=\"dataframe\">\n",
              "  <thead>\n",
              "    <tr style=\"text-align: right;\">\n",
              "      <th></th>\n",
              "      <th>id</th>\n",
              "      <th>products</th>\n",
              "    </tr>\n",
              "  </thead>\n",
              "  <tbody>\n",
              "    <tr>\n",
              "      <th>0</th>\n",
              "      <td>0</td>\n",
              "      <td>[185, 30, 77, 188, 78, 125, 45, 155, 241, 229,...</td>\n",
              "    </tr>\n",
              "    <tr>\n",
              "      <th>1</th>\n",
              "      <td>1</td>\n",
              "      <td>[119, 148, 108, 34, 157, 82, 113, 45, 165]</td>\n",
              "    </tr>\n",
              "    <tr>\n",
              "      <th>2</th>\n",
              "      <td>2</td>\n",
              "      <td>[173, 103, 229, 240]</td>\n",
              "    </tr>\n",
              "    <tr>\n",
              "      <th>3</th>\n",
              "      <td>3</td>\n",
              "      <td>[91]</td>\n",
              "    </tr>\n",
              "    <tr>\n",
              "      <th>4</th>\n",
              "      <td>4</td>\n",
              "      <td>[175, 192, 54, 172]</td>\n",
              "    </tr>\n",
              "  </tbody>\n",
              "</table>\n",
              "</div>"
            ],
            "text/plain": [
              "   id                                           products\n",
              "0   0  [185, 30, 77, 188, 78, 125, 45, 155, 241, 229,...\n",
              "1   1         [119, 148, 108, 34, 157, 82, 113, 45, 165]\n",
              "2   2                               [173, 103, 229, 240]\n",
              "3   3                                               [91]\n",
              "4   4                                [175, 192, 54, 172]"
            ]
          },
          "metadata": {
            "tags": []
          },
          "execution_count": 7
        }
      ]
    },
    {
      "metadata": {
        "id": "yPAUbIxWojdD",
        "colab_type": "code",
        "outputId": "a3b23400-df64-4988-f445-bf47e33e1194",
        "colab": {
          "base_uri": "https://localhost:8080/",
          "height": 34
        }
      },
      "cell_type": "code",
      "source": [
        "transactions.shape"
      ],
      "execution_count": 8,
      "outputs": [
        {
          "output_type": "execute_result",
          "data": {
            "text/plain": [
              "(2500, 2)"
            ]
          },
          "metadata": {
            "tags": []
          },
          "execution_count": 8
        }
      ]
    },
    {
      "metadata": {
        "id": "-lBpAA8jbF2j",
        "colab_type": "code",
        "outputId": "7cbab572-8cc7-4211-b5b8-13bdc91cf77d",
        "colab": {
          "base_uri": "https://localhost:8080/",
          "height": 34
        }
      },
      "cell_type": "code",
      "source": [
        "print(transactions['products'][1415])"
      ],
      "execution_count": 9,
      "outputs": [
        {
          "output_type": "stream",
          "text": [
            "[250, 236, 242, 229, 92, 2, 71, 172, 109, 247, 171, 209, 90, 139, 188, 191, 145, 214, 216, 237]\n"
          ],
          "name": "stdout"
        }
      ]
    },
    {
      "metadata": {
        "id": "VgeTdpb8jSrM",
        "colab_type": "code",
        "outputId": "b602ab47-a596-4ecb-f14a-5dc6a6f2e926",
        "colab": {
          "base_uri": "https://localhost:8080/",
          "height": 134
        }
      },
      "cell_type": "code",
      "source": [
        "transactions.info() # checking missing values"
      ],
      "execution_count": 10,
      "outputs": [
        {
          "output_type": "stream",
          "text": [
            "<class 'pandas.core.frame.DataFrame'>\n",
            "Int64Index: 2500 entries, 0 to 2499\n",
            "Data columns (total 2 columns):\n",
            "id          2500 non-null int64\n",
            "products    2500 non-null object\n",
            "dtypes: int64(1), object(1)\n",
            "memory usage: 138.6+ KB\n"
          ],
          "name": "stdout"
        }
      ]
    },
    {
      "metadata": {
        "id": "5AKaMrgsoHvq",
        "colab_type": "code",
        "outputId": "362181c1-bce8-464e-8371-6493c1d43893",
        "colab": {
          "base_uri": "https://localhost:8080/",
          "height": 284
        }
      },
      "cell_type": "code",
      "source": [
        "transactions.describe()"
      ],
      "execution_count": 11,
      "outputs": [
        {
          "output_type": "execute_result",
          "data": {
            "text/html": [
              "<div>\n",
              "<style scoped>\n",
              "    .dataframe tbody tr th:only-of-type {\n",
              "        vertical-align: middle;\n",
              "    }\n",
              "\n",
              "    .dataframe tbody tr th {\n",
              "        vertical-align: top;\n",
              "    }\n",
              "\n",
              "    .dataframe thead th {\n",
              "        text-align: right;\n",
              "    }\n",
              "</style>\n",
              "<table border=\"1\" class=\"dataframe\">\n",
              "  <thead>\n",
              "    <tr style=\"text-align: right;\">\n",
              "      <th></th>\n",
              "      <th>id</th>\n",
              "    </tr>\n",
              "  </thead>\n",
              "  <tbody>\n",
              "    <tr>\n",
              "      <th>count</th>\n",
              "      <td>2500.00000</td>\n",
              "    </tr>\n",
              "    <tr>\n",
              "      <th>mean</th>\n",
              "      <td>1249.50000</td>\n",
              "    </tr>\n",
              "    <tr>\n",
              "      <th>std</th>\n",
              "      <td>721.83216</td>\n",
              "    </tr>\n",
              "    <tr>\n",
              "      <th>min</th>\n",
              "      <td>0.00000</td>\n",
              "    </tr>\n",
              "    <tr>\n",
              "      <th>25%</th>\n",
              "      <td>624.75000</td>\n",
              "    </tr>\n",
              "    <tr>\n",
              "      <th>50%</th>\n",
              "      <td>1249.50000</td>\n",
              "    </tr>\n",
              "    <tr>\n",
              "      <th>75%</th>\n",
              "      <td>1874.25000</td>\n",
              "    </tr>\n",
              "    <tr>\n",
              "      <th>max</th>\n",
              "      <td>2499.00000</td>\n",
              "    </tr>\n",
              "  </tbody>\n",
              "</table>\n",
              "</div>"
            ],
            "text/plain": [
              "               id\n",
              "count  2500.00000\n",
              "mean   1249.50000\n",
              "std     721.83216\n",
              "min       0.00000\n",
              "25%     624.75000\n",
              "50%    1249.50000\n",
              "75%    1874.25000\n",
              "max    2499.00000"
            ]
          },
          "metadata": {
            "tags": []
          },
          "execution_count": 11
        }
      ]
    },
    {
      "metadata": {
        "id": "Ceiu-Cp2n_wJ",
        "colab_type": "text"
      },
      "cell_type": "markdown",
      "source": [
        "# 4)- Adding Features:"
      ]
    },
    {
      "metadata": {
        "id": "rSA3uKD2oKor",
        "colab_type": "text"
      },
      "cell_type": "markdown",
      "source": [
        "### 4.1)-Create a separate dataframe for recommending users"
      ]
    },
    {
      "metadata": {
        "id": "0DBhi0vnu8SS",
        "colab_type": "code",
        "colab": {}
      },
      "cell_type": "code",
      "source": [
        "customers=transactions['id']"
      ],
      "execution_count": 0,
      "outputs": []
    },
    {
      "metadata": {
        "id": "2MHbsJKibaUr",
        "colab_type": "code",
        "outputId": "23d90967-8f6b-457e-9a58-6d2794ad74ee",
        "colab": {
          "base_uri": "https://localhost:8080/",
          "height": 118
        }
      },
      "cell_type": "code",
      "source": [
        "customers.head()"
      ],
      "execution_count": 13,
      "outputs": [
        {
          "output_type": "execute_result",
          "data": {
            "text/plain": [
              "0    0\n",
              "1    1\n",
              "2    2\n",
              "3    3\n",
              "4    4\n",
              "Name: id, dtype: int64"
            ]
          },
          "metadata": {
            "tags": []
          },
          "execution_count": 13
        }
      ]
    },
    {
      "metadata": {
        "id": "A-mi3uWwa-4X",
        "colab_type": "code",
        "colab": {}
      },
      "cell_type": "code",
      "source": [
        "import random\n",
        "random.shuffle(customers) "
      ],
      "execution_count": 0,
      "outputs": []
    },
    {
      "metadata": {
        "id": "GfeS_uKkmlS2",
        "colab_type": "text"
      },
      "cell_type": "markdown",
      "source": [
        " To get random values of customer ids. This would help us in avoiding sample biaseness in our modeling."
      ]
    },
    {
      "metadata": {
        "id": "Sb4DSom_vM3j",
        "colab_type": "code",
        "colab": {}
      },
      "cell_type": "code",
      "source": [
        "cust_2_rec=customers[:1000]"
      ],
      "execution_count": 0,
      "outputs": []
    },
    {
      "metadata": {
        "id": "Z4FNm7k7dX7K",
        "colab_type": "code",
        "outputId": "13cf6f0e-98d7-44cd-cf96-4195eae85922",
        "colab": {
          "base_uri": "https://localhost:8080/",
          "height": 118
        }
      },
      "cell_type": "code",
      "source": [
        "cust_2_rec.head()"
      ],
      "execution_count": 16,
      "outputs": [
        {
          "output_type": "execute_result",
          "data": {
            "text/plain": [
              "0    2109\n",
              "1    2383\n",
              "2    2465\n",
              "3    1176\n",
              "4    2083\n",
              "Name: id, dtype: int64"
            ]
          },
          "metadata": {
            "tags": []
          },
          "execution_count": 16
        }
      ]
    },
    {
      "metadata": {
        "id": "dpikg3_GoW4k",
        "colab_type": "text"
      },
      "cell_type": "markdown",
      "source": [
        "### 4.2)- break down each list of items in the products column into rows and count the number of products bought by a user"
      ]
    },
    {
      "metadata": {
        "id": "zeYv4cVJoQg1",
        "colab_type": "code",
        "outputId": "946d79e9-79de-4d6a-fd3e-718488f12591",
        "colab": {
          "base_uri": "https://localhost:8080/",
          "height": 758
        }
      },
      "cell_type": "code",
      "source": [
        "\n",
        "\n",
        "pd.melt(transactions.head(2).set_index('id')['products'].apply(pd.Series).reset_index(), \n",
        "             id_vars=['id'],\n",
        "             value_name='products') \\\n",
        "    .dropna().drop(['variable'], axis=1) \\\n",
        "    .groupby(['id', 'products']) \\\n",
        "    .agg({'products': 'count'}) \\\n",
        "    .rename(columns={'products': 'purchase_count'}) \\\n",
        "    .reset_index() \\\n",
        "    .rename(columns={'products': 'productId'})"
      ],
      "execution_count": 17,
      "outputs": [
        {
          "output_type": "execute_result",
          "data": {
            "text/html": [
              "<div>\n",
              "<style scoped>\n",
              "    .dataframe tbody tr th:only-of-type {\n",
              "        vertical-align: middle;\n",
              "    }\n",
              "\n",
              "    .dataframe tbody tr th {\n",
              "        vertical-align: top;\n",
              "    }\n",
              "\n",
              "    .dataframe thead th {\n",
              "        text-align: right;\n",
              "    }\n",
              "</style>\n",
              "<table border=\"1\" class=\"dataframe\">\n",
              "  <thead>\n",
              "    <tr style=\"text-align: right;\">\n",
              "      <th></th>\n",
              "      <th>id</th>\n",
              "      <th>productId</th>\n",
              "      <th>purchase_count</th>\n",
              "    </tr>\n",
              "  </thead>\n",
              "  <tbody>\n",
              "    <tr>\n",
              "      <th>0</th>\n",
              "      <td>2109</td>\n",
              "      <td>30.0</td>\n",
              "      <td>1</td>\n",
              "    </tr>\n",
              "    <tr>\n",
              "      <th>1</th>\n",
              "      <td>2109</td>\n",
              "      <td>45.0</td>\n",
              "      <td>1</td>\n",
              "    </tr>\n",
              "    <tr>\n",
              "      <th>2</th>\n",
              "      <td>2109</td>\n",
              "      <td>77.0</td>\n",
              "      <td>1</td>\n",
              "    </tr>\n",
              "    <tr>\n",
              "      <th>3</th>\n",
              "      <td>2109</td>\n",
              "      <td>78.0</td>\n",
              "      <td>1</td>\n",
              "    </tr>\n",
              "    <tr>\n",
              "      <th>4</th>\n",
              "      <td>2109</td>\n",
              "      <td>89.0</td>\n",
              "      <td>2</td>\n",
              "    </tr>\n",
              "    <tr>\n",
              "      <th>5</th>\n",
              "      <td>2109</td>\n",
              "      <td>125.0</td>\n",
              "      <td>1</td>\n",
              "    </tr>\n",
              "    <tr>\n",
              "      <th>6</th>\n",
              "      <td>2109</td>\n",
              "      <td>133.0</td>\n",
              "      <td>1</td>\n",
              "    </tr>\n",
              "    <tr>\n",
              "      <th>7</th>\n",
              "      <td>2109</td>\n",
              "      <td>155.0</td>\n",
              "      <td>1</td>\n",
              "    </tr>\n",
              "    <tr>\n",
              "      <th>8</th>\n",
              "      <td>2109</td>\n",
              "      <td>161.0</td>\n",
              "      <td>1</td>\n",
              "    </tr>\n",
              "    <tr>\n",
              "      <th>9</th>\n",
              "      <td>2109</td>\n",
              "      <td>185.0</td>\n",
              "      <td>1</td>\n",
              "    </tr>\n",
              "    <tr>\n",
              "      <th>10</th>\n",
              "      <td>2109</td>\n",
              "      <td>188.0</td>\n",
              "      <td>1</td>\n",
              "    </tr>\n",
              "    <tr>\n",
              "      <th>11</th>\n",
              "      <td>2109</td>\n",
              "      <td>210.0</td>\n",
              "      <td>1</td>\n",
              "    </tr>\n",
              "    <tr>\n",
              "      <th>12</th>\n",
              "      <td>2109</td>\n",
              "      <td>229.0</td>\n",
              "      <td>1</td>\n",
              "    </tr>\n",
              "    <tr>\n",
              "      <th>13</th>\n",
              "      <td>2109</td>\n",
              "      <td>238.0</td>\n",
              "      <td>1</td>\n",
              "    </tr>\n",
              "    <tr>\n",
              "      <th>14</th>\n",
              "      <td>2109</td>\n",
              "      <td>241.0</td>\n",
              "      <td>1</td>\n",
              "    </tr>\n",
              "    <tr>\n",
              "      <th>15</th>\n",
              "      <td>2383</td>\n",
              "      <td>34.0</td>\n",
              "      <td>1</td>\n",
              "    </tr>\n",
              "    <tr>\n",
              "      <th>16</th>\n",
              "      <td>2383</td>\n",
              "      <td>45.0</td>\n",
              "      <td>1</td>\n",
              "    </tr>\n",
              "    <tr>\n",
              "      <th>17</th>\n",
              "      <td>2383</td>\n",
              "      <td>82.0</td>\n",
              "      <td>1</td>\n",
              "    </tr>\n",
              "    <tr>\n",
              "      <th>18</th>\n",
              "      <td>2383</td>\n",
              "      <td>108.0</td>\n",
              "      <td>1</td>\n",
              "    </tr>\n",
              "    <tr>\n",
              "      <th>19</th>\n",
              "      <td>2383</td>\n",
              "      <td>113.0</td>\n",
              "      <td>1</td>\n",
              "    </tr>\n",
              "    <tr>\n",
              "      <th>20</th>\n",
              "      <td>2383</td>\n",
              "      <td>119.0</td>\n",
              "      <td>1</td>\n",
              "    </tr>\n",
              "    <tr>\n",
              "      <th>21</th>\n",
              "      <td>2383</td>\n",
              "      <td>148.0</td>\n",
              "      <td>1</td>\n",
              "    </tr>\n",
              "    <tr>\n",
              "      <th>22</th>\n",
              "      <td>2383</td>\n",
              "      <td>157.0</td>\n",
              "      <td>1</td>\n",
              "    </tr>\n",
              "    <tr>\n",
              "      <th>23</th>\n",
              "      <td>2383</td>\n",
              "      <td>165.0</td>\n",
              "      <td>1</td>\n",
              "    </tr>\n",
              "  </tbody>\n",
              "</table>\n",
              "</div>"
            ],
            "text/plain": [
              "      id  productId  purchase_count\n",
              "0   2109       30.0               1\n",
              "1   2109       45.0               1\n",
              "2   2109       77.0               1\n",
              "3   2109       78.0               1\n",
              "4   2109       89.0               2\n",
              "5   2109      125.0               1\n",
              "6   2109      133.0               1\n",
              "7   2109      155.0               1\n",
              "8   2109      161.0               1\n",
              "9   2109      185.0               1\n",
              "10  2109      188.0               1\n",
              "11  2109      210.0               1\n",
              "12  2109      229.0               1\n",
              "13  2109      238.0               1\n",
              "14  2109      241.0               1\n",
              "15  2383       34.0               1\n",
              "16  2383       45.0               1\n",
              "17  2383       82.0               1\n",
              "18  2383      108.0               1\n",
              "19  2383      113.0               1\n",
              "20  2383      119.0               1\n",
              "21  2383      148.0               1\n",
              "22  2383      157.0               1\n",
              "23  2383      165.0               1"
            ]
          },
          "metadata": {
            "tags": []
          },
          "execution_count": 17
        }
      ]
    },
    {
      "metadata": {
        "id": "F6Hj3u6AooZp",
        "colab_type": "text"
      },
      "cell_type": "markdown",
      "source": [
        "# 5- Creating features for user_id,product_id and purchase count"
      ]
    },
    {
      "metadata": {
        "id": "FzBoXd9gorSJ",
        "colab_type": "text"
      },
      "cell_type": "markdown",
      "source": [
        "### 5a)-One for purchase count"
      ]
    },
    {
      "metadata": {
        "id": "KQIQ1Djlo5zz",
        "colab_type": "code",
        "outputId": "728f5cf5-b32d-4506-bf04-b4c5d522ecc7",
        "colab": {
          "base_uri": "https://localhost:8080/",
          "height": 34
        }
      },
      "cell_type": "code",
      "source": [
        "s=time.time()\n",
        "\n",
        "data = pd.melt(transactions.set_index('id')['products'].apply(pd.Series).reset_index(), \n",
        "             id_vars=['id'],\n",
        "             value_name='products') \\\n",
        "    .dropna().drop(['variable'], axis=1) \\\n",
        "    .groupby(['id', 'products']) \\\n",
        "    .agg({'products': 'count'}) \\\n",
        "    .rename(columns={'products': 'purchase_count'}) \\\n",
        "    .reset_index() \\\n",
        "    .rename(columns={'products': 'productId'})\n",
        "data['productId'] = data['productId'].astype(np.int64)\n",
        "\n",
        "print(\"Execution time:\", round((time.time()-s)/60,2), \"minutes\")"
      ],
      "execution_count": 18,
      "outputs": [
        {
          "output_type": "stream",
          "text": [
            "Execution time: 0.01 minutes\n"
          ],
          "name": "stdout"
        }
      ]
    },
    {
      "metadata": {
        "id": "A8OZyl_Gqzy4",
        "colab_type": "code",
        "outputId": "11443f5b-658f-45db-8f63-6da0f3ba9c7f",
        "colab": {
          "base_uri": "https://localhost:8080/",
          "height": 34
        }
      },
      "cell_type": "code",
      "source": [
        "data.shape"
      ],
      "execution_count": 19,
      "outputs": [
        {
          "output_type": "execute_result",
          "data": {
            "text/plain": [
              "(24811, 3)"
            ]
          },
          "metadata": {
            "tags": []
          },
          "execution_count": 19
        }
      ]
    },
    {
      "metadata": {
        "id": "f-NAiHgoq3rP",
        "colab_type": "code",
        "outputId": "e5be0cc1-5d31-45fe-c2b7-2a4b792f537d",
        "colab": {
          "base_uri": "https://localhost:8080/",
          "height": 195
        }
      },
      "cell_type": "code",
      "source": [
        "data.head()"
      ],
      "execution_count": 20,
      "outputs": [
        {
          "output_type": "execute_result",
          "data": {
            "text/html": [
              "<div>\n",
              "<style scoped>\n",
              "    .dataframe tbody tr th:only-of-type {\n",
              "        vertical-align: middle;\n",
              "    }\n",
              "\n",
              "    .dataframe tbody tr th {\n",
              "        vertical-align: top;\n",
              "    }\n",
              "\n",
              "    .dataframe thead th {\n",
              "        text-align: right;\n",
              "    }\n",
              "</style>\n",
              "<table border=\"1\" class=\"dataframe\">\n",
              "  <thead>\n",
              "    <tr style=\"text-align: right;\">\n",
              "      <th></th>\n",
              "      <th>id</th>\n",
              "      <th>productId</th>\n",
              "      <th>purchase_count</th>\n",
              "    </tr>\n",
              "  </thead>\n",
              "  <tbody>\n",
              "    <tr>\n",
              "      <th>0</th>\n",
              "      <td>0</td>\n",
              "      <td>10</td>\n",
              "      <td>1</td>\n",
              "    </tr>\n",
              "    <tr>\n",
              "      <th>1</th>\n",
              "      <td>0</td>\n",
              "      <td>15</td>\n",
              "      <td>1</td>\n",
              "    </tr>\n",
              "    <tr>\n",
              "      <th>2</th>\n",
              "      <td>0</td>\n",
              "      <td>43</td>\n",
              "      <td>1</td>\n",
              "    </tr>\n",
              "    <tr>\n",
              "      <th>3</th>\n",
              "      <td>0</td>\n",
              "      <td>133</td>\n",
              "      <td>1</td>\n",
              "    </tr>\n",
              "    <tr>\n",
              "      <th>4</th>\n",
              "      <td>0</td>\n",
              "      <td>169</td>\n",
              "      <td>2</td>\n",
              "    </tr>\n",
              "  </tbody>\n",
              "</table>\n",
              "</div>"
            ],
            "text/plain": [
              "   id  productId  purchase_count\n",
              "0   0         10               1\n",
              "1   0         15               1\n",
              "2   0         43               1\n",
              "3   0        133               1\n",
              "4   0        169               2"
            ]
          },
          "metadata": {
            "tags": []
          },
          "execution_count": 20
        }
      ]
    },
    {
      "metadata": {
        "id": "MbBQ-KRxo_rQ",
        "colab_type": "text"
      },
      "cell_type": "markdown",
      "source": [
        "### 5-b)-Normalize item\n",
        "\n",
        "we normalize purchase frequency of each item across users by first creating a user-item matrix "
      ]
    },
    {
      "metadata": {
        "id": "e_rsFroyrTXV",
        "colab_type": "code",
        "colab": {}
      },
      "cell_type": "code",
      "source": [
        "df_matrix = pd.pivot_table(data, values='purchase_count', index='id', columns='productId')"
      ],
      "execution_count": 0,
      "outputs": []
    },
    {
      "metadata": {
        "id": "Fba9TbRorjoE",
        "colab_type": "code",
        "outputId": "d3e3a9ff-06f9-4191-8c2a-e0a6b04e706b",
        "colab": {
          "base_uri": "https://localhost:8080/",
          "height": 254
        }
      },
      "cell_type": "code",
      "source": [
        "df_matrix.head()"
      ],
      "execution_count": 22,
      "outputs": [
        {
          "output_type": "execute_result",
          "data": {
            "text/html": [
              "<div>\n",
              "<style scoped>\n",
              "    .dataframe tbody tr th:only-of-type {\n",
              "        vertical-align: middle;\n",
              "    }\n",
              "\n",
              "    .dataframe tbody tr th {\n",
              "        vertical-align: top;\n",
              "    }\n",
              "\n",
              "    .dataframe thead th {\n",
              "        text-align: right;\n",
              "    }\n",
              "</style>\n",
              "<table border=\"1\" class=\"dataframe\">\n",
              "  <thead>\n",
              "    <tr style=\"text-align: right;\">\n",
              "      <th>productId</th>\n",
              "      <th>1</th>\n",
              "      <th>2</th>\n",
              "      <th>3</th>\n",
              "      <th>4</th>\n",
              "      <th>5</th>\n",
              "      <th>6</th>\n",
              "      <th>7</th>\n",
              "      <th>8</th>\n",
              "      <th>9</th>\n",
              "      <th>10</th>\n",
              "      <th>...</th>\n",
              "      <th>241</th>\n",
              "      <th>242</th>\n",
              "      <th>243</th>\n",
              "      <th>244</th>\n",
              "      <th>245</th>\n",
              "      <th>246</th>\n",
              "      <th>247</th>\n",
              "      <th>248</th>\n",
              "      <th>249</th>\n",
              "      <th>250</th>\n",
              "    </tr>\n",
              "    <tr>\n",
              "      <th>id</th>\n",
              "      <th></th>\n",
              "      <th></th>\n",
              "      <th></th>\n",
              "      <th></th>\n",
              "      <th></th>\n",
              "      <th></th>\n",
              "      <th></th>\n",
              "      <th></th>\n",
              "      <th></th>\n",
              "      <th></th>\n",
              "      <th></th>\n",
              "      <th></th>\n",
              "      <th></th>\n",
              "      <th></th>\n",
              "      <th></th>\n",
              "      <th></th>\n",
              "      <th></th>\n",
              "      <th></th>\n",
              "      <th></th>\n",
              "      <th></th>\n",
              "      <th></th>\n",
              "    </tr>\n",
              "  </thead>\n",
              "  <tbody>\n",
              "    <tr>\n",
              "      <th>0</th>\n",
              "      <td>NaN</td>\n",
              "      <td>NaN</td>\n",
              "      <td>NaN</td>\n",
              "      <td>NaN</td>\n",
              "      <td>NaN</td>\n",
              "      <td>NaN</td>\n",
              "      <td>NaN</td>\n",
              "      <td>NaN</td>\n",
              "      <td>NaN</td>\n",
              "      <td>1.0</td>\n",
              "      <td>...</td>\n",
              "      <td>NaN</td>\n",
              "      <td>NaN</td>\n",
              "      <td>NaN</td>\n",
              "      <td>NaN</td>\n",
              "      <td>1.0</td>\n",
              "      <td>NaN</td>\n",
              "      <td>NaN</td>\n",
              "      <td>NaN</td>\n",
              "      <td>NaN</td>\n",
              "      <td>NaN</td>\n",
              "    </tr>\n",
              "    <tr>\n",
              "      <th>1</th>\n",
              "      <td>NaN</td>\n",
              "      <td>NaN</td>\n",
              "      <td>NaN</td>\n",
              "      <td>NaN</td>\n",
              "      <td>NaN</td>\n",
              "      <td>NaN</td>\n",
              "      <td>NaN</td>\n",
              "      <td>NaN</td>\n",
              "      <td>1.0</td>\n",
              "      <td>NaN</td>\n",
              "      <td>...</td>\n",
              "      <td>NaN</td>\n",
              "      <td>NaN</td>\n",
              "      <td>NaN</td>\n",
              "      <td>NaN</td>\n",
              "      <td>NaN</td>\n",
              "      <td>NaN</td>\n",
              "      <td>NaN</td>\n",
              "      <td>NaN</td>\n",
              "      <td>NaN</td>\n",
              "      <td>NaN</td>\n",
              "    </tr>\n",
              "    <tr>\n",
              "      <th>3</th>\n",
              "      <td>NaN</td>\n",
              "      <td>NaN</td>\n",
              "      <td>NaN</td>\n",
              "      <td>NaN</td>\n",
              "      <td>NaN</td>\n",
              "      <td>NaN</td>\n",
              "      <td>NaN</td>\n",
              "      <td>NaN</td>\n",
              "      <td>NaN</td>\n",
              "      <td>NaN</td>\n",
              "      <td>...</td>\n",
              "      <td>NaN</td>\n",
              "      <td>NaN</td>\n",
              "      <td>NaN</td>\n",
              "      <td>NaN</td>\n",
              "      <td>NaN</td>\n",
              "      <td>NaN</td>\n",
              "      <td>NaN</td>\n",
              "      <td>NaN</td>\n",
              "      <td>NaN</td>\n",
              "      <td>NaN</td>\n",
              "    </tr>\n",
              "    <tr>\n",
              "      <th>4</th>\n",
              "      <td>NaN</td>\n",
              "      <td>NaN</td>\n",
              "      <td>NaN</td>\n",
              "      <td>NaN</td>\n",
              "      <td>NaN</td>\n",
              "      <td>NaN</td>\n",
              "      <td>NaN</td>\n",
              "      <td>NaN</td>\n",
              "      <td>NaN</td>\n",
              "      <td>NaN</td>\n",
              "      <td>...</td>\n",
              "      <td>NaN</td>\n",
              "      <td>NaN</td>\n",
              "      <td>NaN</td>\n",
              "      <td>NaN</td>\n",
              "      <td>NaN</td>\n",
              "      <td>NaN</td>\n",
              "      <td>NaN</td>\n",
              "      <td>NaN</td>\n",
              "      <td>NaN</td>\n",
              "      <td>NaN</td>\n",
              "    </tr>\n",
              "    <tr>\n",
              "      <th>5</th>\n",
              "      <td>NaN</td>\n",
              "      <td>NaN</td>\n",
              "      <td>NaN</td>\n",
              "      <td>NaN</td>\n",
              "      <td>NaN</td>\n",
              "      <td>NaN</td>\n",
              "      <td>NaN</td>\n",
              "      <td>NaN</td>\n",
              "      <td>NaN</td>\n",
              "      <td>NaN</td>\n",
              "      <td>...</td>\n",
              "      <td>NaN</td>\n",
              "      <td>1.0</td>\n",
              "      <td>1.0</td>\n",
              "      <td>NaN</td>\n",
              "      <td>NaN</td>\n",
              "      <td>NaN</td>\n",
              "      <td>NaN</td>\n",
              "      <td>NaN</td>\n",
              "      <td>NaN</td>\n",
              "      <td>NaN</td>\n",
              "    </tr>\n",
              "  </tbody>\n",
              "</table>\n",
              "<p>5 rows × 250 columns</p>\n",
              "</div>"
            ],
            "text/plain": [
              "productId  1    2    3    4    5    6    7    8    9    10  ...   241  242  \\\n",
              "id                                                          ...              \n",
              "0          NaN  NaN  NaN  NaN  NaN  NaN  NaN  NaN  NaN  1.0 ...   NaN  NaN   \n",
              "1          NaN  NaN  NaN  NaN  NaN  NaN  NaN  NaN  1.0  NaN ...   NaN  NaN   \n",
              "3          NaN  NaN  NaN  NaN  NaN  NaN  NaN  NaN  NaN  NaN ...   NaN  NaN   \n",
              "4          NaN  NaN  NaN  NaN  NaN  NaN  NaN  NaN  NaN  NaN ...   NaN  NaN   \n",
              "5          NaN  NaN  NaN  NaN  NaN  NaN  NaN  NaN  NaN  NaN ...   NaN  1.0   \n",
              "\n",
              "productId  243  244  245  246  247  248  249  250  \n",
              "id                                                 \n",
              "0          NaN  NaN  1.0  NaN  NaN  NaN  NaN  NaN  \n",
              "1          NaN  NaN  NaN  NaN  NaN  NaN  NaN  NaN  \n",
              "3          NaN  NaN  NaN  NaN  NaN  NaN  NaN  NaN  \n",
              "4          NaN  NaN  NaN  NaN  NaN  NaN  NaN  NaN  \n",
              "5          1.0  NaN  NaN  NaN  NaN  NaN  NaN  NaN  \n",
              "\n",
              "[5 rows x 250 columns]"
            ]
          },
          "metadata": {
            "tags": []
          },
          "execution_count": 22
        }
      ]
    },
    {
      "metadata": {
        "id": "IdwXTDfYmJ2O",
        "colab_type": "text"
      },
      "cell_type": "markdown",
      "source": [
        "The NaN tells us that the item represented by the column was not purchased in that specific transaction."
      ]
    },
    {
      "metadata": {
        "id": "GmABscQbrpHq",
        "colab_type": "code",
        "outputId": "e1ce11b3-d25c-4bcf-b01b-e3b8f615c339",
        "colab": {
          "base_uri": "https://localhost:8080/",
          "height": 34
        }
      },
      "cell_type": "code",
      "source": [
        "df_matrix.shape"
      ],
      "execution_count": 23,
      "outputs": [
        {
          "output_type": "execute_result",
          "data": {
            "text/plain": [
              "(2378, 250)"
            ]
          },
          "metadata": {
            "tags": []
          },
          "execution_count": 23
        }
      ]
    },
    {
      "metadata": {
        "id": "PfyHzkE3rs2X",
        "colab_type": "code",
        "outputId": "7f6ac7ac-e61f-4657-f5d3-61c59fb5631d",
        "colab": {
          "base_uri": "https://localhost:8080/",
          "height": 254
        }
      },
      "cell_type": "code",
      "source": [
        "df_matrix_norm = (df_matrix-df_matrix.min())/(df_matrix.max()-df_matrix.min())\n",
        "\n",
        "df_matrix_norm.head()"
      ],
      "execution_count": 24,
      "outputs": [
        {
          "output_type": "execute_result",
          "data": {
            "text/html": [
              "<div>\n",
              "<style scoped>\n",
              "    .dataframe tbody tr th:only-of-type {\n",
              "        vertical-align: middle;\n",
              "    }\n",
              "\n",
              "    .dataframe tbody tr th {\n",
              "        vertical-align: top;\n",
              "    }\n",
              "\n",
              "    .dataframe thead th {\n",
              "        text-align: right;\n",
              "    }\n",
              "</style>\n",
              "<table border=\"1\" class=\"dataframe\">\n",
              "  <thead>\n",
              "    <tr style=\"text-align: right;\">\n",
              "      <th>productId</th>\n",
              "      <th>1</th>\n",
              "      <th>2</th>\n",
              "      <th>3</th>\n",
              "      <th>4</th>\n",
              "      <th>5</th>\n",
              "      <th>6</th>\n",
              "      <th>7</th>\n",
              "      <th>8</th>\n",
              "      <th>9</th>\n",
              "      <th>10</th>\n",
              "      <th>...</th>\n",
              "      <th>241</th>\n",
              "      <th>242</th>\n",
              "      <th>243</th>\n",
              "      <th>244</th>\n",
              "      <th>245</th>\n",
              "      <th>246</th>\n",
              "      <th>247</th>\n",
              "      <th>248</th>\n",
              "      <th>249</th>\n",
              "      <th>250</th>\n",
              "    </tr>\n",
              "    <tr>\n",
              "      <th>id</th>\n",
              "      <th></th>\n",
              "      <th></th>\n",
              "      <th></th>\n",
              "      <th></th>\n",
              "      <th></th>\n",
              "      <th></th>\n",
              "      <th></th>\n",
              "      <th></th>\n",
              "      <th></th>\n",
              "      <th></th>\n",
              "      <th></th>\n",
              "      <th></th>\n",
              "      <th></th>\n",
              "      <th></th>\n",
              "      <th></th>\n",
              "      <th></th>\n",
              "      <th></th>\n",
              "      <th></th>\n",
              "      <th></th>\n",
              "      <th></th>\n",
              "      <th></th>\n",
              "    </tr>\n",
              "  </thead>\n",
              "  <tbody>\n",
              "    <tr>\n",
              "      <th>0</th>\n",
              "      <td>NaN</td>\n",
              "      <td>NaN</td>\n",
              "      <td>NaN</td>\n",
              "      <td>NaN</td>\n",
              "      <td>NaN</td>\n",
              "      <td>NaN</td>\n",
              "      <td>NaN</td>\n",
              "      <td>NaN</td>\n",
              "      <td>NaN</td>\n",
              "      <td>0.0</td>\n",
              "      <td>...</td>\n",
              "      <td>NaN</td>\n",
              "      <td>NaN</td>\n",
              "      <td>NaN</td>\n",
              "      <td>NaN</td>\n",
              "      <td>0.0</td>\n",
              "      <td>NaN</td>\n",
              "      <td>NaN</td>\n",
              "      <td>NaN</td>\n",
              "      <td>NaN</td>\n",
              "      <td>NaN</td>\n",
              "    </tr>\n",
              "    <tr>\n",
              "      <th>1</th>\n",
              "      <td>NaN</td>\n",
              "      <td>NaN</td>\n",
              "      <td>NaN</td>\n",
              "      <td>NaN</td>\n",
              "      <td>NaN</td>\n",
              "      <td>NaN</td>\n",
              "      <td>NaN</td>\n",
              "      <td>NaN</td>\n",
              "      <td>0.0</td>\n",
              "      <td>NaN</td>\n",
              "      <td>...</td>\n",
              "      <td>NaN</td>\n",
              "      <td>NaN</td>\n",
              "      <td>NaN</td>\n",
              "      <td>NaN</td>\n",
              "      <td>NaN</td>\n",
              "      <td>NaN</td>\n",
              "      <td>NaN</td>\n",
              "      <td>NaN</td>\n",
              "      <td>NaN</td>\n",
              "      <td>NaN</td>\n",
              "    </tr>\n",
              "    <tr>\n",
              "      <th>3</th>\n",
              "      <td>NaN</td>\n",
              "      <td>NaN</td>\n",
              "      <td>NaN</td>\n",
              "      <td>NaN</td>\n",
              "      <td>NaN</td>\n",
              "      <td>NaN</td>\n",
              "      <td>NaN</td>\n",
              "      <td>NaN</td>\n",
              "      <td>NaN</td>\n",
              "      <td>NaN</td>\n",
              "      <td>...</td>\n",
              "      <td>NaN</td>\n",
              "      <td>NaN</td>\n",
              "      <td>NaN</td>\n",
              "      <td>NaN</td>\n",
              "      <td>NaN</td>\n",
              "      <td>NaN</td>\n",
              "      <td>NaN</td>\n",
              "      <td>NaN</td>\n",
              "      <td>NaN</td>\n",
              "      <td>NaN</td>\n",
              "    </tr>\n",
              "    <tr>\n",
              "      <th>4</th>\n",
              "      <td>NaN</td>\n",
              "      <td>NaN</td>\n",
              "      <td>NaN</td>\n",
              "      <td>NaN</td>\n",
              "      <td>NaN</td>\n",
              "      <td>NaN</td>\n",
              "      <td>NaN</td>\n",
              "      <td>NaN</td>\n",
              "      <td>NaN</td>\n",
              "      <td>NaN</td>\n",
              "      <td>...</td>\n",
              "      <td>NaN</td>\n",
              "      <td>NaN</td>\n",
              "      <td>NaN</td>\n",
              "      <td>NaN</td>\n",
              "      <td>NaN</td>\n",
              "      <td>NaN</td>\n",
              "      <td>NaN</td>\n",
              "      <td>NaN</td>\n",
              "      <td>NaN</td>\n",
              "      <td>NaN</td>\n",
              "    </tr>\n",
              "    <tr>\n",
              "      <th>5</th>\n",
              "      <td>NaN</td>\n",
              "      <td>NaN</td>\n",
              "      <td>NaN</td>\n",
              "      <td>NaN</td>\n",
              "      <td>NaN</td>\n",
              "      <td>NaN</td>\n",
              "      <td>NaN</td>\n",
              "      <td>NaN</td>\n",
              "      <td>NaN</td>\n",
              "      <td>NaN</td>\n",
              "      <td>...</td>\n",
              "      <td>NaN</td>\n",
              "      <td>0.0</td>\n",
              "      <td>0.0</td>\n",
              "      <td>NaN</td>\n",
              "      <td>NaN</td>\n",
              "      <td>NaN</td>\n",
              "      <td>NaN</td>\n",
              "      <td>NaN</td>\n",
              "      <td>NaN</td>\n",
              "      <td>NaN</td>\n",
              "    </tr>\n",
              "  </tbody>\n",
              "</table>\n",
              "<p>5 rows × 250 columns</p>\n",
              "</div>"
            ],
            "text/plain": [
              "productId  1    2    3    4    5    6    7    8    9    10  ...   241  242  \\\n",
              "id                                                          ...              \n",
              "0          NaN  NaN  NaN  NaN  NaN  NaN  NaN  NaN  NaN  0.0 ...   NaN  NaN   \n",
              "1          NaN  NaN  NaN  NaN  NaN  NaN  NaN  NaN  0.0  NaN ...   NaN  NaN   \n",
              "3          NaN  NaN  NaN  NaN  NaN  NaN  NaN  NaN  NaN  NaN ...   NaN  NaN   \n",
              "4          NaN  NaN  NaN  NaN  NaN  NaN  NaN  NaN  NaN  NaN ...   NaN  NaN   \n",
              "5          NaN  NaN  NaN  NaN  NaN  NaN  NaN  NaN  NaN  NaN ...   NaN  0.0   \n",
              "\n",
              "productId  243  244  245  246  247  248  249  250  \n",
              "id                                                 \n",
              "0          NaN  NaN  0.0  NaN  NaN  NaN  NaN  NaN  \n",
              "1          NaN  NaN  NaN  NaN  NaN  NaN  NaN  NaN  \n",
              "3          NaN  NaN  NaN  NaN  NaN  NaN  NaN  NaN  \n",
              "4          NaN  NaN  NaN  NaN  NaN  NaN  NaN  NaN  \n",
              "5          0.0  NaN  NaN  NaN  NaN  NaN  NaN  NaN  \n",
              "\n",
              "[5 rows x 250 columns]"
            ]
          },
          "metadata": {
            "tags": []
          },
          "execution_count": 24
        }
      ]
    },
    {
      "metadata": {
        "id": "0b58yH_xryRu",
        "colab_type": "code",
        "outputId": "a45c5ad6-9fbb-40a2-f4f2-465c3254d3ed",
        "colab": {
          "base_uri": "https://localhost:8080/",
          "height": 34
        }
      },
      "cell_type": "code",
      "source": [
        "print(df_matrix_norm.shape)"
      ],
      "execution_count": 25,
      "outputs": [
        {
          "output_type": "stream",
          "text": [
            "(2378, 250)\n"
          ],
          "name": "stdout"
        }
      ]
    },
    {
      "metadata": {
        "id": "zf2sea5rp_Uh",
        "colab_type": "text"
      },
      "cell_type": "markdown",
      "source": [
        "### 5-c)- create a table for input to the modeling"
      ]
    },
    {
      "metadata": {
        "id": "Z7S6mGvyr1Bd",
        "colab_type": "code",
        "colab": {}
      },
      "cell_type": "code",
      "source": [
        "d = df_matrix_norm.reset_index()\n",
        "d.index.names = ['scaled_purchase_freq']\n",
        "data_norm = pd.melt(d, id_vars=['id'], value_name='scaled_purchase_freq').dropna()"
      ],
      "execution_count": 0,
      "outputs": []
    },
    {
      "metadata": {
        "id": "NCG8znk2r7Wn",
        "colab_type": "code",
        "outputId": "b2da6d3e-6503-4947-cbad-4872a9f96263",
        "colab": {
          "base_uri": "https://localhost:8080/",
          "height": 195
        }
      },
      "cell_type": "code",
      "source": [
        "data_norm.head()"
      ],
      "execution_count": 27,
      "outputs": [
        {
          "output_type": "execute_result",
          "data": {
            "text/html": [
              "<div>\n",
              "<style scoped>\n",
              "    .dataframe tbody tr th:only-of-type {\n",
              "        vertical-align: middle;\n",
              "    }\n",
              "\n",
              "    .dataframe tbody tr th {\n",
              "        vertical-align: top;\n",
              "    }\n",
              "\n",
              "    .dataframe thead th {\n",
              "        text-align: right;\n",
              "    }\n",
              "</style>\n",
              "<table border=\"1\" class=\"dataframe\">\n",
              "  <thead>\n",
              "    <tr style=\"text-align: right;\">\n",
              "      <th></th>\n",
              "      <th>id</th>\n",
              "      <th>productId</th>\n",
              "      <th>scaled_purchase_freq</th>\n",
              "    </tr>\n",
              "  </thead>\n",
              "  <tbody>\n",
              "    <tr>\n",
              "      <th>27</th>\n",
              "      <td>28</td>\n",
              "      <td>1</td>\n",
              "      <td>0.0</td>\n",
              "    </tr>\n",
              "    <tr>\n",
              "      <th>49</th>\n",
              "      <td>51</td>\n",
              "      <td>1</td>\n",
              "      <td>0.0</td>\n",
              "    </tr>\n",
              "    <tr>\n",
              "      <th>88</th>\n",
              "      <td>93</td>\n",
              "      <td>1</td>\n",
              "      <td>0.0</td>\n",
              "    </tr>\n",
              "    <tr>\n",
              "      <th>95</th>\n",
              "      <td>100</td>\n",
              "      <td>1</td>\n",
              "      <td>0.0</td>\n",
              "    </tr>\n",
              "    <tr>\n",
              "      <th>123</th>\n",
              "      <td>130</td>\n",
              "      <td>1</td>\n",
              "      <td>0.0</td>\n",
              "    </tr>\n",
              "  </tbody>\n",
              "</table>\n",
              "</div>"
            ],
            "text/plain": [
              "      id productId  scaled_purchase_freq\n",
              "27    28         1                   0.0\n",
              "49    51         1                   0.0\n",
              "88    93         1                   0.0\n",
              "95   100         1                   0.0\n",
              "123  130         1                   0.0"
            ]
          },
          "metadata": {
            "tags": []
          },
          "execution_count": 27
        }
      ]
    },
    {
      "metadata": {
        "id": "x13h0mgDsAgu",
        "colab_type": "code",
        "outputId": "f1cbc559-6d50-48a1-d02e-aef87a88f353",
        "colab": {
          "base_uri": "https://localhost:8080/",
          "height": 34
        }
      },
      "cell_type": "code",
      "source": [
        "data_norm.shape"
      ],
      "execution_count": 28,
      "outputs": [
        {
          "output_type": "execute_result",
          "data": {
            "text/plain": [
              "(22530, 3)"
            ]
          },
          "metadata": {
            "tags": []
          },
          "execution_count": 28
        }
      ]
    },
    {
      "metadata": {
        "id": "oQQjGS-lqK7z",
        "colab_type": "text"
      },
      "cell_type": "markdown",
      "source": [
        "### 5-d) a function for normalizing data"
      ]
    },
    {
      "metadata": {
        "id": "yzHVuK6qsCyG",
        "colab_type": "code",
        "colab": {}
      },
      "cell_type": "code",
      "source": [
        "def normalize_data(data):\n",
        "    df_matrix = pd.pivot_table(data, values='purchase_count', index='id', columns='productId')\n",
        "    df_matrix_norm = (df_matrix-df_matrix.min())/(df_matrix.max()-df_matrix.min())\n",
        "    d = df_matrix_norm.reset_index()\n",
        "    d.index.names = ['scaled_purchase_freq']\n",
        "    return pd.melt(d, id_vars=['id'], value_name='scaled_purchase_freq').dropna()"
      ],
      "execution_count": 0,
      "outputs": []
    },
    {
      "metadata": {
        "id": "XHT0WP8ql88j",
        "colab_type": "text"
      },
      "cell_type": "markdown",
      "source": [
        "\n",
        "we have normalized the items accoreding to their purchase history, from 0–1 (with 1 being the most number of purchase for an item and 0 being 0 purchase count for that item."
      ]
    },
    {
      "metadata": {
        "id": "C3fDTjVoqVCv",
        "colab_type": "text"
      },
      "cell_type": "markdown",
      "source": [
        "# 6)-Split train and test set\n",
        "\n",
        "we have three dataframes with purchase counts(data), purchase dummy(data_dummy), and scaled purchase counts(data_norm)."
      ]
    },
    {
      "metadata": {
        "id": "nHwctOiDsngJ",
        "colab_type": "code",
        "outputId": "9bc0a43d-c135-4de4-ea00-0817c9a16e0b",
        "colab": {
          "base_uri": "https://localhost:8080/",
          "height": 34
        }
      },
      "cell_type": "code",
      "source": [
        "train, test = train_test_split(data, test_size = .2)\n",
        "print(train.shape, test.shape)"
      ],
      "execution_count": 30,
      "outputs": [
        {
          "output_type": "stream",
          "text": [
            "(19848, 3) (4963, 3)\n"
          ],
          "name": "stdout"
        }
      ]
    },
    {
      "metadata": {
        "id": "wASbW7iIsni6",
        "colab_type": "code",
        "colab": {}
      },
      "cell_type": "code",
      "source": [
        "#convert dataframe to SFrame\n",
        "train_data = tc.SFrame(train)\n",
        "test_data = tc.SFrame(test)"
      ],
      "execution_count": 0,
      "outputs": []
    },
    {
      "metadata": {
        "id": "sbcR3OUbltVE",
        "colab_type": "text"
      },
      "cell_type": "markdown",
      "source": [
        "A tabular, column-mutable dataframe object that can scale to big data <br>\n",
        "https://turi.com/products/create/docs/generated/graphlab.SFrame.html"
      ]
    },
    {
      "metadata": {
        "id": "mQaoby4qsnlw",
        "colab_type": "code",
        "outputId": "afb03080-13ff-4a01-a987-c7ce595fa272",
        "colab": {
          "base_uri": "https://localhost:8080/",
          "height": 271
        }
      },
      "cell_type": "code",
      "source": [
        "train_data"
      ],
      "execution_count": 32,
      "outputs": [
        {
          "output_type": "execute_result",
          "data": {
            "text/html": [
              "<div style=\"max-height:1000px;max-width:1500px;overflow:auto;\"><table frame=\"box\" rules=\"cols\">\n",
              "    <tr>\n",
              "        <th style=\"padding-left: 1em; padding-right: 1em; text-align: center\">id</th>\n",
              "        <th style=\"padding-left: 1em; padding-right: 1em; text-align: center\">productId</th>\n",
              "        <th style=\"padding-left: 1em; padding-right: 1em; text-align: center\">purchase_count</th>\n",
              "    </tr>\n",
              "    <tr>\n",
              "        <td style=\"padding-left: 1em; padding-right: 1em; text-align: center; vertical-align: top\">1665</td>\n",
              "        <td style=\"padding-left: 1em; padding-right: 1em; text-align: center; vertical-align: top\">101</td>\n",
              "        <td style=\"padding-left: 1em; padding-right: 1em; text-align: center; vertical-align: top\">1</td>\n",
              "    </tr>\n",
              "    <tr>\n",
              "        <td style=\"padding-left: 1em; padding-right: 1em; text-align: center; vertical-align: top\">1233</td>\n",
              "        <td style=\"padding-left: 1em; padding-right: 1em; text-align: center; vertical-align: top\">23</td>\n",
              "        <td style=\"padding-left: 1em; padding-right: 1em; text-align: center; vertical-align: top\">1</td>\n",
              "    </tr>\n",
              "    <tr>\n",
              "        <td style=\"padding-left: 1em; padding-right: 1em; text-align: center; vertical-align: top\">2031</td>\n",
              "        <td style=\"padding-left: 1em; padding-right: 1em; text-align: center; vertical-align: top\">226</td>\n",
              "        <td style=\"padding-left: 1em; padding-right: 1em; text-align: center; vertical-align: top\">1</td>\n",
              "    </tr>\n",
              "    <tr>\n",
              "        <td style=\"padding-left: 1em; padding-right: 1em; text-align: center; vertical-align: top\">1371</td>\n",
              "        <td style=\"padding-left: 1em; padding-right: 1em; text-align: center; vertical-align: top\">231</td>\n",
              "        <td style=\"padding-left: 1em; padding-right: 1em; text-align: center; vertical-align: top\">1</td>\n",
              "    </tr>\n",
              "    <tr>\n",
              "        <td style=\"padding-left: 1em; padding-right: 1em; text-align: center; vertical-align: top\">1178</td>\n",
              "        <td style=\"padding-left: 1em; padding-right: 1em; text-align: center; vertical-align: top\">108</td>\n",
              "        <td style=\"padding-left: 1em; padding-right: 1em; text-align: center; vertical-align: top\">1</td>\n",
              "    </tr>\n",
              "    <tr>\n",
              "        <td style=\"padding-left: 1em; padding-right: 1em; text-align: center; vertical-align: top\">841</td>\n",
              "        <td style=\"padding-left: 1em; padding-right: 1em; text-align: center; vertical-align: top\">182</td>\n",
              "        <td style=\"padding-left: 1em; padding-right: 1em; text-align: center; vertical-align: top\">1</td>\n",
              "    </tr>\n",
              "    <tr>\n",
              "        <td style=\"padding-left: 1em; padding-right: 1em; text-align: center; vertical-align: top\">1646</td>\n",
              "        <td style=\"padding-left: 1em; padding-right: 1em; text-align: center; vertical-align: top\">224</td>\n",
              "        <td style=\"padding-left: 1em; padding-right: 1em; text-align: center; vertical-align: top\">1</td>\n",
              "    </tr>\n",
              "    <tr>\n",
              "        <td style=\"padding-left: 1em; padding-right: 1em; text-align: center; vertical-align: top\">1380</td>\n",
              "        <td style=\"padding-left: 1em; padding-right: 1em; text-align: center; vertical-align: top\">184</td>\n",
              "        <td style=\"padding-left: 1em; padding-right: 1em; text-align: center; vertical-align: top\">1</td>\n",
              "    </tr>\n",
              "    <tr>\n",
              "        <td style=\"padding-left: 1em; padding-right: 1em; text-align: center; vertical-align: top\">1762</td>\n",
              "        <td style=\"padding-left: 1em; padding-right: 1em; text-align: center; vertical-align: top\">229</td>\n",
              "        <td style=\"padding-left: 1em; padding-right: 1em; text-align: center; vertical-align: top\">1</td>\n",
              "    </tr>\n",
              "    <tr>\n",
              "        <td style=\"padding-left: 1em; padding-right: 1em; text-align: center; vertical-align: top\">2193</td>\n",
              "        <td style=\"padding-left: 1em; padding-right: 1em; text-align: center; vertical-align: top\">110</td>\n",
              "        <td style=\"padding-left: 1em; padding-right: 1em; text-align: center; vertical-align: top\">1</td>\n",
              "    </tr>\n",
              "</table>\n",
              "[19848 rows x 3 columns]<br/>Note: Only the head of the SFrame is printed.<br/>You can use print_rows(num_rows=m, num_columns=n) to print more rows and columns.\n",
              "</div>"
            ],
            "text/plain": [
              "Columns:\n",
              "\tid\tint\n",
              "\tproductId\tint\n",
              "\tpurchase_count\tint\n",
              "\n",
              "Rows: 19848\n",
              "\n",
              "Data:\n",
              "+------+-----------+----------------+\n",
              "|  id  | productId | purchase_count |\n",
              "+------+-----------+----------------+\n",
              "| 1665 |    101    |       1        |\n",
              "| 1233 |     23    |       1        |\n",
              "| 2031 |    226    |       1        |\n",
              "| 1371 |    231    |       1        |\n",
              "| 1178 |    108    |       1        |\n",
              "| 841  |    182    |       1        |\n",
              "| 1646 |    224    |       1        |\n",
              "| 1380 |    184    |       1        |\n",
              "| 1762 |    229    |       1        |\n",
              "| 2193 |    110    |       1        |\n",
              "+------+-----------+----------------+\n",
              "[19848 rows x 3 columns]\n",
              "Note: Only the head of the SFrame is printed.\n",
              "You can use print_rows(num_rows=m, num_columns=n) to print more rows and columns."
            ]
          },
          "metadata": {
            "tags": []
          },
          "execution_count": 32
        }
      ]
    },
    {
      "metadata": {
        "id": "-DfWqtgAsnoZ",
        "colab_type": "code",
        "outputId": "de95e2d6-2b8c-40b1-cda8-385917d46275",
        "colab": {
          "base_uri": "https://localhost:8080/",
          "height": 271
        }
      },
      "cell_type": "code",
      "source": [
        "test_data"
      ],
      "execution_count": 33,
      "outputs": [
        {
          "output_type": "execute_result",
          "data": {
            "text/html": [
              "<div style=\"max-height:1000px;max-width:1500px;overflow:auto;\"><table frame=\"box\" rules=\"cols\">\n",
              "    <tr>\n",
              "        <th style=\"padding-left: 1em; padding-right: 1em; text-align: center\">id</th>\n",
              "        <th style=\"padding-left: 1em; padding-right: 1em; text-align: center\">productId</th>\n",
              "        <th style=\"padding-left: 1em; padding-right: 1em; text-align: center\">purchase_count</th>\n",
              "    </tr>\n",
              "    <tr>\n",
              "        <td style=\"padding-left: 1em; padding-right: 1em; text-align: center; vertical-align: top\">1614</td>\n",
              "        <td style=\"padding-left: 1em; padding-right: 1em; text-align: center; vertical-align: top\">189</td>\n",
              "        <td style=\"padding-left: 1em; padding-right: 1em; text-align: center; vertical-align: top\">1</td>\n",
              "    </tr>\n",
              "    <tr>\n",
              "        <td style=\"padding-left: 1em; padding-right: 1em; text-align: center; vertical-align: top\">721</td>\n",
              "        <td style=\"padding-left: 1em; padding-right: 1em; text-align: center; vertical-align: top\">1</td>\n",
              "        <td style=\"padding-left: 1em; padding-right: 1em; text-align: center; vertical-align: top\">1</td>\n",
              "    </tr>\n",
              "    <tr>\n",
              "        <td style=\"padding-left: 1em; padding-right: 1em; text-align: center; vertical-align: top\">1398</td>\n",
              "        <td style=\"padding-left: 1em; padding-right: 1em; text-align: center; vertical-align: top\">7</td>\n",
              "        <td style=\"padding-left: 1em; padding-right: 1em; text-align: center; vertical-align: top\">1</td>\n",
              "    </tr>\n",
              "    <tr>\n",
              "        <td style=\"padding-left: 1em; padding-right: 1em; text-align: center; vertical-align: top\">841</td>\n",
              "        <td style=\"padding-left: 1em; padding-right: 1em; text-align: center; vertical-align: top\">245</td>\n",
              "        <td style=\"padding-left: 1em; padding-right: 1em; text-align: center; vertical-align: top\">1</td>\n",
              "    </tr>\n",
              "    <tr>\n",
              "        <td style=\"padding-left: 1em; padding-right: 1em; text-align: center; vertical-align: top\">1660</td>\n",
              "        <td style=\"padding-left: 1em; padding-right: 1em; text-align: center; vertical-align: top\">65</td>\n",
              "        <td style=\"padding-left: 1em; padding-right: 1em; text-align: center; vertical-align: top\">1</td>\n",
              "    </tr>\n",
              "    <tr>\n",
              "        <td style=\"padding-left: 1em; padding-right: 1em; text-align: center; vertical-align: top\">566</td>\n",
              "        <td style=\"padding-left: 1em; padding-right: 1em; text-align: center; vertical-align: top\">223</td>\n",
              "        <td style=\"padding-left: 1em; padding-right: 1em; text-align: center; vertical-align: top\">1</td>\n",
              "    </tr>\n",
              "    <tr>\n",
              "        <td style=\"padding-left: 1em; padding-right: 1em; text-align: center; vertical-align: top\">1548</td>\n",
              "        <td style=\"padding-left: 1em; padding-right: 1em; text-align: center; vertical-align: top\">28</td>\n",
              "        <td style=\"padding-left: 1em; padding-right: 1em; text-align: center; vertical-align: top\">1</td>\n",
              "    </tr>\n",
              "    <tr>\n",
              "        <td style=\"padding-left: 1em; padding-right: 1em; text-align: center; vertical-align: top\">2359</td>\n",
              "        <td style=\"padding-left: 1em; padding-right: 1em; text-align: center; vertical-align: top\">68</td>\n",
              "        <td style=\"padding-left: 1em; padding-right: 1em; text-align: center; vertical-align: top\">1</td>\n",
              "    </tr>\n",
              "    <tr>\n",
              "        <td style=\"padding-left: 1em; padding-right: 1em; text-align: center; vertical-align: top\">476</td>\n",
              "        <td style=\"padding-left: 1em; padding-right: 1em; text-align: center; vertical-align: top\">198</td>\n",
              "        <td style=\"padding-left: 1em; padding-right: 1em; text-align: center; vertical-align: top\">1</td>\n",
              "    </tr>\n",
              "    <tr>\n",
              "        <td style=\"padding-left: 1em; padding-right: 1em; text-align: center; vertical-align: top\">712</td>\n",
              "        <td style=\"padding-left: 1em; padding-right: 1em; text-align: center; vertical-align: top\">216</td>\n",
              "        <td style=\"padding-left: 1em; padding-right: 1em; text-align: center; vertical-align: top\">1</td>\n",
              "    </tr>\n",
              "</table>\n",
              "[4963 rows x 3 columns]<br/>Note: Only the head of the SFrame is printed.<br/>You can use print_rows(num_rows=m, num_columns=n) to print more rows and columns.\n",
              "</div>"
            ],
            "text/plain": [
              "Columns:\n",
              "\tid\tint\n",
              "\tproductId\tint\n",
              "\tpurchase_count\tint\n",
              "\n",
              "Rows: 4963\n",
              "\n",
              "Data:\n",
              "+------+-----------+----------------+\n",
              "|  id  | productId | purchase_count |\n",
              "+------+-----------+----------------+\n",
              "| 1614 |    189    |       1        |\n",
              "| 721  |     1     |       1        |\n",
              "| 1398 |     7     |       1        |\n",
              "| 841  |    245    |       1        |\n",
              "| 1660 |     65    |       1        |\n",
              "| 566  |    223    |       1        |\n",
              "| 1548 |     28    |       1        |\n",
              "| 2359 |     68    |       1        |\n",
              "| 476  |    198    |       1        |\n",
              "| 712  |    216    |       1        |\n",
              "+------+-----------+----------------+\n",
              "[4963 rows x 3 columns]\n",
              "Note: Only the head of the SFrame is printed.\n",
              "You can use print_rows(num_rows=m, num_columns=n) to print more rows and columns."
            ]
          },
          "metadata": {
            "tags": []
          },
          "execution_count": 33
        }
      ]
    },
    {
      "metadata": {
        "id": "oZTqpBwRq8ql",
        "colab_type": "text"
      },
      "cell_type": "markdown",
      "source": [
        "### 6.2)- Define a split_data function "
      ]
    },
    {
      "metadata": {
        "id": "RUiWbUERsnrB",
        "colab_type": "code",
        "colab": {}
      },
      "cell_type": "code",
      "source": [
        "def split_data(data):\n",
        "\n",
        "    train, test = train_test_split(data, test_size = .2)\n",
        "    train_data = tc.SFrame(train)\n",
        "    test_data = tc.SFrame(test)\n",
        "    return train_data, test_data"
      ],
      "execution_count": 0,
      "outputs": []
    },
    {
      "metadata": {
        "id": "akLuwqygrIP_",
        "colab_type": "text"
      },
      "cell_type": "markdown",
      "source": [
        "### 6.3)-Apply for scaled/normalized purchase table"
      ]
    },
    {
      "metadata": {
        "id": "_9R19PGitW1i",
        "colab_type": "code",
        "colab": {}
      },
      "cell_type": "code",
      "source": [
        "train_data_norm, test_data_norm = split_data(data_norm)"
      ],
      "execution_count": 0,
      "outputs": []
    },
    {
      "metadata": {
        "id": "_j_sF8PvrMwG",
        "colab_type": "text"
      },
      "cell_type": "markdown",
      "source": [
        "# 7)-Building Model"
      ]
    },
    {
      "metadata": {
        "id": "SZ2YaljtrVkW",
        "colab_type": "text"
      },
      "cell_type": "markdown",
      "source": [
        "### 7.1)- Parameters to define field names for purchase count as target feature"
      ]
    },
    {
      "metadata": {
        "id": "KpJQezACt29U",
        "colab_type": "code",
        "colab": {}
      },
      "cell_type": "code",
      "source": [
        "user_id = 'id'\n",
        "item_id = 'productId'\n",
        "users_to_recommend=list(cust_2_rec)\n",
        "target = 'purchase_count'\n",
        "n_rec = 10 # number of items to recommend\n",
        "n_display = 30 # 1st 30 rows to display"
      ],
      "execution_count": 0,
      "outputs": []
    },
    {
      "metadata": {
        "id": "6l311XlBt3AY",
        "colab_type": "code",
        "outputId": "e71f3304-2a70-452d-c241-420ba0659ec3",
        "colab": {
          "base_uri": "https://localhost:8080/",
          "height": 84
        }
      },
      "cell_type": "code",
      "source": [
        "popularity_model = tc.popularity_recommender.create(train_data, \n",
        "                                                    user_id=user_id, \n",
        "                                                    item_id=item_id, \n",
        "                                                    target=target)"
      ],
      "execution_count": 37,
      "outputs": [
        {
          "output_type": "display_data",
          "data": {
            "text/html": [
              "<pre>Preparing data set.</pre>"
            ],
            "text/plain": [
              "Preparing data set."
            ]
          },
          "metadata": {
            "tags": []
          }
        },
        {
          "output_type": "display_data",
          "data": {
            "text/html": [
              "<pre>    Data has 19848 observations with 2356 users and 250 items.</pre>"
            ],
            "text/plain": [
              "    Data has 19848 observations with 2356 users and 250 items."
            ]
          },
          "metadata": {
            "tags": []
          }
        },
        {
          "output_type": "display_data",
          "data": {
            "text/html": [
              "<pre>    Data prepared in: 0.037988s</pre>"
            ],
            "text/plain": [
              "    Data prepared in: 0.037988s"
            ]
          },
          "metadata": {
            "tags": []
          }
        },
        {
          "output_type": "display_data",
          "data": {
            "text/html": [
              "<pre>19848 observations to process; with 250 unique items.</pre>"
            ],
            "text/plain": [
              "19848 observations to process; with 250 unique items."
            ]
          },
          "metadata": {
            "tags": []
          }
        }
      ]
    },
    {
      "metadata": {
        "id": "ebqixrJ4t3GC",
        "colab_type": "code",
        "outputId": "ee77d8de-2e1f-46c3-fa6d-707584fa61cc",
        "colab": {
          "base_uri": "https://localhost:8080/",
          "height": 638
        }
      },
      "cell_type": "code",
      "source": [
        "popularity_recomm = popularity_model.recommend(users=users_to_recommend, k=n_rec)\n",
        "popularity_recomm.print_rows(n_display)"
      ],
      "execution_count": 38,
      "outputs": [
        {
          "output_type": "display_data",
          "data": {
            "text/html": [
              "<pre>recommendations finished on 1000/1000 queries. users per second: 58578.9</pre>"
            ],
            "text/plain": [
              "recommendations finished on 1000/1000 queries. users per second: 58578.9"
            ]
          },
          "metadata": {
            "tags": []
          }
        },
        {
          "output_type": "stream",
          "text": [
            "+------+-----------+--------------------+------+\n",
            "|  id  | productId |       score        | rank |\n",
            "+------+-----------+--------------------+------+\n",
            "| 2109 |    201    | 1.0909090909090908 |  1   |\n",
            "| 2109 |    207    | 1.0864197530864197 |  2   |\n",
            "| 2109 |    125    | 1.0789473684210527 |  3   |\n",
            "| 2109 |    112    | 1.0740740740740742 |  4   |\n",
            "| 2109 |     96    | 1.0731707317073171 |  5   |\n",
            "| 2109 |    153    | 1.0731707317073171 |  6   |\n",
            "| 2109 |     35    | 1.0684931506849316 |  7   |\n",
            "| 2109 |    150    | 1.0681818181818181 |  8   |\n",
            "| 2109 |    131    | 1.0675675675675675 |  9   |\n",
            "| 2109 |    117    | 1.0649350649350648 |  10  |\n",
            "| 2383 |    201    | 1.0909090909090908 |  1   |\n",
            "| 2383 |    207    | 1.0864197530864197 |  2   |\n",
            "| 2383 |    125    | 1.0789473684210527 |  3   |\n",
            "| 2383 |    112    | 1.0740740740740742 |  4   |\n",
            "| 2383 |     96    | 1.0731707317073171 |  5   |\n",
            "| 2383 |    153    | 1.0731707317073171 |  6   |\n",
            "| 2383 |     35    | 1.0684931506849316 |  7   |\n",
            "| 2383 |    150    | 1.0681818181818181 |  8   |\n",
            "| 2383 |    131    | 1.0675675675675675 |  9   |\n",
            "| 2383 |    117    | 1.0649350649350648 |  10  |\n",
            "| 2465 |    201    | 1.0909090909090908 |  1   |\n",
            "| 2465 |    207    | 1.0864197530864197 |  2   |\n",
            "| 2465 |    125    | 1.0789473684210527 |  3   |\n",
            "| 2465 |    112    | 1.0740740740740742 |  4   |\n",
            "| 2465 |     96    | 1.0731707317073171 |  5   |\n",
            "| 2465 |    153    | 1.0731707317073171 |  6   |\n",
            "| 2465 |     35    | 1.0684931506849316 |  7   |\n",
            "| 2465 |    150    | 1.0681818181818181 |  8   |\n",
            "| 2465 |    131    | 1.0675675675675675 |  9   |\n",
            "| 2465 |    117    | 1.0649350649350648 |  10  |\n",
            "+------+-----------+--------------------+------+\n",
            "[10000 rows x 4 columns]\n",
            "\n"
          ],
          "name": "stdout"
        }
      ]
    },
    {
      "metadata": {
        "id": "bnsWzgM6rcNA",
        "colab_type": "text"
      },
      "cell_type": "markdown",
      "source": [
        "### Note \n",
        "\n",
        "Through this model, we predicted the recommendation items using scores by popularity. As you can tell for each model results above, the rows show the first 30 records from 1000 users with 10 recommendations.<br> These 30 records include 3 users and their recommended items, along with score and descending ranks."
      ]
    },
    {
      "metadata": {
        "id": "QZzjVn7brzhy",
        "colab_type": "text"
      },
      "cell_type": "markdown",
      "source": [
        "## Checking most frequent items(as per assignment) "
      ]
    },
    {
      "metadata": {
        "id": "rFGBiP1P1Olk",
        "colab_type": "code",
        "outputId": "af9db07c-aeb9-42b3-85b7-7293777434c2",
        "colab": {
          "base_uri": "https://localhost:8080/",
          "height": 386
        }
      },
      "cell_type": "code",
      "source": [
        " train.groupby(by=item_id)['purchase_count'].mean().sort_values(ascending=False).head(20)"
      ],
      "execution_count": 39,
      "outputs": [
        {
          "output_type": "execute_result",
          "data": {
            "text/plain": [
              "productId\n",
              "201    1.090909\n",
              "207    1.086420\n",
              "125    1.078947\n",
              "112    1.074074\n",
              "96     1.073171\n",
              "153    1.073171\n",
              "35     1.068493\n",
              "150    1.068182\n",
              "131    1.067568\n",
              "117    1.064935\n",
              "156    1.064103\n",
              "26     1.063291\n",
              "129    1.060606\n",
              "85     1.060000\n",
              "101    1.058824\n",
              "186    1.056338\n",
              "122    1.056180\n",
              "170    1.054945\n",
              "247    1.054054\n",
              "237    1.054054\n",
              "Name: purchase_count, dtype: float64"
            ]
          },
          "metadata": {
            "tags": []
          },
          "execution_count": 39
        }
      ]
    },
    {
      "metadata": {
        "id": "yY84Zfinso_z",
        "colab_type": "text"
      },
      "cell_type": "markdown",
      "source": [
        "**products 201,207,125,112,96 and 153 are the most popular (best-selling) across customers.**"
      ]
    },
    {
      "metadata": {
        "id": "ZpMadbaGtU9o",
        "colab_type": "text"
      },
      "cell_type": "markdown",
      "source": [
        "### 7.2)- Applying 'scaled_purchase_freq' as target feature on model"
      ]
    },
    {
      "metadata": {
        "id": "yGz6sNqswPIY",
        "colab_type": "code",
        "colab": {}
      },
      "cell_type": "code",
      "source": [
        "user_id = 'id'\n",
        "item_id = 'productId'\n",
        "users_to_recommend=list(cust_2_rec)\n",
        "target = 'scaled_purchase_freq'\n",
        "n_rec = 10 # number of items to recommend\n",
        "n_display = 30 # 1st 30 rows to display"
      ],
      "execution_count": 0,
      "outputs": []
    },
    {
      "metadata": {
        "id": "ibt4XP2UzK6Y",
        "colab_type": "code",
        "outputId": "40977c44-2a77-49de-dcc7-0d2a6e5f3461",
        "colab": {
          "base_uri": "https://localhost:8080/",
          "height": 84
        }
      },
      "cell_type": "code",
      "source": [
        "popularity_model_scaled = tc.popularity_recommender.create(train_data_norm, \n",
        "                                                    user_id=user_id, \n",
        "                                                    item_id=item_id, \n",
        "                                                    target=target)"
      ],
      "execution_count": 41,
      "outputs": [
        {
          "output_type": "display_data",
          "data": {
            "text/html": [
              "<pre>Preparing data set.</pre>"
            ],
            "text/plain": [
              "Preparing data set."
            ]
          },
          "metadata": {
            "tags": []
          }
        },
        {
          "output_type": "display_data",
          "data": {
            "text/html": [
              "<pre>    Data has 18024 observations with 2332 users and 227 items.</pre>"
            ],
            "text/plain": [
              "    Data has 18024 observations with 2332 users and 227 items."
            ]
          },
          "metadata": {
            "tags": []
          }
        },
        {
          "output_type": "display_data",
          "data": {
            "text/html": [
              "<pre>    Data prepared in: 0.030501s</pre>"
            ],
            "text/plain": [
              "    Data prepared in: 0.030501s"
            ]
          },
          "metadata": {
            "tags": []
          }
        },
        {
          "output_type": "display_data",
          "data": {
            "text/html": [
              "<pre>18024 observations to process; with 227 unique items.</pre>"
            ],
            "text/plain": [
              "18024 observations to process; with 227 unique items."
            ]
          },
          "metadata": {
            "tags": []
          }
        }
      ]
    },
    {
      "metadata": {
        "id": "mvsMhunTzLCd",
        "colab_type": "code",
        "outputId": "3c12fdce-fe49-4470-807c-f2c9426fc790",
        "colab": {
          "base_uri": "https://localhost:8080/",
          "height": 638
        }
      },
      "cell_type": "code",
      "source": [
        "popularity_recomm_4_scaled = popularity_model_scaled.recommend(users=users_to_recommend, k=n_rec)\n",
        "popularity_recomm_4_scaled.print_rows(n_display)"
      ],
      "execution_count": 42,
      "outputs": [
        {
          "output_type": "display_data",
          "data": {
            "text/html": [
              "<pre>recommendations finished on 1000/1000 queries. users per second: 118133</pre>"
            ],
            "text/plain": [
              "recommendations finished on 1000/1000 queries. users per second: 118133"
            ]
          },
          "metadata": {
            "tags": []
          }
        },
        {
          "output_type": "stream",
          "text": [
            "+------+-----------+---------------------+------+\n",
            "|  id  | productId |        score        | rank |\n",
            "+------+-----------+---------------------+------+\n",
            "| 2109 |    153    |        0.0875       |  1   |\n",
            "| 2109 |    201    |       0.078125      |  2   |\n",
            "| 2109 |     26    | 0.07407407407407407 |  3   |\n",
            "| 2109 |    152    |  0.0707070707070707 |  4   |\n",
            "| 2109 |    112    | 0.07058823529411765 |  5   |\n",
            "| 2109 |     96    | 0.06666666666666667 |  6   |\n",
            "| 2109 |    117    | 0.06493506493506493 |  7   |\n",
            "| 2109 |    101    |        0.0625       |  8   |\n",
            "| 2109 |    207    | 0.06097560975609756 |  9   |\n",
            "| 2109 |     44    | 0.05813953488372093 |  10  |\n",
            "| 2383 |    153    |        0.0875       |  1   |\n",
            "| 2383 |    201    |       0.078125      |  2   |\n",
            "| 2383 |    125    |        0.075        |  3   |\n",
            "| 2383 |     26    | 0.07407407407407407 |  4   |\n",
            "| 2383 |    152    |  0.0707070707070707 |  5   |\n",
            "| 2383 |    112    | 0.07058823529411765 |  6   |\n",
            "| 2383 |     96    | 0.06666666666666667 |  7   |\n",
            "| 2383 |    117    | 0.06493506493506493 |  8   |\n",
            "| 2383 |    101    |        0.0625       |  9   |\n",
            "| 2383 |    207    | 0.06097560975609756 |  10  |\n",
            "| 2465 |    153    |        0.0875       |  1   |\n",
            "| 2465 |    201    |       0.078125      |  2   |\n",
            "| 2465 |    125    |        0.075        |  3   |\n",
            "| 2465 |     26    | 0.07407407407407407 |  4   |\n",
            "| 2465 |    152    |  0.0707070707070707 |  5   |\n",
            "| 2465 |    112    | 0.07058823529411765 |  6   |\n",
            "| 2465 |     96    | 0.06666666666666667 |  7   |\n",
            "| 2465 |    117    | 0.06493506493506493 |  8   |\n",
            "| 2465 |    101    |        0.0625       |  9   |\n",
            "| 2465 |    207    | 0.06097560975609756 |  10  |\n",
            "+------+-----------+---------------------+------+\n",
            "[10000 rows x 4 columns]\n",
            "\n"
          ],
          "name": "stdout"
        }
      ]
    },
    {
      "metadata": {
        "id": "ruBS4wFntdXW",
        "colab_type": "text"
      },
      "cell_type": "markdown",
      "source": [
        "Great!.... We have all three models worked out. We have purchase frequency of each item customer-vice. <br>\n",
        "Which one to trust and which one to discard? "
      ]
    },
    {
      "metadata": {
        "id": "NuKGkdc4tzGH",
        "colab_type": "text"
      },
      "cell_type": "markdown",
      "source": [
        "# 8)- Evaluate models"
      ]
    },
    {
      "metadata": {
        "id": "-TC6D4egt3PT",
        "colab_type": "text"
      },
      "cell_type": "markdown",
      "source": [
        "### 8.1)- Validation for Popularity Model on Purchase Counts"
      ]
    },
    {
      "metadata": {
        "id": "cIW_BH3Z5s5P",
        "colab_type": "code",
        "colab": {}
      },
      "cell_type": "code",
      "source": [
        "models_counts = [popularity_model]"
      ],
      "execution_count": 0,
      "outputs": []
    },
    {
      "metadata": {
        "id": "pmX0_gFqzLNi",
        "colab_type": "code",
        "colab": {}
      },
      "cell_type": "code",
      "source": [
        "model_names=['Popularity Model on Purchase Counts']"
      ],
      "execution_count": 0,
      "outputs": []
    },
    {
      "metadata": {
        "id": "LXiQqoO9zLH2",
        "colab_type": "code",
        "outputId": "228c116e-31eb-43f0-b07f-0a5b83d518b9",
        "colab": {
          "base_uri": "https://localhost:8080/",
          "height": 991
        }
      },
      "cell_type": "code",
      "source": [
        "eval_counts = tc.recommender.util.compare_models(test_data, models_counts, model_names)"
      ],
      "execution_count": 45,
      "outputs": [
        {
          "output_type": "stream",
          "text": [
            "PROGRESS: Evaluate model Popularity Model on Purchase Counts\n"
          ],
          "name": "stdout"
        },
        {
          "output_type": "display_data",
          "data": {
            "text/html": [
              "<pre>recommendations finished on 1000/1931 queries. users per second: 43164.8</pre>"
            ],
            "text/plain": [
              "recommendations finished on 1000/1931 queries. users per second: 43164.8"
            ]
          },
          "metadata": {
            "tags": []
          }
        },
        {
          "output_type": "stream",
          "text": [
            "\n",
            "Precision and recall summary statistics by cutoff\n",
            "+--------+----------------------+-----------------------+\n",
            "| cutoff |    mean_precision    |      mean_recall      |\n",
            "+--------+----------------------+-----------------------+\n",
            "|   1    | 0.010875194199896425 | 0.0038852309437498425 |\n",
            "|   2    | 0.011651993785603327 |  0.008543562427560358 |\n",
            "|   3    | 0.012083549110996029 |  0.013067495252891411 |\n",
            "|   4    | 0.012169860176074581 |  0.01802606594165374  |\n",
            "|   5    | 0.011600207146556211 |  0.02156975167073567  |\n",
            "|   6    | 0.010961505264975005 |  0.025237971936573667 |\n",
            "|   7    | 0.010801213286971985 |  0.028643559961529903 |\n",
            "|   8    | 0.011522527187985515 |  0.035389386205025714 |\n",
            "|   9    | 0.011680764140629485 |  0.04093055658306823  |\n",
            "|   10   | 0.011444847229414822 |  0.04428929002983901  |\n",
            "+--------+----------------------+-----------------------+\n",
            "[10 rows x 3 columns]\n",
            "\n",
            "\n",
            "Overall RMSE: 0.15247779991671445\n",
            "\n",
            "Per User RMSE (best)\n",
            "+------+------+-------+\n",
            "|  id  | rmse | count |\n",
            "+------+------+-------+\n",
            "| 2365 | 0.0  |   2   |\n",
            "+------+------+-------+\n",
            "[1 rows x 3 columns]\n",
            "\n",
            "\n",
            "Per User RMSE (worst)\n",
            "+-----+--------------------+-------+\n",
            "|  id |        rmse        | count |\n",
            "+-----+--------------------+-------+\n",
            "| 215 | 1.1356670130213518 |   3   |\n",
            "+-----+--------------------+-------+\n",
            "[1 rows x 3 columns]\n",
            "\n",
            "\n",
            "Per Item RMSE (best)\n",
            "+-----------+------+-------+\n",
            "| productId | rmse | count |\n",
            "+-----------+------+-------+\n",
            "|    215    | 0.0  |   21  |\n",
            "+-----------+------+-------+\n",
            "[1 rows x 3 columns]\n",
            "\n",
            "\n",
            "Per Item RMSE (worst)\n",
            "+-----------+--------------------+-------+\n",
            "| productId |        rmse        | count |\n",
            "+-----------+--------------------+-------+\n",
            "|     63    | 0.5038194895097868 |   19  |\n",
            "+-----------+--------------------+-------+\n",
            "[1 rows x 3 columns]\n",
            "\n"
          ],
          "name": "stdout"
        }
      ]
    },
    {
      "metadata": {
        "id": "37umEySEuSln",
        "colab_type": "text"
      },
      "cell_type": "markdown",
      "source": [
        "### 8.2)- Validation for Popularity Model on Scaled Purchase Counts"
      ]
    },
    {
      "metadata": {
        "id": "Ft_1Z5Z0zK_m",
        "colab_type": "code",
        "outputId": "efb2adb6-e54e-4b52-c518-18645bebcad7",
        "colab": {
          "base_uri": "https://localhost:8080/",
          "height": 991
        }
      },
      "cell_type": "code",
      "source": [
        "models_counts = [popularity_model_scaled]\n",
        "model_names=['Popularity Model on Scaled Purchase Counts']\n",
        "eval_counts_dummy = tc.recommender.util.compare_models(test_data_norm, models_counts, model_names)"
      ],
      "execution_count": 46,
      "outputs": [
        {
          "output_type": "stream",
          "text": [
            "PROGRESS: Evaluate model Popularity Model on Scaled Purchase Counts\n"
          ],
          "name": "stdout"
        },
        {
          "output_type": "display_data",
          "data": {
            "text/html": [
              "<pre>recommendations finished on 1000/1869 queries. users per second: 52021</pre>"
            ],
            "text/plain": [
              "recommendations finished on 1000/1869 queries. users per second: 52021"
            ]
          },
          "metadata": {
            "tags": []
          }
        },
        {
          "output_type": "stream",
          "text": [
            "\n",
            "Precision and recall summary statistics by cutoff\n",
            "+--------+----------------------+----------------------+\n",
            "| cutoff |    mean_precision    |     mean_recall      |\n",
            "+--------+----------------------+----------------------+\n",
            "|   1    | 0.010165864098448376 | 0.004360620652755482 |\n",
            "|   2    | 0.01123595505617979  | 0.009342276236337222 |\n",
            "|   3    | 0.011235955056179758 | 0.014590817600448426 |\n",
            "|   4    | 0.010834670947030504 | 0.019227878417284492 |\n",
            "|   5    | 0.010058855002675246 | 0.023450915946903125 |\n",
            "|   6    | 0.010344212591403607 | 0.028200081530739655 |\n",
            "|   7    |  0.0107009095773141  | 0.03281930749828021  |\n",
            "|   8    | 0.010433386837881222 | 0.03646653417921476  |\n",
            "|   9    | 0.010046965103144885 | 0.039757063874238704 |\n",
            "|   10   | 0.010326377742108104 | 0.04447565543071165  |\n",
            "+--------+----------------------+----------------------+\n",
            "[10 rows x 3 columns]\n",
            "\n",
            "\n",
            "Overall RMSE: 0.15715670018191483\n",
            "\n",
            "Per User RMSE (best)\n",
            "+------+------+-------+\n",
            "|  id  | rmse | count |\n",
            "+------+------+-------+\n",
            "| 1011 | 0.0  |   1   |\n",
            "+------+------+-------+\n",
            "[1 rows x 3 columns]\n",
            "\n",
            "\n",
            "Per User RMSE (worst)\n",
            "+------+------+-------+\n",
            "|  id  | rmse | count |\n",
            "+------+------+-------+\n",
            "| 1524 | 1.0  |   1   |\n",
            "+------+------+-------+\n",
            "[1 rows x 3 columns]\n",
            "\n",
            "\n",
            "Per Item RMSE (best)\n",
            "+-----------+----------------------+-------+\n",
            "| productId |         rmse         | count |\n",
            "+-----------+----------------------+-------+\n",
            "|    175    | 0.009259259259259259 |   14  |\n",
            "+-----------+----------------------+-------+\n",
            "[1 rows x 3 columns]\n",
            "\n",
            "\n",
            "Per Item RMSE (worst)\n",
            "+-----------+--------------------+-------+\n",
            "| productId |        rmse        | count |\n",
            "+-----------+--------------------+-------+\n",
            "|     49    | 0.3823177179761987 |   13  |\n",
            "+-----------+--------------------+-------+\n",
            "[1 rows x 3 columns]\n",
            "\n"
          ],
          "name": "stdout"
        }
      ]
    },
    {
      "metadata": {
        "id": "RI1WEAm6u5C8",
        "colab_type": "text"
      },
      "cell_type": "markdown",
      "source": [
        " We tend to keep lowest rmse and it signifies least error in prediction. \n",
        "\n",
        "\n",
        "\n",
        "**So we will choose that as best model with rmse 0.147 i.e (in 8.1) for our final step.**"
      ]
    },
    {
      "metadata": {
        "id": "TX0x_7VAu09D",
        "colab_type": "text"
      },
      "cell_type": "markdown",
      "source": [
        "# 9) Submission"
      ]
    },
    {
      "metadata": {
        "id": "e9-7haUjwPLh",
        "colab_type": "code",
        "outputId": "9d4f6866-f61f-42af-bf5d-8d08db0ff163",
        "colab": {
          "base_uri": "https://localhost:8080/",
          "height": 386
        }
      },
      "cell_type": "code",
      "source": [
        "users_to_recommend = list(cust_2_rec)\n",
        "\n",
        "final_model = tc.item_similarity_recommender.create(tc.SFrame(data), \n",
        "                                            user_id=user_id, \n",
        "                                            item_id=item_id, \n",
        "                                            target='purchase_count')\n"
      ],
      "execution_count": 47,
      "outputs": [
        {
          "output_type": "display_data",
          "data": {
            "text/html": [
              "<pre>Preparing data set.</pre>"
            ],
            "text/plain": [
              "Preparing data set."
            ]
          },
          "metadata": {
            "tags": []
          }
        },
        {
          "output_type": "display_data",
          "data": {
            "text/html": [
              "<pre>    Data has 24811 observations with 2378 users and 250 items.</pre>"
            ],
            "text/plain": [
              "    Data has 24811 observations with 2378 users and 250 items."
            ]
          },
          "metadata": {
            "tags": []
          }
        },
        {
          "output_type": "display_data",
          "data": {
            "text/html": [
              "<pre>    Data prepared in: 0.037717s</pre>"
            ],
            "text/plain": [
              "    Data prepared in: 0.037717s"
            ]
          },
          "metadata": {
            "tags": []
          }
        },
        {
          "output_type": "display_data",
          "data": {
            "text/html": [
              "<pre>Training model from provided data.</pre>"
            ],
            "text/plain": [
              "Training model from provided data."
            ]
          },
          "metadata": {
            "tags": []
          }
        },
        {
          "output_type": "display_data",
          "data": {
            "text/html": [
              "<pre>Gathering per-item and per-user statistics.</pre>"
            ],
            "text/plain": [
              "Gathering per-item and per-user statistics."
            ]
          },
          "metadata": {
            "tags": []
          }
        },
        {
          "output_type": "display_data",
          "data": {
            "text/html": [
              "<pre>+--------------------------------+------------+</pre>"
            ],
            "text/plain": [
              "+--------------------------------+------------+"
            ]
          },
          "metadata": {
            "tags": []
          }
        },
        {
          "output_type": "display_data",
          "data": {
            "text/html": [
              "<pre>| Elapsed Time (Item Statistics) | % Complete |</pre>"
            ],
            "text/plain": [
              "| Elapsed Time (Item Statistics) | % Complete |"
            ]
          },
          "metadata": {
            "tags": []
          }
        },
        {
          "output_type": "display_data",
          "data": {
            "text/html": [
              "<pre>+--------------------------------+------------+</pre>"
            ],
            "text/plain": [
              "+--------------------------------+------------+"
            ]
          },
          "metadata": {
            "tags": []
          }
        },
        {
          "output_type": "display_data",
          "data": {
            "text/html": [
              "<pre>| 3ms                            | 42         |</pre>"
            ],
            "text/plain": [
              "| 3ms                            | 42         |"
            ]
          },
          "metadata": {
            "tags": []
          }
        },
        {
          "output_type": "display_data",
          "data": {
            "text/html": [
              "<pre>| 5.184ms                        | 100        |</pre>"
            ],
            "text/plain": [
              "| 5.184ms                        | 100        |"
            ]
          },
          "metadata": {
            "tags": []
          }
        },
        {
          "output_type": "display_data",
          "data": {
            "text/html": [
              "<pre>+--------------------------------+------------+</pre>"
            ],
            "text/plain": [
              "+--------------------------------+------------+"
            ]
          },
          "metadata": {
            "tags": []
          }
        },
        {
          "output_type": "display_data",
          "data": {
            "text/html": [
              "<pre>Setting up lookup tables.</pre>"
            ],
            "text/plain": [
              "Setting up lookup tables."
            ]
          },
          "metadata": {
            "tags": []
          }
        },
        {
          "output_type": "display_data",
          "data": {
            "text/html": [
              "<pre>Processing data in one pass using dense lookup tables.</pre>"
            ],
            "text/plain": [
              "Processing data in one pass using dense lookup tables."
            ]
          },
          "metadata": {
            "tags": []
          }
        },
        {
          "output_type": "display_data",
          "data": {
            "text/html": [
              "<pre>+-------------------------------------+------------------+-----------------+</pre>"
            ],
            "text/plain": [
              "+-------------------------------------+------------------+-----------------+"
            ]
          },
          "metadata": {
            "tags": []
          }
        },
        {
          "output_type": "display_data",
          "data": {
            "text/html": [
              "<pre>| Elapsed Time (Constructing Lookups) | Total % Complete | Items Processed |</pre>"
            ],
            "text/plain": [
              "| Elapsed Time (Constructing Lookups) | Total % Complete | Items Processed |"
            ]
          },
          "metadata": {
            "tags": []
          }
        },
        {
          "output_type": "display_data",
          "data": {
            "text/html": [
              "<pre>+-------------------------------------+------------------+-----------------+</pre>"
            ],
            "text/plain": [
              "+-------------------------------------+------------------+-----------------+"
            ]
          },
          "metadata": {
            "tags": []
          }
        },
        {
          "output_type": "display_data",
          "data": {
            "text/html": [
              "<pre>| 6.272ms                             | 0                | 0               |</pre>"
            ],
            "text/plain": [
              "| 6.272ms                             | 0                | 0               |"
            ]
          },
          "metadata": {
            "tags": []
          }
        },
        {
          "output_type": "display_data",
          "data": {
            "text/html": [
              "<pre>| 25.561ms                            | 100              | 250             |</pre>"
            ],
            "text/plain": [
              "| 25.561ms                            | 100              | 250             |"
            ]
          },
          "metadata": {
            "tags": []
          }
        },
        {
          "output_type": "display_data",
          "data": {
            "text/html": [
              "<pre>+-------------------------------------+------------------+-----------------+</pre>"
            ],
            "text/plain": [
              "+-------------------------------------+------------------+-----------------+"
            ]
          },
          "metadata": {
            "tags": []
          }
        },
        {
          "output_type": "display_data",
          "data": {
            "text/html": [
              "<pre>Finalizing lookup tables.</pre>"
            ],
            "text/plain": [
              "Finalizing lookup tables."
            ]
          },
          "metadata": {
            "tags": []
          }
        },
        {
          "output_type": "display_data",
          "data": {
            "text/html": [
              "<pre>Generating candidate set for working with new users.</pre>"
            ],
            "text/plain": [
              "Generating candidate set for working with new users."
            ]
          },
          "metadata": {
            "tags": []
          }
        },
        {
          "output_type": "display_data",
          "data": {
            "text/html": [
              "<pre>Finished training in 1.03355s</pre>"
            ],
            "text/plain": [
              "Finished training in 1.03355s"
            ]
          },
          "metadata": {
            "tags": []
          }
        }
      ]
    },
    {
      "metadata": {
        "id": "w0TC2imZt3VA",
        "colab_type": "code",
        "outputId": "bd128d5f-6a04-4de4-d22b-370ce7029ae7",
        "colab": {
          "base_uri": "https://localhost:8080/",
          "height": 638
        }
      },
      "cell_type": "code",
      "source": [
        "recom = final_model.recommend(users=users_to_recommend, k=n_rec)\n",
        "recom.print_rows(n_display)"
      ],
      "execution_count": 48,
      "outputs": [
        {
          "output_type": "display_data",
          "data": {
            "text/html": [
              "<pre>recommendations finished on 1000/1000 queries. users per second: 30794.8</pre>"
            ],
            "text/plain": [
              "recommendations finished on 1000/1000 queries. users per second: 30794.8"
            ]
          },
          "metadata": {
            "tags": []
          }
        },
        {
          "output_type": "stream",
          "text": [
            "+------+-----------+----------------------+------+\n",
            "|  id  | productId |        score         | rank |\n",
            "+------+-----------+----------------------+------+\n",
            "| 2109 |    168    | 0.025631868839263917 |  1   |\n",
            "| 2109 |     23    | 0.022044297059377035 |  2   |\n",
            "| 2109 |    169    | 0.021942555904388428 |  3   |\n",
            "| 2109 |     32    | 0.02076631784439087  |  4   |\n",
            "| 2109 |    191    | 0.020209228992462157 |  5   |\n",
            "| 2109 |    243    | 0.019953032334645588 |  6   |\n",
            "| 2109 |     81    | 0.019476604461669923 |  7   |\n",
            "| 2109 |    181    | 0.019400795300801594 |  8   |\n",
            "| 2109 |     17    | 0.019119056065877278 |  9   |\n",
            "| 2109 |     74    | 0.01874724229176839  |  10  |\n",
            "| 2383 |     79    | 0.028334187136756048 |  1   |\n",
            "| 2383 |     17    | 0.027234587404463027 |  2   |\n",
            "| 2383 |    149    | 0.026042726304796007 |  3   |\n",
            "| 2383 |     2     | 0.02443495061662462  |  4   |\n",
            "| 2383 |     40    | 0.024198671181996662 |  5   |\n",
            "| 2383 |    122    | 0.02353888087802463  |  6   |\n",
            "| 2383 |    191    | 0.02334354321161906  |  7   |\n",
            "| 2383 |    150    | 0.022505886024898954 |  8   |\n",
            "| 2383 |    128    | 0.022048109107547335 |  9   |\n",
            "| 2383 |    109    | 0.021783656544155545 |  10  |\n",
            "| 2465 |    119    | 0.03865352272987366  |  1   |\n",
            "| 2465 |    236    | 0.03665468096733093  |  2   |\n",
            "| 2465 |     15    | 0.029823467135429382 |  3   |\n",
            "| 2465 |    133    | 0.029417604207992554 |  4   |\n",
            "| 2465 |     25    | 0.028096765279769897 |  5   |\n",
            "| 2465 |    191    | 0.02794642746448517  |  6   |\n",
            "| 2465 |     17    | 0.027870118618011475 |  7   |\n",
            "| 2465 |    134    | 0.027613908052444458 |  8   |\n",
            "| 2465 |    184    | 0.02761247754096985  |  9   |\n",
            "| 2465 |     50    | 0.02731926739215851  |  10  |\n",
            "+------+-----------+----------------------+------+\n",
            "[10000 rows x 4 columns]\n",
            "\n"
          ],
          "name": "stdout"
        }
      ]
    },
    {
      "metadata": {
        "id": "0pHCm8vNvddC",
        "colab_type": "text"
      },
      "cell_type": "markdown",
      "source": [
        "### 9.2)- Checking most frequent items in final model"
      ]
    },
    {
      "metadata": {
        "id": "BP5jXHS6t3bC",
        "colab_type": "code",
        "outputId": "ffd03d23-9917-4632-e121-fa8527a8958b",
        "colab": {
          "base_uri": "https://localhost:8080/",
          "height": 386
        }
      },
      "cell_type": "code",
      "source": [
        "data.groupby(by=item_id)['purchase_count'].mean().sort_values(ascending=False).head(20)"
      ],
      "execution_count": 49,
      "outputs": [
        {
          "output_type": "execute_result",
          "data": {
            "text/plain": [
              "productId\n",
              "96     1.080808\n",
              "207    1.076923\n",
              "153    1.071429\n",
              "201    1.069767\n",
              "26     1.063158\n",
              "152    1.060345\n",
              "125    1.058824\n",
              "112    1.058824\n",
              "85     1.058824\n",
              "131    1.057143\n",
              "35     1.056180\n",
              "63     1.054545\n",
              "44     1.054545\n",
              "129    1.053763\n",
              "101    1.053763\n",
              "117    1.052632\n",
              "150    1.051724\n",
              "122    1.051724\n",
              "156    1.051546\n",
              "120    1.050000\n",
              "Name: purchase_count, dtype: float64"
            ]
          },
          "metadata": {
            "tags": []
          },
          "execution_count": 49
        }
      ]
    },
    {
      "metadata": {
        "id": "2FKTeShmvKEs",
        "colab_type": "text"
      },
      "cell_type": "markdown",
      "source": [
        "**RESULT: <BR>\n",
        "products 96,207 , 153,201 and 26(and so on) are the most frequent selling items across customers.**"
      ]
    },
    {
      "metadata": {
        "id": "ktEkWTRYviDC",
        "colab_type": "text"
      },
      "cell_type": "markdown",
      "source": [
        "# 10)- Bonus Part- Recommending products to customers"
      ]
    },
    {
      "metadata": {
        "id": "OAABXQP30jJl",
        "colab_type": "code",
        "outputId": "33e7d9b7-60e0-481b-e574-e9a79d77590b",
        "colab": {
          "base_uri": "https://localhost:8080/",
          "height": 195
        }
      },
      "cell_type": "code",
      "source": [
        "# Create a csv output file\n",
        "df_rec = recom.to_dataframe()\n",
        "df_rec.head()"
      ],
      "execution_count": 50,
      "outputs": [
        {
          "output_type": "execute_result",
          "data": {
            "text/html": [
              "<div>\n",
              "<style scoped>\n",
              "    .dataframe tbody tr th:only-of-type {\n",
              "        vertical-align: middle;\n",
              "    }\n",
              "\n",
              "    .dataframe tbody tr th {\n",
              "        vertical-align: top;\n",
              "    }\n",
              "\n",
              "    .dataframe thead th {\n",
              "        text-align: right;\n",
              "    }\n",
              "</style>\n",
              "<table border=\"1\" class=\"dataframe\">\n",
              "  <thead>\n",
              "    <tr style=\"text-align: right;\">\n",
              "      <th></th>\n",
              "      <th>id</th>\n",
              "      <th>productId</th>\n",
              "      <th>score</th>\n",
              "      <th>rank</th>\n",
              "    </tr>\n",
              "  </thead>\n",
              "  <tbody>\n",
              "    <tr>\n",
              "      <th>0</th>\n",
              "      <td>2109</td>\n",
              "      <td>168</td>\n",
              "      <td>0.025632</td>\n",
              "      <td>1</td>\n",
              "    </tr>\n",
              "    <tr>\n",
              "      <th>1</th>\n",
              "      <td>2109</td>\n",
              "      <td>23</td>\n",
              "      <td>0.022044</td>\n",
              "      <td>2</td>\n",
              "    </tr>\n",
              "    <tr>\n",
              "      <th>2</th>\n",
              "      <td>2109</td>\n",
              "      <td>169</td>\n",
              "      <td>0.021943</td>\n",
              "      <td>3</td>\n",
              "    </tr>\n",
              "    <tr>\n",
              "      <th>3</th>\n",
              "      <td>2109</td>\n",
              "      <td>32</td>\n",
              "      <td>0.020766</td>\n",
              "      <td>4</td>\n",
              "    </tr>\n",
              "    <tr>\n",
              "      <th>4</th>\n",
              "      <td>2109</td>\n",
              "      <td>191</td>\n",
              "      <td>0.020209</td>\n",
              "      <td>5</td>\n",
              "    </tr>\n",
              "  </tbody>\n",
              "</table>\n",
              "</div>"
            ],
            "text/plain": [
              "     id  productId     score  rank\n",
              "0  2109        168  0.025632     1\n",
              "1  2109         23  0.022044     2\n",
              "2  2109        169  0.021943     3\n",
              "3  2109         32  0.020766     4\n",
              "4  2109        191  0.020209     5"
            ]
          },
          "metadata": {
            "tags": []
          },
          "execution_count": 50
        }
      ]
    },
    {
      "metadata": {
        "id": "fWwGkzKP0liM",
        "colab_type": "code",
        "outputId": "4a725097-f9e0-4d7a-98b3-3ac481eede76",
        "colab": {
          "base_uri": "https://localhost:8080/",
          "height": 34
        }
      },
      "cell_type": "code",
      "source": [
        "print(df_rec.shape)"
      ],
      "execution_count": 51,
      "outputs": [
        {
          "output_type": "stream",
          "text": [
            "(10000, 4)\n"
          ],
          "name": "stdout"
        }
      ]
    },
    {
      "metadata": {
        "id": "n_9xXvjWtXAg",
        "colab_type": "code",
        "colab": {}
      },
      "cell_type": "code",
      "source": [
        "df_rec['recommendedProducts'] = df_rec.groupby([id])[item_id].transform(lambda x: '|'.join(x.astype(str)))\n",
        "df_output = df_rec[['id', 'recommendedProducts']].drop_duplicates().sort_values('id').set_index('id')"
      ],
      "execution_count": 0,
      "outputs": []
    },
    {
      "metadata": {
        "id": "PAp3RMVWFK7-",
        "colab_type": "code",
        "outputId": "07433320-7a8d-4d15-ac18-3e8ae850530c",
        "colab": {
          "base_uri": "https://localhost:8080/",
          "height": 34
        }
      },
      "cell_type": "code",
      "source": [
        "recomendation = final_model.recommend(users=users_to_recommend, k=n_rec)"
      ],
      "execution_count": 53,
      "outputs": [
        {
          "output_type": "display_data",
          "data": {
            "text/html": [
              "<pre>recommendations finished on 1000/1000 queries. users per second: 60716.5</pre>"
            ],
            "text/plain": [
              "recommendations finished on 1000/1000 queries. users per second: 60716.5"
            ]
          },
          "metadata": {
            "tags": []
          }
        }
      ]
    },
    {
      "metadata": {
        "id": "Col5kW0eEP76",
        "colab_type": "code",
        "colab": {}
      },
      "cell_type": "code",
      "source": [
        "df_rec = recomendation.to_dataframe()\n"
      ],
      "execution_count": 0,
      "outputs": []
    },
    {
      "metadata": {
        "id": "F47rQK6RFW9R",
        "colab_type": "code",
        "colab": {}
      },
      "cell_type": "code",
      "source": [
        "df_rec['recommendedProducts'] = df_rec.groupby([user_id])[item_id] \\\n",
        "        .transform(lambda x: '|'.join(x.astype(str)))"
      ],
      "execution_count": 0,
      "outputs": []
    },
    {
      "metadata": {
        "id": "eQNzFWdBEXWp",
        "colab_type": "code",
        "colab": {}
      },
      "cell_type": "code",
      "source": [
        "\n",
        "df_output = df_rec[['id', 'recommendedProducts']].drop_duplicates() \\\n",
        "        .sort_values('id').set_index('id')"
      ],
      "execution_count": 0,
      "outputs": []
    },
    {
      "metadata": {
        "id": "ztsQTdETFdVW",
        "colab_type": "code",
        "outputId": "697c9cd2-f858-4a3b-b023-bed372d49352",
        "colab": {
          "base_uri": "https://localhost:8080/",
          "height": 225
        }
      },
      "cell_type": "code",
      "source": [
        "df_output.head()"
      ],
      "execution_count": 57,
      "outputs": [
        {
          "output_type": "execute_result",
          "data": {
            "text/html": [
              "<div>\n",
              "<style scoped>\n",
              "    .dataframe tbody tr th:only-of-type {\n",
              "        vertical-align: middle;\n",
              "    }\n",
              "\n",
              "    .dataframe tbody tr th {\n",
              "        vertical-align: top;\n",
              "    }\n",
              "\n",
              "    .dataframe thead th {\n",
              "        text-align: right;\n",
              "    }\n",
              "</style>\n",
              "<table border=\"1\" class=\"dataframe\">\n",
              "  <thead>\n",
              "    <tr style=\"text-align: right;\">\n",
              "      <th></th>\n",
              "      <th>recommendedProducts</th>\n",
              "    </tr>\n",
              "    <tr>\n",
              "      <th>id</th>\n",
              "      <th></th>\n",
              "    </tr>\n",
              "  </thead>\n",
              "  <tbody>\n",
              "    <tr>\n",
              "      <th>0</th>\n",
              "      <td>104|229|161|17|205|156|214|65|146|150</td>\n",
              "    </tr>\n",
              "    <tr>\n",
              "      <th>2</th>\n",
              "      <td>211|85|7|228|215|170|164|113|169|122</td>\n",
              "    </tr>\n",
              "    <tr>\n",
              "      <th>7</th>\n",
              "      <td>154|82|3|235|167|144|102|40|2|223</td>\n",
              "    </tr>\n",
              "    <tr>\n",
              "      <th>12</th>\n",
              "      <td>41|85|122|65|79|228|141|235|137|160</td>\n",
              "    </tr>\n",
              "    <tr>\n",
              "      <th>14</th>\n",
              "      <td>77|184|181|137|208|27|194|98|246|214</td>\n",
              "    </tr>\n",
              "  </tbody>\n",
              "</table>\n",
              "</div>"
            ],
            "text/plain": [
              "                      recommendedProducts\n",
              "id                                       \n",
              "0   104|229|161|17|205|156|214|65|146|150\n",
              "2    211|85|7|228|215|170|164|113|169|122\n",
              "7       154|82|3|235|167|144|102|40|2|223\n",
              "12    41|85|122|65|79|228|141|235|137|160\n",
              "14   77|184|181|137|208|27|194|98|246|214"
            ]
          },
          "metadata": {
            "tags": []
          },
          "execution_count": 57
        }
      ]
    },
    {
      "metadata": {
        "id": "nm6d3gfqfOX4",
        "colab_type": "code",
        "colab": {}
      },
      "cell_type": "code",
      "source": [
        "# define recommendation function\n",
        "def customer_recomendation(id):\n",
        "    if id not in df_output.index:\n",
        "        print('Customer not found.')\n",
        "        return id\n",
        "    return df_output.loc[id]"
      ],
      "execution_count": 0,
      "outputs": []
    },
    {
      "metadata": {
        "id": "TcOluO1DfOh9",
        "colab_type": "code",
        "colab": {
          "base_uri": "https://localhost:8080/",
          "height": 50
        },
        "outputId": "6e73c913-761f-42e7-ed37-99ea9a861c1d"
      },
      "cell_type": "code",
      "source": [
        "customer_recomendation(48)"
      ],
      "execution_count": 59,
      "outputs": [
        {
          "output_type": "execute_result",
          "data": {
            "text/plain": [
              "recommendedProducts    228|169|17|79|5|104|11|195|167|225\n",
              "Name: 48, dtype: object"
            ]
          },
          "metadata": {
            "tags": []
          },
          "execution_count": 59
        }
      ]
    },
    {
      "metadata": {
        "id": "QhfprNz4fXNT",
        "colab_type": "code",
        "colab": {
          "base_uri": "https://localhost:8080/",
          "height": 50
        },
        "outputId": "2a7699f1-34bd-4ef6-89a3-cdcc7140b9f5"
      },
      "cell_type": "code",
      "source": [
        "customer_recomendation(2438)"
      ],
      "execution_count": 60,
      "outputs": [
        {
          "output_type": "stream",
          "text": [
            "Customer not found.\n"
          ],
          "name": "stdout"
        },
        {
          "output_type": "execute_result",
          "data": {
            "text/plain": [
              "2438"
            ]
          },
          "metadata": {
            "tags": []
          },
          "execution_count": 60
        }
      ]
    },
    {
      "metadata": {
        "id": "FJo-zvQkfbBQ",
        "colab_type": "code",
        "colab": {
          "base_uri": "https://localhost:8080/",
          "height": 50
        },
        "outputId": "4f03b822-342a-4748-dfe0-f8228e0ecf11"
      },
      "cell_type": "code",
      "source": [
        "customer_recomendation(368)"
      ],
      "execution_count": 61,
      "outputs": [
        {
          "output_type": "execute_result",
          "data": {
            "text/plain": [
              "recommendedProducts    211|85|7|228|215|170|164|113|169|122\n",
              "Name: 368, dtype: object"
            ]
          },
          "metadata": {
            "tags": []
          },
          "execution_count": 61
        }
      ]
    }
  ]
}