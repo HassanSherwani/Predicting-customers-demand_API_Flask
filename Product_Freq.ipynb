{
  "nbformat": 4,
  "nbformat_minor": 0,
  "metadata": {
    "colab": {
      "name": "Product_Freq.ipynb",
      "version": "0.3.2",
      "provenance": [],
      "collapsed_sections": [],
      "include_colab_link": true
    },
    "kernelspec": {
      "name": "python3",
      "display_name": "Python 3"
    }
  },
  "cells": [
    {
      "cell_type": "markdown",
      "metadata": {
        "id": "view-in-github",
        "colab_type": "text"
      },
      "source": [
        "<a href=\"https://colab.research.google.com/github/HassanSherwani/Product_Purchase_Frequency/blob/master/Product_Freq.ipynb\" target=\"_parent\"><img src=\"https://colab.research.google.com/assets/colab-badge.svg\" alt=\"Open In Colab\"/></a>"
      ]
    },
    {
      "metadata": {
        "id": "UMVYNospmyXs",
        "colab_type": "text"
      },
      "cell_type": "markdown",
      "source": [
        "# Problem Statement:\n",
        "\n",
        "How often a certain product has been sold in the past days."
      ]
    },
    {
      "metadata": {
        "id": "nL9G4pv1m403",
        "colab_type": "text"
      },
      "cell_type": "markdown",
      "source": [
        "#1)- Importing key modules"
      ]
    },
    {
      "metadata": {
        "id": "ONIqqndak2q2",
        "colab_type": "code",
        "colab": {}
      },
      "cell_type": "code",
      "source": [
        "# Let's be rebels and ignore warnings for now\n",
        "import warnings\n",
        "warnings.filterwarnings('ignore')\n",
        "warnings.filterwarnings(\"ignore\",category=DeprecationWarning)"
      ],
      "execution_count": 0,
      "outputs": []
    },
    {
      "metadata": {
        "id": "vyM7te4Diykk",
        "colab_type": "code",
        "colab": {}
      },
      "cell_type": "code",
      "source": [
        "import pandas as pd\n",
        "import numpy as np\n",
        "import time\n",
        "from sklearn.model_selection import train_test_split\n",
        "import sys"
      ],
      "execution_count": 0,
      "outputs": []
    },
    {
      "metadata": {
        "id": "qO6Amb2Hi0cg",
        "colab_type": "code",
        "outputId": "06dc6a22-65e4-4231-81b1-5fc4365c472d",
        "colab": {
          "base_uri": "https://localhost:8080/",
          "height": 658
        }
      },
      "cell_type": "code",
      "source": [
        "! pip install turicreate"
      ],
      "execution_count": 3,
      "outputs": [
        {
          "output_type": "stream",
          "text": [
            "Collecting turicreate\n",
            "\u001b[?25l  Downloading https://files.pythonhosted.org/packages/4f/ef/1847a704548ad4cbcabe09b3882181c190f5b696da8b2d082521c33ec187/turicreate-5.4-cp36-cp36m-manylinux1_x86_64.whl (87.4MB)\n",
            "\u001b[K    100% |████████████████████████████████| 87.4MB 249kB/s \n",
            "\u001b[?25hRequirement already satisfied: decorator>=4.0.9 in /usr/local/lib/python3.6/dist-packages (from turicreate) (4.4.0)\n",
            "Requirement already satisfied: pandas>=0.19.0 in /usr/local/lib/python3.6/dist-packages (from turicreate) (0.23.4)\n",
            "Requirement already satisfied: pillow>=3.3.0 in /usr/local/lib/python3.6/dist-packages (from turicreate) (4.3.0)\n",
            "Requirement already satisfied: numpy in /usr/local/lib/python3.6/dist-packages (from turicreate) (1.16.2)\n",
            "Requirement already satisfied: requests>=2.9.1 in /usr/local/lib/python3.6/dist-packages (from turicreate) (2.18.4)\n",
            "Requirement already satisfied: scipy>=0.14.0 in /usr/local/lib/python3.6/dist-packages (from turicreate) (1.2.1)\n",
            "Requirement already satisfied: six>=1.10.0 in /usr/local/lib/python3.6/dist-packages (from turicreate) (1.11.0)\n",
            "Collecting coremltools==2.1.0 (from turicreate)\n",
            "\u001b[?25l  Downloading https://files.pythonhosted.org/packages/b9/9d/7ec5a2480c6afce4fcb99de1650b7abfd1457b2ef1de5ce39bf7bee8a8ae/coremltools-2.1.0-cp36-none-manylinux1_x86_64.whl (2.7MB)\n",
            "\u001b[K    100% |████████████████████████████████| 2.7MB 11.3MB/s \n",
            "\u001b[?25hCollecting mxnet<1.2.0,>=1.1.0 (from turicreate)\n",
            "\u001b[?25l  Downloading https://files.pythonhosted.org/packages/96/98/c9877e100c3d1ac92263bfaba7bb8a49294e099046592040a2ff8620ac61/mxnet-1.1.0.post0-py2.py3-none-manylinux1_x86_64.whl (23.8MB)\n",
            "\u001b[K    100% |████████████████████████████████| 23.8MB 1.7MB/s \n",
            "\u001b[?25hRequirement already satisfied: resampy==0.2.1 in /usr/local/lib/python3.6/dist-packages (from turicreate) (0.2.1)\n",
            "Requirement already satisfied: prettytable==0.7.2 in /usr/local/lib/python3.6/dist-packages (from turicreate) (0.7.2)\n",
            "Requirement already satisfied: python-dateutil>=2.5.0 in /usr/local/lib/python3.6/dist-packages (from pandas>=0.19.0->turicreate) (2.5.3)\n",
            "Requirement already satisfied: pytz>=2011k in /usr/local/lib/python3.6/dist-packages (from pandas>=0.19.0->turicreate) (2018.9)\n",
            "Requirement already satisfied: olefile in /usr/local/lib/python3.6/dist-packages (from pillow>=3.3.0->turicreate) (0.46)\n",
            "Requirement already satisfied: chardet<3.1.0,>=3.0.2 in /usr/local/lib/python3.6/dist-packages (from requests>=2.9.1->turicreate) (3.0.4)\n",
            "Requirement already satisfied: certifi>=2017.4.17 in /usr/local/lib/python3.6/dist-packages (from requests>=2.9.1->turicreate) (2019.3.9)\n",
            "Requirement already satisfied: urllib3<1.23,>=1.21.1 in /usr/local/lib/python3.6/dist-packages (from requests>=2.9.1->turicreate) (1.22)\n",
            "Requirement already satisfied: idna<2.7,>=2.5 in /usr/local/lib/python3.6/dist-packages (from requests>=2.9.1->turicreate) (2.6)\n",
            "Requirement already satisfied: protobuf>=3.1.0 in /usr/local/lib/python3.6/dist-packages (from coremltools==2.1.0->turicreate) (3.7.1)\n",
            "Collecting graphviz<0.9.0,>=0.8.1 (from mxnet<1.2.0,>=1.1.0->turicreate)\n",
            "  Downloading https://files.pythonhosted.org/packages/53/39/4ab213673844e0c004bed8a0781a0721a3f6bb23eb8854ee75c236428892/graphviz-0.8.4-py2.py3-none-any.whl\n",
            "Requirement already satisfied: numba>=0.32 in /usr/local/lib/python3.6/dist-packages (from resampy==0.2.1->turicreate) (0.40.1)\n",
            "Requirement already satisfied: setuptools in /usr/local/lib/python3.6/dist-packages (from protobuf>=3.1.0->coremltools==2.1.0->turicreate) (40.9.0)\n",
            "Requirement already satisfied: llvmlite>=0.25.0dev0 in /usr/local/lib/python3.6/dist-packages (from numba>=0.32->resampy==0.2.1->turicreate) (0.28.0)\n",
            "\u001b[31mmxnet 1.1.0.post0 has requirement numpy<1.15.0,>=1.8.2, but you'll have numpy 1.16.2 which is incompatible.\u001b[0m\n",
            "Installing collected packages: coremltools, graphviz, mxnet, turicreate\n",
            "  Found existing installation: graphviz 0.10.1\n",
            "    Uninstalling graphviz-0.10.1:\n",
            "      Successfully uninstalled graphviz-0.10.1\n",
            "Successfully installed coremltools-2.1.0 graphviz-0.8.4 mxnet-1.1.0.post0 turicreate-5.4\n"
          ],
          "name": "stdout"
        }
      ]
    },
    {
      "metadata": {
        "id": "MAc6IaOpi00I",
        "colab_type": "code",
        "colab": {}
      },
      "cell_type": "code",
      "source": [
        "import turicreate as tc"
      ],
      "execution_count": 0,
      "outputs": []
    },
    {
      "metadata": {
        "id": "3Tm0EX0ynzAr",
        "colab_type": "text"
      },
      "cell_type": "markdown",
      "source": [
        "# 2)-Loading Data"
      ]
    },
    {
      "metadata": {
        "id": "Sv4bz7lpjJ1c",
        "colab_type": "code",
        "colab": {}
      },
      "cell_type": "code",
      "source": [
        "url = 'https://raw.githubusercontent.com/HassanSherwani/Product_Purchase_Frequency/master/20190207_transactions%20.json'"
      ],
      "execution_count": 0,
      "outputs": []
    },
    {
      "metadata": {
        "id": "CVUUTZoljOm1",
        "colab_type": "code",
        "colab": {}
      },
      "cell_type": "code",
      "source": [
        "transactions = pd.read_json(url, lines= True)"
      ],
      "execution_count": 0,
      "outputs": []
    },
    {
      "metadata": {
        "id": "A-tmEIdNn5tq",
        "colab_type": "text"
      },
      "cell_type": "markdown",
      "source": [
        "# 3)-Exploring dataset"
      ]
    },
    {
      "metadata": {
        "id": "yCBuFRWPjQ0W",
        "colab_type": "code",
        "outputId": "50dde2b3-b142-4847-8108-15bc63070070",
        "colab": {
          "base_uri": "https://localhost:8080/",
          "height": 195
        }
      },
      "cell_type": "code",
      "source": [
        "transactions.head()"
      ],
      "execution_count": 7,
      "outputs": [
        {
          "output_type": "execute_result",
          "data": {
            "text/html": [
              "<div>\n",
              "<style scoped>\n",
              "    .dataframe tbody tr th:only-of-type {\n",
              "        vertical-align: middle;\n",
              "    }\n",
              "\n",
              "    .dataframe tbody tr th {\n",
              "        vertical-align: top;\n",
              "    }\n",
              "\n",
              "    .dataframe thead th {\n",
              "        text-align: right;\n",
              "    }\n",
              "</style>\n",
              "<table border=\"1\" class=\"dataframe\">\n",
              "  <thead>\n",
              "    <tr style=\"text-align: right;\">\n",
              "      <th></th>\n",
              "      <th>id</th>\n",
              "      <th>products</th>\n",
              "    </tr>\n",
              "  </thead>\n",
              "  <tbody>\n",
              "    <tr>\n",
              "      <th>0</th>\n",
              "      <td>0</td>\n",
              "      <td>[185, 30, 77, 188, 78, 125, 45, 155, 241, 229,...</td>\n",
              "    </tr>\n",
              "    <tr>\n",
              "      <th>1</th>\n",
              "      <td>1</td>\n",
              "      <td>[119, 148, 108, 34, 157, 82, 113, 45, 165]</td>\n",
              "    </tr>\n",
              "    <tr>\n",
              "      <th>2</th>\n",
              "      <td>2</td>\n",
              "      <td>[173, 103, 229, 240]</td>\n",
              "    </tr>\n",
              "    <tr>\n",
              "      <th>3</th>\n",
              "      <td>3</td>\n",
              "      <td>[91]</td>\n",
              "    </tr>\n",
              "    <tr>\n",
              "      <th>4</th>\n",
              "      <td>4</td>\n",
              "      <td>[175, 192, 54, 172]</td>\n",
              "    </tr>\n",
              "  </tbody>\n",
              "</table>\n",
              "</div>"
            ],
            "text/plain": [
              "   id                                           products\n",
              "0   0  [185, 30, 77, 188, 78, 125, 45, 155, 241, 229,...\n",
              "1   1         [119, 148, 108, 34, 157, 82, 113, 45, 165]\n",
              "2   2                               [173, 103, 229, 240]\n",
              "3   3                                               [91]\n",
              "4   4                                [175, 192, 54, 172]"
            ]
          },
          "metadata": {
            "tags": []
          },
          "execution_count": 7
        }
      ]
    },
    {
      "metadata": {
        "id": "yPAUbIxWojdD",
        "colab_type": "code",
        "outputId": "0ce9f143-e796-4b38-ab57-34d31735309f",
        "colab": {
          "base_uri": "https://localhost:8080/",
          "height": 34
        }
      },
      "cell_type": "code",
      "source": [
        "transactions.shape"
      ],
      "execution_count": 8,
      "outputs": [
        {
          "output_type": "execute_result",
          "data": {
            "text/plain": [
              "(2500, 2)"
            ]
          },
          "metadata": {
            "tags": []
          },
          "execution_count": 8
        }
      ]
    },
    {
      "metadata": {
        "id": "-lBpAA8jbF2j",
        "colab_type": "code",
        "outputId": "12c5c456-888c-49f9-fda7-a01a2de89668",
        "colab": {
          "base_uri": "https://localhost:8080/",
          "height": 34
        }
      },
      "cell_type": "code",
      "source": [
        "print(transactions['products'][1415])"
      ],
      "execution_count": 9,
      "outputs": [
        {
          "output_type": "stream",
          "text": [
            "[250, 236, 242, 229, 92, 2, 71, 172, 109, 247, 171, 209, 90, 139, 188, 191, 145, 214, 216, 237]\n"
          ],
          "name": "stdout"
        }
      ]
    },
    {
      "metadata": {
        "id": "VgeTdpb8jSrM",
        "colab_type": "code",
        "outputId": "63e82821-94ce-4258-ed44-5b9187fa20cd",
        "colab": {
          "base_uri": "https://localhost:8080/",
          "height": 134
        }
      },
      "cell_type": "code",
      "source": [
        "transactions.info() # checking missing values"
      ],
      "execution_count": 10,
      "outputs": [
        {
          "output_type": "stream",
          "text": [
            "<class 'pandas.core.frame.DataFrame'>\n",
            "RangeIndex: 2500 entries, 0 to 2499\n",
            "Data columns (total 2 columns):\n",
            "id          2500 non-null int64\n",
            "products    2500 non-null object\n",
            "dtypes: int64(1), object(1)\n",
            "memory usage: 39.1+ KB\n"
          ],
          "name": "stdout"
        }
      ]
    },
    {
      "metadata": {
        "id": "5AKaMrgsoHvq",
        "colab_type": "code",
        "outputId": "0a5bf62c-40ca-466e-a3bb-c4dda9382a7f",
        "colab": {
          "base_uri": "https://localhost:8080/",
          "height": 284
        }
      },
      "cell_type": "code",
      "source": [
        "transactions.describe()"
      ],
      "execution_count": 11,
      "outputs": [
        {
          "output_type": "execute_result",
          "data": {
            "text/html": [
              "<div>\n",
              "<style scoped>\n",
              "    .dataframe tbody tr th:only-of-type {\n",
              "        vertical-align: middle;\n",
              "    }\n",
              "\n",
              "    .dataframe tbody tr th {\n",
              "        vertical-align: top;\n",
              "    }\n",
              "\n",
              "    .dataframe thead th {\n",
              "        text-align: right;\n",
              "    }\n",
              "</style>\n",
              "<table border=\"1\" class=\"dataframe\">\n",
              "  <thead>\n",
              "    <tr style=\"text-align: right;\">\n",
              "      <th></th>\n",
              "      <th>id</th>\n",
              "    </tr>\n",
              "  </thead>\n",
              "  <tbody>\n",
              "    <tr>\n",
              "      <th>count</th>\n",
              "      <td>2500.00000</td>\n",
              "    </tr>\n",
              "    <tr>\n",
              "      <th>mean</th>\n",
              "      <td>1249.50000</td>\n",
              "    </tr>\n",
              "    <tr>\n",
              "      <th>std</th>\n",
              "      <td>721.83216</td>\n",
              "    </tr>\n",
              "    <tr>\n",
              "      <th>min</th>\n",
              "      <td>0.00000</td>\n",
              "    </tr>\n",
              "    <tr>\n",
              "      <th>25%</th>\n",
              "      <td>624.75000</td>\n",
              "    </tr>\n",
              "    <tr>\n",
              "      <th>50%</th>\n",
              "      <td>1249.50000</td>\n",
              "    </tr>\n",
              "    <tr>\n",
              "      <th>75%</th>\n",
              "      <td>1874.25000</td>\n",
              "    </tr>\n",
              "    <tr>\n",
              "      <th>max</th>\n",
              "      <td>2499.00000</td>\n",
              "    </tr>\n",
              "  </tbody>\n",
              "</table>\n",
              "</div>"
            ],
            "text/plain": [
              "               id\n",
              "count  2500.00000\n",
              "mean   1249.50000\n",
              "std     721.83216\n",
              "min       0.00000\n",
              "25%     624.75000\n",
              "50%    1249.50000\n",
              "75%    1874.25000\n",
              "max    2499.00000"
            ]
          },
          "metadata": {
            "tags": []
          },
          "execution_count": 11
        }
      ]
    },
    {
      "metadata": {
        "id": "Ceiu-Cp2n_wJ",
        "colab_type": "text"
      },
      "cell_type": "markdown",
      "source": [
        "# 4)- Adding Features:"
      ]
    },
    {
      "metadata": {
        "id": "rSA3uKD2oKor",
        "colab_type": "text"
      },
      "cell_type": "markdown",
      "source": [
        "### 4.1)-Create a separate dataframe for recommending users"
      ]
    },
    {
      "metadata": {
        "id": "0DBhi0vnu8SS",
        "colab_type": "code",
        "colab": {}
      },
      "cell_type": "code",
      "source": [
        "customers=transactions['id']"
      ],
      "execution_count": 0,
      "outputs": []
    },
    {
      "metadata": {
        "id": "2MHbsJKibaUr",
        "colab_type": "code",
        "outputId": "c080d291-c48d-40e8-ca07-bd53282f596f",
        "colab": {
          "base_uri": "https://localhost:8080/",
          "height": 118
        }
      },
      "cell_type": "code",
      "source": [
        "customers.head()"
      ],
      "execution_count": 0,
      "outputs": [
        {
          "output_type": "execute_result",
          "data": {
            "text/plain": [
              "0    0\n",
              "1    1\n",
              "2    2\n",
              "3    3\n",
              "4    4\n",
              "Name: id, dtype: int64"
            ]
          },
          "metadata": {
            "tags": []
          },
          "execution_count": 13
        }
      ]
    },
    {
      "metadata": {
        "id": "A-mi3uWwa-4X",
        "colab_type": "code",
        "colab": {}
      },
      "cell_type": "code",
      "source": [
        "import random\n",
        "random.shuffle(customers) "
      ],
      "execution_count": 0,
      "outputs": []
    },
    {
      "metadata": {
        "id": "GfeS_uKkmlS2",
        "colab_type": "text"
      },
      "cell_type": "markdown",
      "source": [
        " To get random values of customer ids. This would help us in avoiding sample biaseness in our modeling."
      ]
    },
    {
      "metadata": {
        "id": "Sb4DSom_vM3j",
        "colab_type": "code",
        "colab": {}
      },
      "cell_type": "code",
      "source": [
        "cust_2_rec=customers[:1000]"
      ],
      "execution_count": 0,
      "outputs": []
    },
    {
      "metadata": {
        "id": "Z4FNm7k7dX7K",
        "colab_type": "code",
        "outputId": "43d77e9f-3731-440e-e15d-5c1457b56c52",
        "colab": {
          "base_uri": "https://localhost:8080/",
          "height": 118
        }
      },
      "cell_type": "code",
      "source": [
        "cust_2_rec.head()"
      ],
      "execution_count": 17,
      "outputs": [
        {
          "output_type": "execute_result",
          "data": {
            "text/plain": [
              "0    1448\n",
              "1    1010\n",
              "2    1102\n",
              "3    1168\n",
              "4     287\n",
              "Name: id, dtype: int64"
            ]
          },
          "metadata": {
            "tags": []
          },
          "execution_count": 17
        }
      ]
    },
    {
      "metadata": {
        "id": "dpikg3_GoW4k",
        "colab_type": "text"
      },
      "cell_type": "markdown",
      "source": [
        "### 4.2)- break down each list of items in the products column into rows and count the number of products bought by a user"
      ]
    },
    {
      "metadata": {
        "id": "zeYv4cVJoQg1",
        "colab_type": "code",
        "outputId": "4498dcf2-9a08-4f6e-af6b-9a7f6e366c89",
        "colab": {
          "base_uri": "https://localhost:8080/",
          "height": 758
        }
      },
      "cell_type": "code",
      "source": [
        "pd.melt(transactions.head(2).set_index('id')['products'].apply(pd.Series).reset_index(), \n",
        "             id_vars=['id'],\n",
        "             value_name='products') \\\n",
        "    .dropna().drop(['variable'], axis=1) \\\n",
        "    .groupby(['id', 'products']) \\\n",
        "    .agg({'products': 'count'}) \\\n",
        "    .rename(columns={'products': 'purchase_count'}) \\\n",
        "    .reset_index() \\\n",
        "    .rename(columns={'products': 'productId'})"
      ],
      "execution_count": 18,
      "outputs": [
        {
          "output_type": "execute_result",
          "data": {
            "text/html": [
              "<div>\n",
              "<style scoped>\n",
              "    .dataframe tbody tr th:only-of-type {\n",
              "        vertical-align: middle;\n",
              "    }\n",
              "\n",
              "    .dataframe tbody tr th {\n",
              "        vertical-align: top;\n",
              "    }\n",
              "\n",
              "    .dataframe thead th {\n",
              "        text-align: right;\n",
              "    }\n",
              "</style>\n",
              "<table border=\"1\" class=\"dataframe\">\n",
              "  <thead>\n",
              "    <tr style=\"text-align: right;\">\n",
              "      <th></th>\n",
              "      <th>id</th>\n",
              "      <th>productId</th>\n",
              "      <th>purchase_count</th>\n",
              "    </tr>\n",
              "  </thead>\n",
              "  <tbody>\n",
              "    <tr>\n",
              "      <th>0</th>\n",
              "      <td>1010</td>\n",
              "      <td>34.0</td>\n",
              "      <td>1</td>\n",
              "    </tr>\n",
              "    <tr>\n",
              "      <th>1</th>\n",
              "      <td>1010</td>\n",
              "      <td>45.0</td>\n",
              "      <td>1</td>\n",
              "    </tr>\n",
              "    <tr>\n",
              "      <th>2</th>\n",
              "      <td>1010</td>\n",
              "      <td>82.0</td>\n",
              "      <td>1</td>\n",
              "    </tr>\n",
              "    <tr>\n",
              "      <th>3</th>\n",
              "      <td>1010</td>\n",
              "      <td>108.0</td>\n",
              "      <td>1</td>\n",
              "    </tr>\n",
              "    <tr>\n",
              "      <th>4</th>\n",
              "      <td>1010</td>\n",
              "      <td>113.0</td>\n",
              "      <td>1</td>\n",
              "    </tr>\n",
              "    <tr>\n",
              "      <th>5</th>\n",
              "      <td>1010</td>\n",
              "      <td>119.0</td>\n",
              "      <td>1</td>\n",
              "    </tr>\n",
              "    <tr>\n",
              "      <th>6</th>\n",
              "      <td>1010</td>\n",
              "      <td>148.0</td>\n",
              "      <td>1</td>\n",
              "    </tr>\n",
              "    <tr>\n",
              "      <th>7</th>\n",
              "      <td>1010</td>\n",
              "      <td>157.0</td>\n",
              "      <td>1</td>\n",
              "    </tr>\n",
              "    <tr>\n",
              "      <th>8</th>\n",
              "      <td>1010</td>\n",
              "      <td>165.0</td>\n",
              "      <td>1</td>\n",
              "    </tr>\n",
              "    <tr>\n",
              "      <th>9</th>\n",
              "      <td>1448</td>\n",
              "      <td>30.0</td>\n",
              "      <td>1</td>\n",
              "    </tr>\n",
              "    <tr>\n",
              "      <th>10</th>\n",
              "      <td>1448</td>\n",
              "      <td>45.0</td>\n",
              "      <td>1</td>\n",
              "    </tr>\n",
              "    <tr>\n",
              "      <th>11</th>\n",
              "      <td>1448</td>\n",
              "      <td>77.0</td>\n",
              "      <td>1</td>\n",
              "    </tr>\n",
              "    <tr>\n",
              "      <th>12</th>\n",
              "      <td>1448</td>\n",
              "      <td>78.0</td>\n",
              "      <td>1</td>\n",
              "    </tr>\n",
              "    <tr>\n",
              "      <th>13</th>\n",
              "      <td>1448</td>\n",
              "      <td>89.0</td>\n",
              "      <td>2</td>\n",
              "    </tr>\n",
              "    <tr>\n",
              "      <th>14</th>\n",
              "      <td>1448</td>\n",
              "      <td>125.0</td>\n",
              "      <td>1</td>\n",
              "    </tr>\n",
              "    <tr>\n",
              "      <th>15</th>\n",
              "      <td>1448</td>\n",
              "      <td>133.0</td>\n",
              "      <td>1</td>\n",
              "    </tr>\n",
              "    <tr>\n",
              "      <th>16</th>\n",
              "      <td>1448</td>\n",
              "      <td>155.0</td>\n",
              "      <td>1</td>\n",
              "    </tr>\n",
              "    <tr>\n",
              "      <th>17</th>\n",
              "      <td>1448</td>\n",
              "      <td>161.0</td>\n",
              "      <td>1</td>\n",
              "    </tr>\n",
              "    <tr>\n",
              "      <th>18</th>\n",
              "      <td>1448</td>\n",
              "      <td>185.0</td>\n",
              "      <td>1</td>\n",
              "    </tr>\n",
              "    <tr>\n",
              "      <th>19</th>\n",
              "      <td>1448</td>\n",
              "      <td>188.0</td>\n",
              "      <td>1</td>\n",
              "    </tr>\n",
              "    <tr>\n",
              "      <th>20</th>\n",
              "      <td>1448</td>\n",
              "      <td>210.0</td>\n",
              "      <td>1</td>\n",
              "    </tr>\n",
              "    <tr>\n",
              "      <th>21</th>\n",
              "      <td>1448</td>\n",
              "      <td>229.0</td>\n",
              "      <td>1</td>\n",
              "    </tr>\n",
              "    <tr>\n",
              "      <th>22</th>\n",
              "      <td>1448</td>\n",
              "      <td>238.0</td>\n",
              "      <td>1</td>\n",
              "    </tr>\n",
              "    <tr>\n",
              "      <th>23</th>\n",
              "      <td>1448</td>\n",
              "      <td>241.0</td>\n",
              "      <td>1</td>\n",
              "    </tr>\n",
              "  </tbody>\n",
              "</table>\n",
              "</div>"
            ],
            "text/plain": [
              "      id  productId  purchase_count\n",
              "0   1010       34.0               1\n",
              "1   1010       45.0               1\n",
              "2   1010       82.0               1\n",
              "3   1010      108.0               1\n",
              "4   1010      113.0               1\n",
              "5   1010      119.0               1\n",
              "6   1010      148.0               1\n",
              "7   1010      157.0               1\n",
              "8   1010      165.0               1\n",
              "9   1448       30.0               1\n",
              "10  1448       45.0               1\n",
              "11  1448       77.0               1\n",
              "12  1448       78.0               1\n",
              "13  1448       89.0               2\n",
              "14  1448      125.0               1\n",
              "15  1448      133.0               1\n",
              "16  1448      155.0               1\n",
              "17  1448      161.0               1\n",
              "18  1448      185.0               1\n",
              "19  1448      188.0               1\n",
              "20  1448      210.0               1\n",
              "21  1448      229.0               1\n",
              "22  1448      238.0               1\n",
              "23  1448      241.0               1"
            ]
          },
          "metadata": {
            "tags": []
          },
          "execution_count": 18
        }
      ]
    },
    {
      "metadata": {
        "id": "F6Hj3u6AooZp",
        "colab_type": "text"
      },
      "cell_type": "markdown",
      "source": [
        "# 5- Creating features for user_id,product_id and purchase count"
      ]
    },
    {
      "metadata": {
        "id": "FzBoXd9gorSJ",
        "colab_type": "text"
      },
      "cell_type": "markdown",
      "source": [
        "### 5a)-One for purchase count"
      ]
    },
    {
      "metadata": {
        "id": "KQIQ1Djlo5zz",
        "colab_type": "code",
        "outputId": "74886e6c-4df5-4df1-9cb2-fdbb1ff7ccb2",
        "colab": {
          "base_uri": "https://localhost:8080/",
          "height": 34
        }
      },
      "cell_type": "code",
      "source": [
        "s=time.time()\n",
        "\n",
        "data = pd.melt(transactions.set_index('id')['products'].apply(pd.Series).reset_index(), \n",
        "             id_vars=['id'],\n",
        "             value_name='products') \\\n",
        "    .dropna().drop(['variable'], axis=1) \\\n",
        "    .groupby(['id', 'products']) \\\n",
        "    .agg({'products': 'count'}) \\\n",
        "    .rename(columns={'products': 'purchase_count'}) \\\n",
        "    .reset_index() \\\n",
        "    .rename(columns={'products': 'productId'})\n",
        "data['productId'] = data['productId'].astype(np.int64)\n",
        "\n",
        "print(\"Execution time:\", round((time.time()-s)/60,2), \"minutes\")"
      ],
      "execution_count": 19,
      "outputs": [
        {
          "output_type": "stream",
          "text": [
            "Execution time: 0.01 minutes\n"
          ],
          "name": "stdout"
        }
      ]
    },
    {
      "metadata": {
        "id": "A8OZyl_Gqzy4",
        "colab_type": "code",
        "outputId": "d9fc7ce7-b059-45d8-f186-1788452e6faf",
        "colab": {
          "base_uri": "https://localhost:8080/",
          "height": 34
        }
      },
      "cell_type": "code",
      "source": [
        "data.shape"
      ],
      "execution_count": 20,
      "outputs": [
        {
          "output_type": "execute_result",
          "data": {
            "text/plain": [
              "(24811, 3)"
            ]
          },
          "metadata": {
            "tags": []
          },
          "execution_count": 20
        }
      ]
    },
    {
      "metadata": {
        "id": "f-NAiHgoq3rP",
        "colab_type": "code",
        "outputId": "f24851da-a5ca-4114-d3d8-e0fb1658465c",
        "colab": {
          "base_uri": "https://localhost:8080/",
          "height": 195
        }
      },
      "cell_type": "code",
      "source": [
        "data.head()"
      ],
      "execution_count": 21,
      "outputs": [
        {
          "output_type": "execute_result",
          "data": {
            "text/html": [
              "<div>\n",
              "<style scoped>\n",
              "    .dataframe tbody tr th:only-of-type {\n",
              "        vertical-align: middle;\n",
              "    }\n",
              "\n",
              "    .dataframe tbody tr th {\n",
              "        vertical-align: top;\n",
              "    }\n",
              "\n",
              "    .dataframe thead th {\n",
              "        text-align: right;\n",
              "    }\n",
              "</style>\n",
              "<table border=\"1\" class=\"dataframe\">\n",
              "  <thead>\n",
              "    <tr style=\"text-align: right;\">\n",
              "      <th></th>\n",
              "      <th>id</th>\n",
              "      <th>productId</th>\n",
              "      <th>purchase_count</th>\n",
              "    </tr>\n",
              "  </thead>\n",
              "  <tbody>\n",
              "    <tr>\n",
              "      <th>0</th>\n",
              "      <td>0</td>\n",
              "      <td>8</td>\n",
              "      <td>1</td>\n",
              "    </tr>\n",
              "    <tr>\n",
              "      <th>1</th>\n",
              "      <td>0</td>\n",
              "      <td>9</td>\n",
              "      <td>1</td>\n",
              "    </tr>\n",
              "    <tr>\n",
              "      <th>2</th>\n",
              "      <td>0</td>\n",
              "      <td>19</td>\n",
              "      <td>1</td>\n",
              "    </tr>\n",
              "    <tr>\n",
              "      <th>3</th>\n",
              "      <td>0</td>\n",
              "      <td>26</td>\n",
              "      <td>2</td>\n",
              "    </tr>\n",
              "    <tr>\n",
              "      <th>4</th>\n",
              "      <td>0</td>\n",
              "      <td>48</td>\n",
              "      <td>1</td>\n",
              "    </tr>\n",
              "  </tbody>\n",
              "</table>\n",
              "</div>"
            ],
            "text/plain": [
              "   id  productId  purchase_count\n",
              "0   0          8               1\n",
              "1   0          9               1\n",
              "2   0         19               1\n",
              "3   0         26               2\n",
              "4   0         48               1"
            ]
          },
          "metadata": {
            "tags": []
          },
          "execution_count": 21
        }
      ]
    },
    {
      "metadata": {
        "id": "uc16ovSKjVOW",
        "colab_type": "code",
        "colab": {}
      },
      "cell_type": "code",
      "source": [
        "prod_freq=data['productId'].value_counts(dropna=False)"
      ],
      "execution_count": 0,
      "outputs": []
    },
    {
      "metadata": {
        "id": "eqPl4fJljV1Q",
        "colab_type": "code",
        "colab": {}
      },
      "cell_type": "code",
      "source": [
        "prod_freq.index.name\n",
        "prod_freq.index.name='prod_ID'"
      ],
      "execution_count": 0,
      "outputs": []
    },
    {
      "metadata": {
        "id": "Fp_EdKLPk6kx",
        "colab_type": "code",
        "colab": {}
      },
      "cell_type": "code",
      "source": [
        ""
      ],
      "execution_count": 0,
      "outputs": []
    },
    {
      "metadata": {
        "id": "A6quTJs2jV4P",
        "colab_type": "code",
        "colab": {}
      },
      "cell_type": "code",
      "source": [
        "def product_frequency(prod_ID):\n",
        "    if prod_ID not in prod_freq.index:\n",
        "        print('Product not found.')\n",
        "        return prod_ID\n",
        "    return prod_freq.loc[prod_ID]"
      ],
      "execution_count": 0,
      "outputs": []
    },
    {
      "metadata": {
        "id": "n5NWiwdJjV-Z",
        "colab_type": "code",
        "colab": {
          "base_uri": "https://localhost:8080/",
          "height": 34
        },
        "outputId": "4561ccef-fa85-4a71-de9d-9b07f7ecd9cb"
      },
      "cell_type": "code",
      "source": [
        "prod_ID=int(input(\"enter a product ID to find frequency: \"))"
      ],
      "execution_count": 25,
      "outputs": [
        {
          "output_type": "stream",
          "text": [
            "enter a product ID to find frequency: 248\n"
          ],
          "name": "stdout"
        }
      ]
    },
    {
      "metadata": {
        "id": "GA6FtqBjjWBW",
        "colab_type": "code",
        "colab": {
          "base_uri": "https://localhost:8080/",
          "height": 34
        },
        "outputId": "d11cd5fe-1ca6-44c9-a4fb-b47aee3287fc"
      },
      "cell_type": "code",
      "source": [
        "print(product_frequency(prod_ID))"
      ],
      "execution_count": 26,
      "outputs": [
        {
          "output_type": "stream",
          "text": [
            "127\n"
          ],
          "name": "stdout"
        }
      ]
    },
    {
      "metadata": {
        "id": "mebDi3UPjW7S",
        "colab_type": "text"
      },
      "cell_type": "markdown",
      "source": [
        "**This product frequency is not how each customer has purchased it. To add to our basic problem, we need to see how often a product has been purchased accross users. For this reason, I didn't end my assignment here.**"
      ]
    },
    {
      "metadata": {
        "id": "MbBQ-KRxo_rQ",
        "colab_type": "text"
      },
      "cell_type": "markdown",
      "source": [
        "### 5-b)-Normalize item\n",
        "\n",
        "we normalize purchase frequency of each item across users by first creating a user-item matrix "
      ]
    },
    {
      "metadata": {
        "id": "e_rsFroyrTXV",
        "colab_type": "code",
        "colab": {}
      },
      "cell_type": "code",
      "source": [
        "df_matrix = pd.pivot_table(data, values='purchase_count', index='id', columns='productId')"
      ],
      "execution_count": 0,
      "outputs": []
    },
    {
      "metadata": {
        "id": "Fba9TbRorjoE",
        "colab_type": "code",
        "outputId": "0b00f7df-c0cc-405d-df08-09ec272579f8",
        "colab": {
          "base_uri": "https://localhost:8080/",
          "height": 254
        }
      },
      "cell_type": "code",
      "source": [
        "df_matrix.head()"
      ],
      "execution_count": 28,
      "outputs": [
        {
          "output_type": "execute_result",
          "data": {
            "text/html": [
              "<div>\n",
              "<style scoped>\n",
              "    .dataframe tbody tr th:only-of-type {\n",
              "        vertical-align: middle;\n",
              "    }\n",
              "\n",
              "    .dataframe tbody tr th {\n",
              "        vertical-align: top;\n",
              "    }\n",
              "\n",
              "    .dataframe thead th {\n",
              "        text-align: right;\n",
              "    }\n",
              "</style>\n",
              "<table border=\"1\" class=\"dataframe\">\n",
              "  <thead>\n",
              "    <tr style=\"text-align: right;\">\n",
              "      <th>productId</th>\n",
              "      <th>1</th>\n",
              "      <th>2</th>\n",
              "      <th>3</th>\n",
              "      <th>4</th>\n",
              "      <th>5</th>\n",
              "      <th>6</th>\n",
              "      <th>7</th>\n",
              "      <th>8</th>\n",
              "      <th>9</th>\n",
              "      <th>10</th>\n",
              "      <th>...</th>\n",
              "      <th>241</th>\n",
              "      <th>242</th>\n",
              "      <th>243</th>\n",
              "      <th>244</th>\n",
              "      <th>245</th>\n",
              "      <th>246</th>\n",
              "      <th>247</th>\n",
              "      <th>248</th>\n",
              "      <th>249</th>\n",
              "      <th>250</th>\n",
              "    </tr>\n",
              "    <tr>\n",
              "      <th>id</th>\n",
              "      <th></th>\n",
              "      <th></th>\n",
              "      <th></th>\n",
              "      <th></th>\n",
              "      <th></th>\n",
              "      <th></th>\n",
              "      <th></th>\n",
              "      <th></th>\n",
              "      <th></th>\n",
              "      <th></th>\n",
              "      <th></th>\n",
              "      <th></th>\n",
              "      <th></th>\n",
              "      <th></th>\n",
              "      <th></th>\n",
              "      <th></th>\n",
              "      <th></th>\n",
              "      <th></th>\n",
              "      <th></th>\n",
              "      <th></th>\n",
              "      <th></th>\n",
              "    </tr>\n",
              "  </thead>\n",
              "  <tbody>\n",
              "    <tr>\n",
              "      <th>0</th>\n",
              "      <td>NaN</td>\n",
              "      <td>NaN</td>\n",
              "      <td>NaN</td>\n",
              "      <td>NaN</td>\n",
              "      <td>NaN</td>\n",
              "      <td>NaN</td>\n",
              "      <td>NaN</td>\n",
              "      <td>1.0</td>\n",
              "      <td>1.0</td>\n",
              "      <td>NaN</td>\n",
              "      <td>...</td>\n",
              "      <td>NaN</td>\n",
              "      <td>NaN</td>\n",
              "      <td>NaN</td>\n",
              "      <td>NaN</td>\n",
              "      <td>NaN</td>\n",
              "      <td>NaN</td>\n",
              "      <td>NaN</td>\n",
              "      <td>NaN</td>\n",
              "      <td>NaN</td>\n",
              "      <td>NaN</td>\n",
              "    </tr>\n",
              "    <tr>\n",
              "      <th>1</th>\n",
              "      <td>NaN</td>\n",
              "      <td>NaN</td>\n",
              "      <td>NaN</td>\n",
              "      <td>NaN</td>\n",
              "      <td>NaN</td>\n",
              "      <td>NaN</td>\n",
              "      <td>1.0</td>\n",
              "      <td>NaN</td>\n",
              "      <td>NaN</td>\n",
              "      <td>NaN</td>\n",
              "      <td>...</td>\n",
              "      <td>NaN</td>\n",
              "      <td>NaN</td>\n",
              "      <td>NaN</td>\n",
              "      <td>NaN</td>\n",
              "      <td>NaN</td>\n",
              "      <td>NaN</td>\n",
              "      <td>NaN</td>\n",
              "      <td>NaN</td>\n",
              "      <td>NaN</td>\n",
              "      <td>NaN</td>\n",
              "    </tr>\n",
              "    <tr>\n",
              "      <th>2</th>\n",
              "      <td>NaN</td>\n",
              "      <td>NaN</td>\n",
              "      <td>NaN</td>\n",
              "      <td>NaN</td>\n",
              "      <td>NaN</td>\n",
              "      <td>NaN</td>\n",
              "      <td>NaN</td>\n",
              "      <td>NaN</td>\n",
              "      <td>NaN</td>\n",
              "      <td>NaN</td>\n",
              "      <td>...</td>\n",
              "      <td>NaN</td>\n",
              "      <td>NaN</td>\n",
              "      <td>NaN</td>\n",
              "      <td>NaN</td>\n",
              "      <td>NaN</td>\n",
              "      <td>NaN</td>\n",
              "      <td>NaN</td>\n",
              "      <td>NaN</td>\n",
              "      <td>NaN</td>\n",
              "      <td>NaN</td>\n",
              "    </tr>\n",
              "    <tr>\n",
              "      <th>3</th>\n",
              "      <td>NaN</td>\n",
              "      <td>NaN</td>\n",
              "      <td>NaN</td>\n",
              "      <td>1.0</td>\n",
              "      <td>NaN</td>\n",
              "      <td>NaN</td>\n",
              "      <td>NaN</td>\n",
              "      <td>NaN</td>\n",
              "      <td>NaN</td>\n",
              "      <td>NaN</td>\n",
              "      <td>...</td>\n",
              "      <td>NaN</td>\n",
              "      <td>NaN</td>\n",
              "      <td>NaN</td>\n",
              "      <td>NaN</td>\n",
              "      <td>NaN</td>\n",
              "      <td>NaN</td>\n",
              "      <td>NaN</td>\n",
              "      <td>NaN</td>\n",
              "      <td>NaN</td>\n",
              "      <td>NaN</td>\n",
              "    </tr>\n",
              "    <tr>\n",
              "      <th>4</th>\n",
              "      <td>NaN</td>\n",
              "      <td>NaN</td>\n",
              "      <td>NaN</td>\n",
              "      <td>NaN</td>\n",
              "      <td>NaN</td>\n",
              "      <td>NaN</td>\n",
              "      <td>NaN</td>\n",
              "      <td>NaN</td>\n",
              "      <td>NaN</td>\n",
              "      <td>NaN</td>\n",
              "      <td>...</td>\n",
              "      <td>NaN</td>\n",
              "      <td>NaN</td>\n",
              "      <td>NaN</td>\n",
              "      <td>NaN</td>\n",
              "      <td>NaN</td>\n",
              "      <td>NaN</td>\n",
              "      <td>NaN</td>\n",
              "      <td>NaN</td>\n",
              "      <td>NaN</td>\n",
              "      <td>NaN</td>\n",
              "    </tr>\n",
              "  </tbody>\n",
              "</table>\n",
              "<p>5 rows × 250 columns</p>\n",
              "</div>"
            ],
            "text/plain": [
              "productId  1    2    3    4    5    6    7    8    9    10  ...   241  242  \\\n",
              "id                                                          ...              \n",
              "0          NaN  NaN  NaN  NaN  NaN  NaN  NaN  1.0  1.0  NaN ...   NaN  NaN   \n",
              "1          NaN  NaN  NaN  NaN  NaN  NaN  1.0  NaN  NaN  NaN ...   NaN  NaN   \n",
              "2          NaN  NaN  NaN  NaN  NaN  NaN  NaN  NaN  NaN  NaN ...   NaN  NaN   \n",
              "3          NaN  NaN  NaN  1.0  NaN  NaN  NaN  NaN  NaN  NaN ...   NaN  NaN   \n",
              "4          NaN  NaN  NaN  NaN  NaN  NaN  NaN  NaN  NaN  NaN ...   NaN  NaN   \n",
              "\n",
              "productId  243  244  245  246  247  248  249  250  \n",
              "id                                                 \n",
              "0          NaN  NaN  NaN  NaN  NaN  NaN  NaN  NaN  \n",
              "1          NaN  NaN  NaN  NaN  NaN  NaN  NaN  NaN  \n",
              "2          NaN  NaN  NaN  NaN  NaN  NaN  NaN  NaN  \n",
              "3          NaN  NaN  NaN  NaN  NaN  NaN  NaN  NaN  \n",
              "4          NaN  NaN  NaN  NaN  NaN  NaN  NaN  NaN  \n",
              "\n",
              "[5 rows x 250 columns]"
            ]
          },
          "metadata": {
            "tags": []
          },
          "execution_count": 28
        }
      ]
    },
    {
      "metadata": {
        "id": "IdwXTDfYmJ2O",
        "colab_type": "text"
      },
      "cell_type": "markdown",
      "source": [
        "The NaN tells us that the item represented by the column was not purchased in that specific transaction."
      ]
    },
    {
      "metadata": {
        "id": "GmABscQbrpHq",
        "colab_type": "code",
        "outputId": "de93c7d4-c06f-4595-ee58-e9d24d923719",
        "colab": {
          "base_uri": "https://localhost:8080/",
          "height": 34
        }
      },
      "cell_type": "code",
      "source": [
        "df_matrix.shape"
      ],
      "execution_count": 29,
      "outputs": [
        {
          "output_type": "execute_result",
          "data": {
            "text/plain": [
              "(2378, 250)"
            ]
          },
          "metadata": {
            "tags": []
          },
          "execution_count": 29
        }
      ]
    },
    {
      "metadata": {
        "id": "PfyHzkE3rs2X",
        "colab_type": "code",
        "outputId": "7fd19a9b-457c-4d5b-d080-590222faf20b",
        "colab": {
          "base_uri": "https://localhost:8080/",
          "height": 254
        }
      },
      "cell_type": "code",
      "source": [
        "df_matrix_norm = (df_matrix-df_matrix.min())/(df_matrix.max()-df_matrix.min())\n",
        "\n",
        "df_matrix_norm.head()"
      ],
      "execution_count": 30,
      "outputs": [
        {
          "output_type": "execute_result",
          "data": {
            "text/html": [
              "<div>\n",
              "<style scoped>\n",
              "    .dataframe tbody tr th:only-of-type {\n",
              "        vertical-align: middle;\n",
              "    }\n",
              "\n",
              "    .dataframe tbody tr th {\n",
              "        vertical-align: top;\n",
              "    }\n",
              "\n",
              "    .dataframe thead th {\n",
              "        text-align: right;\n",
              "    }\n",
              "</style>\n",
              "<table border=\"1\" class=\"dataframe\">\n",
              "  <thead>\n",
              "    <tr style=\"text-align: right;\">\n",
              "      <th>productId</th>\n",
              "      <th>1</th>\n",
              "      <th>2</th>\n",
              "      <th>3</th>\n",
              "      <th>4</th>\n",
              "      <th>5</th>\n",
              "      <th>6</th>\n",
              "      <th>7</th>\n",
              "      <th>8</th>\n",
              "      <th>9</th>\n",
              "      <th>10</th>\n",
              "      <th>...</th>\n",
              "      <th>241</th>\n",
              "      <th>242</th>\n",
              "      <th>243</th>\n",
              "      <th>244</th>\n",
              "      <th>245</th>\n",
              "      <th>246</th>\n",
              "      <th>247</th>\n",
              "      <th>248</th>\n",
              "      <th>249</th>\n",
              "      <th>250</th>\n",
              "    </tr>\n",
              "    <tr>\n",
              "      <th>id</th>\n",
              "      <th></th>\n",
              "      <th></th>\n",
              "      <th></th>\n",
              "      <th></th>\n",
              "      <th></th>\n",
              "      <th></th>\n",
              "      <th></th>\n",
              "      <th></th>\n",
              "      <th></th>\n",
              "      <th></th>\n",
              "      <th></th>\n",
              "      <th></th>\n",
              "      <th></th>\n",
              "      <th></th>\n",
              "      <th></th>\n",
              "      <th></th>\n",
              "      <th></th>\n",
              "      <th></th>\n",
              "      <th></th>\n",
              "      <th></th>\n",
              "      <th></th>\n",
              "    </tr>\n",
              "  </thead>\n",
              "  <tbody>\n",
              "    <tr>\n",
              "      <th>0</th>\n",
              "      <td>NaN</td>\n",
              "      <td>NaN</td>\n",
              "      <td>NaN</td>\n",
              "      <td>NaN</td>\n",
              "      <td>NaN</td>\n",
              "      <td>NaN</td>\n",
              "      <td>NaN</td>\n",
              "      <td>0.0</td>\n",
              "      <td>0.0</td>\n",
              "      <td>NaN</td>\n",
              "      <td>...</td>\n",
              "      <td>NaN</td>\n",
              "      <td>NaN</td>\n",
              "      <td>NaN</td>\n",
              "      <td>NaN</td>\n",
              "      <td>NaN</td>\n",
              "      <td>NaN</td>\n",
              "      <td>NaN</td>\n",
              "      <td>NaN</td>\n",
              "      <td>NaN</td>\n",
              "      <td>NaN</td>\n",
              "    </tr>\n",
              "    <tr>\n",
              "      <th>1</th>\n",
              "      <td>NaN</td>\n",
              "      <td>NaN</td>\n",
              "      <td>NaN</td>\n",
              "      <td>NaN</td>\n",
              "      <td>NaN</td>\n",
              "      <td>NaN</td>\n",
              "      <td>0.0</td>\n",
              "      <td>NaN</td>\n",
              "      <td>NaN</td>\n",
              "      <td>NaN</td>\n",
              "      <td>...</td>\n",
              "      <td>NaN</td>\n",
              "      <td>NaN</td>\n",
              "      <td>NaN</td>\n",
              "      <td>NaN</td>\n",
              "      <td>NaN</td>\n",
              "      <td>NaN</td>\n",
              "      <td>NaN</td>\n",
              "      <td>NaN</td>\n",
              "      <td>NaN</td>\n",
              "      <td>NaN</td>\n",
              "    </tr>\n",
              "    <tr>\n",
              "      <th>2</th>\n",
              "      <td>NaN</td>\n",
              "      <td>NaN</td>\n",
              "      <td>NaN</td>\n",
              "      <td>NaN</td>\n",
              "      <td>NaN</td>\n",
              "      <td>NaN</td>\n",
              "      <td>NaN</td>\n",
              "      <td>NaN</td>\n",
              "      <td>NaN</td>\n",
              "      <td>NaN</td>\n",
              "      <td>...</td>\n",
              "      <td>NaN</td>\n",
              "      <td>NaN</td>\n",
              "      <td>NaN</td>\n",
              "      <td>NaN</td>\n",
              "      <td>NaN</td>\n",
              "      <td>NaN</td>\n",
              "      <td>NaN</td>\n",
              "      <td>NaN</td>\n",
              "      <td>NaN</td>\n",
              "      <td>NaN</td>\n",
              "    </tr>\n",
              "    <tr>\n",
              "      <th>3</th>\n",
              "      <td>NaN</td>\n",
              "      <td>NaN</td>\n",
              "      <td>NaN</td>\n",
              "      <td>0.0</td>\n",
              "      <td>NaN</td>\n",
              "      <td>NaN</td>\n",
              "      <td>NaN</td>\n",
              "      <td>NaN</td>\n",
              "      <td>NaN</td>\n",
              "      <td>NaN</td>\n",
              "      <td>...</td>\n",
              "      <td>NaN</td>\n",
              "      <td>NaN</td>\n",
              "      <td>NaN</td>\n",
              "      <td>NaN</td>\n",
              "      <td>NaN</td>\n",
              "      <td>NaN</td>\n",
              "      <td>NaN</td>\n",
              "      <td>NaN</td>\n",
              "      <td>NaN</td>\n",
              "      <td>NaN</td>\n",
              "    </tr>\n",
              "    <tr>\n",
              "      <th>4</th>\n",
              "      <td>NaN</td>\n",
              "      <td>NaN</td>\n",
              "      <td>NaN</td>\n",
              "      <td>NaN</td>\n",
              "      <td>NaN</td>\n",
              "      <td>NaN</td>\n",
              "      <td>NaN</td>\n",
              "      <td>NaN</td>\n",
              "      <td>NaN</td>\n",
              "      <td>NaN</td>\n",
              "      <td>...</td>\n",
              "      <td>NaN</td>\n",
              "      <td>NaN</td>\n",
              "      <td>NaN</td>\n",
              "      <td>NaN</td>\n",
              "      <td>NaN</td>\n",
              "      <td>NaN</td>\n",
              "      <td>NaN</td>\n",
              "      <td>NaN</td>\n",
              "      <td>NaN</td>\n",
              "      <td>NaN</td>\n",
              "    </tr>\n",
              "  </tbody>\n",
              "</table>\n",
              "<p>5 rows × 250 columns</p>\n",
              "</div>"
            ],
            "text/plain": [
              "productId  1    2    3    4    5    6    7    8    9    10  ...   241  242  \\\n",
              "id                                                          ...              \n",
              "0          NaN  NaN  NaN  NaN  NaN  NaN  NaN  0.0  0.0  NaN ...   NaN  NaN   \n",
              "1          NaN  NaN  NaN  NaN  NaN  NaN  0.0  NaN  NaN  NaN ...   NaN  NaN   \n",
              "2          NaN  NaN  NaN  NaN  NaN  NaN  NaN  NaN  NaN  NaN ...   NaN  NaN   \n",
              "3          NaN  NaN  NaN  0.0  NaN  NaN  NaN  NaN  NaN  NaN ...   NaN  NaN   \n",
              "4          NaN  NaN  NaN  NaN  NaN  NaN  NaN  NaN  NaN  NaN ...   NaN  NaN   \n",
              "\n",
              "productId  243  244  245  246  247  248  249  250  \n",
              "id                                                 \n",
              "0          NaN  NaN  NaN  NaN  NaN  NaN  NaN  NaN  \n",
              "1          NaN  NaN  NaN  NaN  NaN  NaN  NaN  NaN  \n",
              "2          NaN  NaN  NaN  NaN  NaN  NaN  NaN  NaN  \n",
              "3          NaN  NaN  NaN  NaN  NaN  NaN  NaN  NaN  \n",
              "4          NaN  NaN  NaN  NaN  NaN  NaN  NaN  NaN  \n",
              "\n",
              "[5 rows x 250 columns]"
            ]
          },
          "metadata": {
            "tags": []
          },
          "execution_count": 30
        }
      ]
    },
    {
      "metadata": {
        "id": "0b58yH_xryRu",
        "colab_type": "code",
        "outputId": "54348a77-5c68-4f0e-8909-f5398ea1583f",
        "colab": {
          "base_uri": "https://localhost:8080/",
          "height": 34
        }
      },
      "cell_type": "code",
      "source": [
        "print(df_matrix_norm.shape)"
      ],
      "execution_count": 31,
      "outputs": [
        {
          "output_type": "stream",
          "text": [
            "(2378, 250)\n"
          ],
          "name": "stdout"
        }
      ]
    },
    {
      "metadata": {
        "id": "zf2sea5rp_Uh",
        "colab_type": "text"
      },
      "cell_type": "markdown",
      "source": [
        "### 5-c)- create a table for input to the modeling"
      ]
    },
    {
      "metadata": {
        "id": "Z7S6mGvyr1Bd",
        "colab_type": "code",
        "colab": {}
      },
      "cell_type": "code",
      "source": [
        "d = df_matrix_norm.reset_index()\n",
        "d.index.names = ['scaled_purchase_freq']\n",
        "data_norm = pd.melt(d, id_vars=['id'], value_name='scaled_purchase_freq').dropna()"
      ],
      "execution_count": 0,
      "outputs": []
    },
    {
      "metadata": {
        "id": "NCG8znk2r7Wn",
        "colab_type": "code",
        "outputId": "5067d6b3-9e23-4967-fdae-c4accf8b44d5",
        "colab": {
          "base_uri": "https://localhost:8080/",
          "height": 195
        }
      },
      "cell_type": "code",
      "source": [
        "data_norm.head()"
      ],
      "execution_count": 33,
      "outputs": [
        {
          "output_type": "execute_result",
          "data": {
            "text/html": [
              "<div>\n",
              "<style scoped>\n",
              "    .dataframe tbody tr th:only-of-type {\n",
              "        vertical-align: middle;\n",
              "    }\n",
              "\n",
              "    .dataframe tbody tr th {\n",
              "        vertical-align: top;\n",
              "    }\n",
              "\n",
              "    .dataframe thead th {\n",
              "        text-align: right;\n",
              "    }\n",
              "</style>\n",
              "<table border=\"1\" class=\"dataframe\">\n",
              "  <thead>\n",
              "    <tr style=\"text-align: right;\">\n",
              "      <th></th>\n",
              "      <th>id</th>\n",
              "      <th>productId</th>\n",
              "      <th>scaled_purchase_freq</th>\n",
              "    </tr>\n",
              "  </thead>\n",
              "  <tbody>\n",
              "    <tr>\n",
              "      <th>32</th>\n",
              "      <td>33</td>\n",
              "      <td>1</td>\n",
              "      <td>0.0</td>\n",
              "    </tr>\n",
              "    <tr>\n",
              "      <th>75</th>\n",
              "      <td>78</td>\n",
              "      <td>1</td>\n",
              "      <td>0.0</td>\n",
              "    </tr>\n",
              "    <tr>\n",
              "      <th>83</th>\n",
              "      <td>86</td>\n",
              "      <td>1</td>\n",
              "      <td>0.0</td>\n",
              "    </tr>\n",
              "    <tr>\n",
              "      <th>87</th>\n",
              "      <td>90</td>\n",
              "      <td>1</td>\n",
              "      <td>0.0</td>\n",
              "    </tr>\n",
              "    <tr>\n",
              "      <th>93</th>\n",
              "      <td>96</td>\n",
              "      <td>1</td>\n",
              "      <td>0.0</td>\n",
              "    </tr>\n",
              "  </tbody>\n",
              "</table>\n",
              "</div>"
            ],
            "text/plain": [
              "    id productId  scaled_purchase_freq\n",
              "32  33         1                   0.0\n",
              "75  78         1                   0.0\n",
              "83  86         1                   0.0\n",
              "87  90         1                   0.0\n",
              "93  96         1                   0.0"
            ]
          },
          "metadata": {
            "tags": []
          },
          "execution_count": 33
        }
      ]
    },
    {
      "metadata": {
        "id": "x13h0mgDsAgu",
        "colab_type": "code",
        "outputId": "114aaf21-5128-4689-cac8-935b54857890",
        "colab": {
          "base_uri": "https://localhost:8080/",
          "height": 34
        }
      },
      "cell_type": "code",
      "source": [
        "data_norm.shape"
      ],
      "execution_count": 34,
      "outputs": [
        {
          "output_type": "execute_result",
          "data": {
            "text/plain": [
              "(22530, 3)"
            ]
          },
          "metadata": {
            "tags": []
          },
          "execution_count": 34
        }
      ]
    },
    {
      "metadata": {
        "id": "oQQjGS-lqK7z",
        "colab_type": "text"
      },
      "cell_type": "markdown",
      "source": [
        "### 5-d) a function for normalizing data"
      ]
    },
    {
      "metadata": {
        "id": "yzHVuK6qsCyG",
        "colab_type": "code",
        "colab": {}
      },
      "cell_type": "code",
      "source": [
        "def normalize_data(data):\n",
        "    df_matrix = pd.pivot_table(data, values='purchase_count', index='id', columns='productId')\n",
        "    df_matrix_norm = (df_matrix-df_matrix.min())/(df_matrix.max()-df_matrix.min())\n",
        "    d = df_matrix_norm.reset_index()\n",
        "    d.index.names = ['scaled_purchase_freq']\n",
        "    return pd.melt(d, id_vars=['id'], value_name='scaled_purchase_freq').dropna()"
      ],
      "execution_count": 0,
      "outputs": []
    },
    {
      "metadata": {
        "id": "XHT0WP8ql88j",
        "colab_type": "text"
      },
      "cell_type": "markdown",
      "source": [
        "\n",
        "we have normalized the items accoreding to their purchase history, from 0–1 (with 1 being the most number of purchase for an item and 0 being 0 purchase count for that item."
      ]
    },
    {
      "metadata": {
        "id": "C3fDTjVoqVCv",
        "colab_type": "text"
      },
      "cell_type": "markdown",
      "source": [
        "# 6)-Split train and test set\n",
        "\n",
        "we have three dataframes with purchase counts(data), purchase dummy(data_dummy), and scaled purchase counts(data_norm)."
      ]
    },
    {
      "metadata": {
        "id": "nHwctOiDsngJ",
        "colab_type": "code",
        "outputId": "56b201a1-a072-45ea-982c-49cda0a7a39d",
        "colab": {
          "base_uri": "https://localhost:8080/",
          "height": 34
        }
      },
      "cell_type": "code",
      "source": [
        "train, test = train_test_split(data, test_size = .2)\n",
        "print(train.shape, test.shape)"
      ],
      "execution_count": 36,
      "outputs": [
        {
          "output_type": "stream",
          "text": [
            "(19848, 3) (4963, 3)\n"
          ],
          "name": "stdout"
        }
      ]
    },
    {
      "metadata": {
        "id": "wASbW7iIsni6",
        "colab_type": "code",
        "colab": {}
      },
      "cell_type": "code",
      "source": [
        "#convert dataframe to SFrame\n",
        "train_data = tc.SFrame(train)\n",
        "test_data = tc.SFrame(test)"
      ],
      "execution_count": 0,
      "outputs": []
    },
    {
      "metadata": {
        "id": "sbcR3OUbltVE",
        "colab_type": "text"
      },
      "cell_type": "markdown",
      "source": [
        "A tabular, column-mutable dataframe object that can scale to big data <br>\n",
        "https://turi.com/products/create/docs/generated/graphlab.SFrame.html"
      ]
    },
    {
      "metadata": {
        "id": "mQaoby4qsnlw",
        "colab_type": "code",
        "outputId": "b173025d-6446-4c68-e06d-487476657707",
        "colab": {
          "base_uri": "https://localhost:8080/",
          "height": 271
        }
      },
      "cell_type": "code",
      "source": [
        "train_data"
      ],
      "execution_count": 38,
      "outputs": [
        {
          "output_type": "execute_result",
          "data": {
            "text/html": [
              "<div style=\"max-height:1000px;max-width:1500px;overflow:auto;\"><table frame=\"box\" rules=\"cols\">\n",
              "    <tr>\n",
              "        <th style=\"padding-left: 1em; padding-right: 1em; text-align: center\">id</th>\n",
              "        <th style=\"padding-left: 1em; padding-right: 1em; text-align: center\">productId</th>\n",
              "        <th style=\"padding-left: 1em; padding-right: 1em; text-align: center\">purchase_count</th>\n",
              "    </tr>\n",
              "    <tr>\n",
              "        <td style=\"padding-left: 1em; padding-right: 1em; text-align: center; vertical-align: top\">2301</td>\n",
              "        <td style=\"padding-left: 1em; padding-right: 1em; text-align: center; vertical-align: top\">207</td>\n",
              "        <td style=\"padding-left: 1em; padding-right: 1em; text-align: center; vertical-align: top\">1</td>\n",
              "    </tr>\n",
              "    <tr>\n",
              "        <td style=\"padding-left: 1em; padding-right: 1em; text-align: center; vertical-align: top\">632</td>\n",
              "        <td style=\"padding-left: 1em; padding-right: 1em; text-align: center; vertical-align: top\">38</td>\n",
              "        <td style=\"padding-left: 1em; padding-right: 1em; text-align: center; vertical-align: top\">1</td>\n",
              "    </tr>\n",
              "    <tr>\n",
              "        <td style=\"padding-left: 1em; padding-right: 1em; text-align: center; vertical-align: top\">1066</td>\n",
              "        <td style=\"padding-left: 1em; padding-right: 1em; text-align: center; vertical-align: top\">203</td>\n",
              "        <td style=\"padding-left: 1em; padding-right: 1em; text-align: center; vertical-align: top\">1</td>\n",
              "    </tr>\n",
              "    <tr>\n",
              "        <td style=\"padding-left: 1em; padding-right: 1em; text-align: center; vertical-align: top\">643</td>\n",
              "        <td style=\"padding-left: 1em; padding-right: 1em; text-align: center; vertical-align: top\">136</td>\n",
              "        <td style=\"padding-left: 1em; padding-right: 1em; text-align: center; vertical-align: top\">1</td>\n",
              "    </tr>\n",
              "    <tr>\n",
              "        <td style=\"padding-left: 1em; padding-right: 1em; text-align: center; vertical-align: top\">389</td>\n",
              "        <td style=\"padding-left: 1em; padding-right: 1em; text-align: center; vertical-align: top\">156</td>\n",
              "        <td style=\"padding-left: 1em; padding-right: 1em; text-align: center; vertical-align: top\">1</td>\n",
              "    </tr>\n",
              "    <tr>\n",
              "        <td style=\"padding-left: 1em; padding-right: 1em; text-align: center; vertical-align: top\">2309</td>\n",
              "        <td style=\"padding-left: 1em; padding-right: 1em; text-align: center; vertical-align: top\">183</td>\n",
              "        <td style=\"padding-left: 1em; padding-right: 1em; text-align: center; vertical-align: top\">1</td>\n",
              "    </tr>\n",
              "    <tr>\n",
              "        <td style=\"padding-left: 1em; padding-right: 1em; text-align: center; vertical-align: top\">1535</td>\n",
              "        <td style=\"padding-left: 1em; padding-right: 1em; text-align: center; vertical-align: top\">27</td>\n",
              "        <td style=\"padding-left: 1em; padding-right: 1em; text-align: center; vertical-align: top\">1</td>\n",
              "    </tr>\n",
              "    <tr>\n",
              "        <td style=\"padding-left: 1em; padding-right: 1em; text-align: center; vertical-align: top\">1328</td>\n",
              "        <td style=\"padding-left: 1em; padding-right: 1em; text-align: center; vertical-align: top\">218</td>\n",
              "        <td style=\"padding-left: 1em; padding-right: 1em; text-align: center; vertical-align: top\">1</td>\n",
              "    </tr>\n",
              "    <tr>\n",
              "        <td style=\"padding-left: 1em; padding-right: 1em; text-align: center; vertical-align: top\">790</td>\n",
              "        <td style=\"padding-left: 1em; padding-right: 1em; text-align: center; vertical-align: top\">74</td>\n",
              "        <td style=\"padding-left: 1em; padding-right: 1em; text-align: center; vertical-align: top\">1</td>\n",
              "    </tr>\n",
              "    <tr>\n",
              "        <td style=\"padding-left: 1em; padding-right: 1em; text-align: center; vertical-align: top\">1985</td>\n",
              "        <td style=\"padding-left: 1em; padding-right: 1em; text-align: center; vertical-align: top\">223</td>\n",
              "        <td style=\"padding-left: 1em; padding-right: 1em; text-align: center; vertical-align: top\">1</td>\n",
              "    </tr>\n",
              "</table>\n",
              "[19848 rows x 3 columns]<br/>Note: Only the head of the SFrame is printed.<br/>You can use print_rows(num_rows=m, num_columns=n) to print more rows and columns.\n",
              "</div>"
            ],
            "text/plain": [
              "Columns:\n",
              "\tid\tint\n",
              "\tproductId\tint\n",
              "\tpurchase_count\tint\n",
              "\n",
              "Rows: 19848\n",
              "\n",
              "Data:\n",
              "+------+-----------+----------------+\n",
              "|  id  | productId | purchase_count |\n",
              "+------+-----------+----------------+\n",
              "| 2301 |    207    |       1        |\n",
              "| 632  |     38    |       1        |\n",
              "| 1066 |    203    |       1        |\n",
              "| 643  |    136    |       1        |\n",
              "| 389  |    156    |       1        |\n",
              "| 2309 |    183    |       1        |\n",
              "| 1535 |     27    |       1        |\n",
              "| 1328 |    218    |       1        |\n",
              "| 790  |     74    |       1        |\n",
              "| 1985 |    223    |       1        |\n",
              "+------+-----------+----------------+\n",
              "[19848 rows x 3 columns]\n",
              "Note: Only the head of the SFrame is printed.\n",
              "You can use print_rows(num_rows=m, num_columns=n) to print more rows and columns."
            ]
          },
          "metadata": {
            "tags": []
          },
          "execution_count": 38
        }
      ]
    },
    {
      "metadata": {
        "id": "-DfWqtgAsnoZ",
        "colab_type": "code",
        "outputId": "d39999b8-4388-4237-9fcb-96e85030925b",
        "colab": {
          "base_uri": "https://localhost:8080/",
          "height": 271
        }
      },
      "cell_type": "code",
      "source": [
        "test_data"
      ],
      "execution_count": 39,
      "outputs": [
        {
          "output_type": "execute_result",
          "data": {
            "text/html": [
              "<div style=\"max-height:1000px;max-width:1500px;overflow:auto;\"><table frame=\"box\" rules=\"cols\">\n",
              "    <tr>\n",
              "        <th style=\"padding-left: 1em; padding-right: 1em; text-align: center\">id</th>\n",
              "        <th style=\"padding-left: 1em; padding-right: 1em; text-align: center\">productId</th>\n",
              "        <th style=\"padding-left: 1em; padding-right: 1em; text-align: center\">purchase_count</th>\n",
              "    </tr>\n",
              "    <tr>\n",
              "        <td style=\"padding-left: 1em; padding-right: 1em; text-align: center; vertical-align: top\">2265</td>\n",
              "        <td style=\"padding-left: 1em; padding-right: 1em; text-align: center; vertical-align: top\">15</td>\n",
              "        <td style=\"padding-left: 1em; padding-right: 1em; text-align: center; vertical-align: top\">1</td>\n",
              "    </tr>\n",
              "    <tr>\n",
              "        <td style=\"padding-left: 1em; padding-right: 1em; text-align: center; vertical-align: top\">709</td>\n",
              "        <td style=\"padding-left: 1em; padding-right: 1em; text-align: center; vertical-align: top\">133</td>\n",
              "        <td style=\"padding-left: 1em; padding-right: 1em; text-align: center; vertical-align: top\">1</td>\n",
              "    </tr>\n",
              "    <tr>\n",
              "        <td style=\"padding-left: 1em; padding-right: 1em; text-align: center; vertical-align: top\">1936</td>\n",
              "        <td style=\"padding-left: 1em; padding-right: 1em; text-align: center; vertical-align: top\">246</td>\n",
              "        <td style=\"padding-left: 1em; padding-right: 1em; text-align: center; vertical-align: top\">1</td>\n",
              "    </tr>\n",
              "    <tr>\n",
              "        <td style=\"padding-left: 1em; padding-right: 1em; text-align: center; vertical-align: top\">409</td>\n",
              "        <td style=\"padding-left: 1em; padding-right: 1em; text-align: center; vertical-align: top\">107</td>\n",
              "        <td style=\"padding-left: 1em; padding-right: 1em; text-align: center; vertical-align: top\">1</td>\n",
              "    </tr>\n",
              "    <tr>\n",
              "        <td style=\"padding-left: 1em; padding-right: 1em; text-align: center; vertical-align: top\">2167</td>\n",
              "        <td style=\"padding-left: 1em; padding-right: 1em; text-align: center; vertical-align: top\">132</td>\n",
              "        <td style=\"padding-left: 1em; padding-right: 1em; text-align: center; vertical-align: top\">1</td>\n",
              "    </tr>\n",
              "    <tr>\n",
              "        <td style=\"padding-left: 1em; padding-right: 1em; text-align: center; vertical-align: top\">1579</td>\n",
              "        <td style=\"padding-left: 1em; padding-right: 1em; text-align: center; vertical-align: top\">194</td>\n",
              "        <td style=\"padding-left: 1em; padding-right: 1em; text-align: center; vertical-align: top\">1</td>\n",
              "    </tr>\n",
              "    <tr>\n",
              "        <td style=\"padding-left: 1em; padding-right: 1em; text-align: center; vertical-align: top\">250</td>\n",
              "        <td style=\"padding-left: 1em; padding-right: 1em; text-align: center; vertical-align: top\">165</td>\n",
              "        <td style=\"padding-left: 1em; padding-right: 1em; text-align: center; vertical-align: top\">1</td>\n",
              "    </tr>\n",
              "    <tr>\n",
              "        <td style=\"padding-left: 1em; padding-right: 1em; text-align: center; vertical-align: top\">2030</td>\n",
              "        <td style=\"padding-left: 1em; padding-right: 1em; text-align: center; vertical-align: top\">245</td>\n",
              "        <td style=\"padding-left: 1em; padding-right: 1em; text-align: center; vertical-align: top\">1</td>\n",
              "    </tr>\n",
              "    <tr>\n",
              "        <td style=\"padding-left: 1em; padding-right: 1em; text-align: center; vertical-align: top\">327</td>\n",
              "        <td style=\"padding-left: 1em; padding-right: 1em; text-align: center; vertical-align: top\">79</td>\n",
              "        <td style=\"padding-left: 1em; padding-right: 1em; text-align: center; vertical-align: top\">2</td>\n",
              "    </tr>\n",
              "    <tr>\n",
              "        <td style=\"padding-left: 1em; padding-right: 1em; text-align: center; vertical-align: top\">319</td>\n",
              "        <td style=\"padding-left: 1em; padding-right: 1em; text-align: center; vertical-align: top\">197</td>\n",
              "        <td style=\"padding-left: 1em; padding-right: 1em; text-align: center; vertical-align: top\">1</td>\n",
              "    </tr>\n",
              "</table>\n",
              "[4963 rows x 3 columns]<br/>Note: Only the head of the SFrame is printed.<br/>You can use print_rows(num_rows=m, num_columns=n) to print more rows and columns.\n",
              "</div>"
            ],
            "text/plain": [
              "Columns:\n",
              "\tid\tint\n",
              "\tproductId\tint\n",
              "\tpurchase_count\tint\n",
              "\n",
              "Rows: 4963\n",
              "\n",
              "Data:\n",
              "+------+-----------+----------------+\n",
              "|  id  | productId | purchase_count |\n",
              "+------+-----------+----------------+\n",
              "| 2265 |     15    |       1        |\n",
              "| 709  |    133    |       1        |\n",
              "| 1936 |    246    |       1        |\n",
              "| 409  |    107    |       1        |\n",
              "| 2167 |    132    |       1        |\n",
              "| 1579 |    194    |       1        |\n",
              "| 250  |    165    |       1        |\n",
              "| 2030 |    245    |       1        |\n",
              "| 327  |     79    |       2        |\n",
              "| 319  |    197    |       1        |\n",
              "+------+-----------+----------------+\n",
              "[4963 rows x 3 columns]\n",
              "Note: Only the head of the SFrame is printed.\n",
              "You can use print_rows(num_rows=m, num_columns=n) to print more rows and columns."
            ]
          },
          "metadata": {
            "tags": []
          },
          "execution_count": 39
        }
      ]
    },
    {
      "metadata": {
        "id": "oZTqpBwRq8ql",
        "colab_type": "text"
      },
      "cell_type": "markdown",
      "source": [
        "### 6.2)- Define a split_data function "
      ]
    },
    {
      "metadata": {
        "id": "RUiWbUERsnrB",
        "colab_type": "code",
        "colab": {}
      },
      "cell_type": "code",
      "source": [
        "def split_data(data):\n",
        "\n",
        "    train, test = train_test_split(data, test_size = .2)\n",
        "    train_data = tc.SFrame(train)\n",
        "    test_data = tc.SFrame(test)\n",
        "    return train_data, test_data"
      ],
      "execution_count": 0,
      "outputs": []
    },
    {
      "metadata": {
        "id": "akLuwqygrIP_",
        "colab_type": "text"
      },
      "cell_type": "markdown",
      "source": [
        "### 6.3)-Apply for scaled/normalized purchase table"
      ]
    },
    {
      "metadata": {
        "id": "_9R19PGitW1i",
        "colab_type": "code",
        "colab": {}
      },
      "cell_type": "code",
      "source": [
        "train_data_norm, test_data_norm = split_data(data_norm)"
      ],
      "execution_count": 0,
      "outputs": []
    },
    {
      "metadata": {
        "id": "_j_sF8PvrMwG",
        "colab_type": "text"
      },
      "cell_type": "markdown",
      "source": [
        "# 7)-Building Model"
      ]
    },
    {
      "metadata": {
        "id": "SZ2YaljtrVkW",
        "colab_type": "text"
      },
      "cell_type": "markdown",
      "source": [
        "### 7.1)- Parameters to define field names for purchase count as target feature"
      ]
    },
    {
      "metadata": {
        "id": "KpJQezACt29U",
        "colab_type": "code",
        "colab": {}
      },
      "cell_type": "code",
      "source": [
        "user_id = 'id'\n",
        "item_id = 'productId'\n",
        "users_to_recommend=list(cust_2_rec)\n",
        "target = 'purchase_count'\n",
        "n_rec = 10 # number of items to recommend\n",
        "n_display = 30 # 1st 30 rows to display"
      ],
      "execution_count": 0,
      "outputs": []
    },
    {
      "metadata": {
        "id": "6l311XlBt3AY",
        "colab_type": "code",
        "outputId": "8ccaadcc-bc19-4e9b-946f-c1e47ab46adc",
        "colab": {
          "base_uri": "https://localhost:8080/",
          "height": 84
        }
      },
      "cell_type": "code",
      "source": [
        "popularity_model = tc.popularity_recommender.create(train_data, \n",
        "                                                    user_id=user_id, \n",
        "                                                    item_id=item_id, \n",
        "                                                    target=target)"
      ],
      "execution_count": 43,
      "outputs": [
        {
          "output_type": "display_data",
          "data": {
            "text/html": [
              "<pre>Preparing data set.</pre>"
            ],
            "text/plain": [
              "Preparing data set."
            ]
          },
          "metadata": {
            "tags": []
          }
        },
        {
          "output_type": "display_data",
          "data": {
            "text/html": [
              "<pre>    Data has 19848 observations with 2351 users and 250 items.</pre>"
            ],
            "text/plain": [
              "    Data has 19848 observations with 2351 users and 250 items."
            ]
          },
          "metadata": {
            "tags": []
          }
        },
        {
          "output_type": "display_data",
          "data": {
            "text/html": [
              "<pre>    Data prepared in: 0.051259s</pre>"
            ],
            "text/plain": [
              "    Data prepared in: 0.051259s"
            ]
          },
          "metadata": {
            "tags": []
          }
        },
        {
          "output_type": "display_data",
          "data": {
            "text/html": [
              "<pre>19848 observations to process; with 250 unique items.</pre>"
            ],
            "text/plain": [
              "19848 observations to process; with 250 unique items."
            ]
          },
          "metadata": {
            "tags": []
          }
        }
      ]
    },
    {
      "metadata": {
        "id": "ebqixrJ4t3GC",
        "colab_type": "code",
        "outputId": "a3c56918-5d0f-4ea1-868c-8cf21b57e77e",
        "colab": {
          "base_uri": "https://localhost:8080/",
          "height": 638
        }
      },
      "cell_type": "code",
      "source": [
        "popularity_recomm = popularity_model.recommend(users=users_to_recommend, k=n_rec)\n",
        "popularity_recomm.print_rows(n_display)"
      ],
      "execution_count": 44,
      "outputs": [
        {
          "output_type": "display_data",
          "data": {
            "text/html": [
              "<pre>recommendations finished on 1000/1000 queries. users per second: 85601.8</pre>"
            ],
            "text/plain": [
              "recommendations finished on 1000/1000 queries. users per second: 85601.8"
            ]
          },
          "metadata": {
            "tags": []
          }
        },
        {
          "output_type": "stream",
          "text": [
            "+------+-----------+--------------------+------+\n",
            "|  id  | productId |       score        | rank |\n",
            "+------+-----------+--------------------+------+\n",
            "| 1448 |    207    | 1.0952380952380953 |  1   |\n",
            "| 1448 |     96    | 1.0845070422535212 |  2   |\n",
            "| 1448 |    153    |        1.08        |  3   |\n",
            "| 1448 |    201    | 1.0769230769230769 |  4   |\n",
            "| 1448 |     44    | 1.0740740740740742 |  5   |\n",
            "| 1448 |    112    | 1.0689655172413792 |  6   |\n",
            "| 1448 |    150    | 1.0666666666666667 |  7   |\n",
            "| 1448 |    152    | 1.0638297872340425 |  8   |\n",
            "| 1448 |     85    | 1.0618556701030928 |  9   |\n",
            "| 1448 |    138    | 1.0609756097560976 |  10  |\n",
            "| 1010 |    207    | 1.0952380952380953 |  1   |\n",
            "| 1010 |     96    | 1.0845070422535212 |  2   |\n",
            "| 1010 |    153    |        1.08        |  3   |\n",
            "| 1010 |    201    | 1.0769230769230769 |  4   |\n",
            "| 1010 |     44    | 1.0740740740740742 |  5   |\n",
            "| 1010 |    112    | 1.0689655172413792 |  6   |\n",
            "| 1010 |    150    | 1.0666666666666667 |  7   |\n",
            "| 1010 |    152    | 1.0638297872340425 |  8   |\n",
            "| 1010 |     85    | 1.0618556701030928 |  9   |\n",
            "| 1010 |    125    | 1.0617283950617284 |  10  |\n",
            "| 1102 |    207    | 1.0952380952380953 |  1   |\n",
            "| 1102 |     96    | 1.0845070422535212 |  2   |\n",
            "| 1102 |    153    |        1.08        |  3   |\n",
            "| 1102 |    201    | 1.0769230769230769 |  4   |\n",
            "| 1102 |     44    | 1.0740740740740742 |  5   |\n",
            "| 1102 |    112    | 1.0689655172413792 |  6   |\n",
            "| 1102 |    150    | 1.0666666666666667 |  7   |\n",
            "| 1102 |    152    | 1.0638297872340425 |  8   |\n",
            "| 1102 |     85    | 1.0618556701030928 |  9   |\n",
            "| 1102 |    125    | 1.0617283950617284 |  10  |\n",
            "+------+-----------+--------------------+------+\n",
            "[10000 rows x 4 columns]\n",
            "\n"
          ],
          "name": "stdout"
        }
      ]
    },
    {
      "metadata": {
        "id": "bnsWzgM6rcNA",
        "colab_type": "text"
      },
      "cell_type": "markdown",
      "source": [
        "### Note \n",
        "\n",
        "Through this model, we predicted the recommendation items using scores by popularity. As you can tell for each model results above, the rows show the first 30 records from 1000 users with 10 recommendations.<br> These 30 records include 3 users and their recommended items, along with score and descending ranks."
      ]
    },
    {
      "metadata": {
        "id": "QZzjVn7brzhy",
        "colab_type": "text"
      },
      "cell_type": "markdown",
      "source": [
        "## Checking most frequent items(as per assignment) "
      ]
    },
    {
      "metadata": {
        "id": "rFGBiP1P1Olk",
        "colab_type": "code",
        "outputId": "3305ea12-8445-42ff-acab-7654ffc5f88a",
        "colab": {
          "base_uri": "https://localhost:8080/",
          "height": 386
        }
      },
      "cell_type": "code",
      "source": [
        " train.groupby(by=item_id)['purchase_count'].mean().sort_values(ascending=False).head(20)"
      ],
      "execution_count": 45,
      "outputs": [
        {
          "output_type": "execute_result",
          "data": {
            "text/plain": [
              "productId\n",
              "207    1.095238\n",
              "96     1.084507\n",
              "153    1.080000\n",
              "201    1.076923\n",
              "44     1.074074\n",
              "112    1.068966\n",
              "150    1.066667\n",
              "152    1.063830\n",
              "85     1.061856\n",
              "125    1.061728\n",
              "138    1.060976\n",
              "131    1.058824\n",
              "26     1.058824\n",
              "117    1.058824\n",
              "63     1.056818\n",
              "7      1.056180\n",
              "247    1.055556\n",
              "88     1.054795\n",
              "181    1.054795\n",
              "186    1.053333\n",
              "Name: purchase_count, dtype: float64"
            ]
          },
          "metadata": {
            "tags": []
          },
          "execution_count": 45
        }
      ]
    },
    {
      "metadata": {
        "id": "yY84Zfinso_z",
        "colab_type": "text"
      },
      "cell_type": "markdown",
      "source": [
        "**products 201,207,125,112,96 and 153 are the most popular (best-selling) across customers.**"
      ]
    },
    {
      "metadata": {
        "id": "ZpMadbaGtU9o",
        "colab_type": "text"
      },
      "cell_type": "markdown",
      "source": [
        "### 7.2)- Applying 'scaled_purchase_freq' as target feature on model"
      ]
    },
    {
      "metadata": {
        "id": "yGz6sNqswPIY",
        "colab_type": "code",
        "colab": {}
      },
      "cell_type": "code",
      "source": [
        "user_id = 'id'\n",
        "item_id = 'productId'\n",
        "users_to_recommend=list(cust_2_rec)\n",
        "target = 'scaled_purchase_freq'\n",
        "n_rec = 10 # number of items to recommend\n",
        "n_display = 30 # 1st 30 rows to display"
      ],
      "execution_count": 0,
      "outputs": []
    },
    {
      "metadata": {
        "id": "ibt4XP2UzK6Y",
        "colab_type": "code",
        "outputId": "36dfddb8-667d-4f3b-c533-8e96a24989ea",
        "colab": {
          "base_uri": "https://localhost:8080/",
          "height": 84
        }
      },
      "cell_type": "code",
      "source": [
        "popularity_model_scaled = tc.popularity_recommender.create(train_data_norm, \n",
        "                                                    user_id=user_id, \n",
        "                                                    item_id=item_id, \n",
        "                                                    target=target)"
      ],
      "execution_count": 47,
      "outputs": [
        {
          "output_type": "display_data",
          "data": {
            "text/html": [
              "<pre>Preparing data set.</pre>"
            ],
            "text/plain": [
              "Preparing data set."
            ]
          },
          "metadata": {
            "tags": []
          }
        },
        {
          "output_type": "display_data",
          "data": {
            "text/html": [
              "<pre>    Data has 18024 observations with 2338 users and 227 items.</pre>"
            ],
            "text/plain": [
              "    Data has 18024 observations with 2338 users and 227 items."
            ]
          },
          "metadata": {
            "tags": []
          }
        },
        {
          "output_type": "display_data",
          "data": {
            "text/html": [
              "<pre>    Data prepared in: 0.041173s</pre>"
            ],
            "text/plain": [
              "    Data prepared in: 0.041173s"
            ]
          },
          "metadata": {
            "tags": []
          }
        },
        {
          "output_type": "display_data",
          "data": {
            "text/html": [
              "<pre>18024 observations to process; with 227 unique items.</pre>"
            ],
            "text/plain": [
              "18024 observations to process; with 227 unique items."
            ]
          },
          "metadata": {
            "tags": []
          }
        }
      ]
    },
    {
      "metadata": {
        "id": "mvsMhunTzLCd",
        "colab_type": "code",
        "outputId": "14431e5d-48e6-4fe2-8bf5-47af4e9508c8",
        "colab": {
          "base_uri": "https://localhost:8080/",
          "height": 638
        }
      },
      "cell_type": "code",
      "source": [
        "popularity_recomm_4_scaled = popularity_model_scaled.recommend(users=users_to_recommend, k=n_rec)\n",
        "popularity_recomm_4_scaled.print_rows(n_display)"
      ],
      "execution_count": 48,
      "outputs": [
        {
          "output_type": "display_data",
          "data": {
            "text/html": [
              "<pre>recommendations finished on 1000/1000 queries. users per second: 53625.1</pre>"
            ],
            "text/plain": [
              "recommendations finished on 1000/1000 queries. users per second: 53625.1"
            ]
          },
          "metadata": {
            "tags": []
          }
        },
        {
          "output_type": "stream",
          "text": [
            "+------+-----------+---------------------+------+\n",
            "|  id  | productId |        score        | rank |\n",
            "+------+-----------+---------------------+------+\n",
            "| 1448 |    201    | 0.09090909090909091 |  1   |\n",
            "| 1448 |     26    |         0.08        |  2   |\n",
            "| 1448 |    153    | 0.07894736842105263 |  3   |\n",
            "| 1448 |     96    | 0.07792207792207792 |  4   |\n",
            "| 1448 |    129    | 0.07575757575757576 |  5   |\n",
            "| 1448 |    207    | 0.07058823529411765 |  6   |\n",
            "| 1448 |     35    | 0.06756756756756757 |  7   |\n",
            "| 1448 |    117    | 0.06578947368421052 |  8   |\n",
            "| 1448 |    152    | 0.06521739130434782 |  9   |\n",
            "| 1448 |    120    |  0.0641025641025641 |  10  |\n",
            "| 1010 |    201    | 0.09090909090909091 |  1   |\n",
            "| 1010 |     26    |         0.08        |  2   |\n",
            "| 1010 |    153    | 0.07894736842105263 |  3   |\n",
            "| 1010 |     96    | 0.07792207792207792 |  4   |\n",
            "| 1010 |    129    | 0.07575757575757576 |  5   |\n",
            "| 1010 |    207    | 0.07058823529411765 |  6   |\n",
            "| 1010 |     35    | 0.06756756756756757 |  7   |\n",
            "| 1010 |    117    | 0.06578947368421052 |  8   |\n",
            "| 1010 |    152    | 0.06521739130434782 |  9   |\n",
            "| 1010 |    120    |  0.0641025641025641 |  10  |\n",
            "| 1102 |    201    | 0.09090909090909091 |  1   |\n",
            "| 1102 |     26    |         0.08        |  2   |\n",
            "| 1102 |    153    | 0.07894736842105263 |  3   |\n",
            "| 1102 |     96    | 0.07792207792207792 |  4   |\n",
            "| 1102 |    129    | 0.07575757575757576 |  5   |\n",
            "| 1102 |    207    | 0.07058823529411765 |  6   |\n",
            "| 1102 |     35    | 0.06756756756756757 |  7   |\n",
            "| 1102 |    117    | 0.06578947368421052 |  8   |\n",
            "| 1102 |    152    | 0.06521739130434782 |  9   |\n",
            "| 1102 |    120    |  0.0641025641025641 |  10  |\n",
            "+------+-----------+---------------------+------+\n",
            "[10000 rows x 4 columns]\n",
            "\n"
          ],
          "name": "stdout"
        }
      ]
    },
    {
      "metadata": {
        "id": "ruBS4wFntdXW",
        "colab_type": "text"
      },
      "cell_type": "markdown",
      "source": [
        "Great!.... We have all three models worked out. We have purchase frequency of each item customer-vice. <br>\n",
        "Which one to trust and which one to discard? "
      ]
    },
    {
      "metadata": {
        "id": "NuKGkdc4tzGH",
        "colab_type": "text"
      },
      "cell_type": "markdown",
      "source": [
        "# 8)- Evaluate models"
      ]
    },
    {
      "metadata": {
        "id": "-TC6D4egt3PT",
        "colab_type": "text"
      },
      "cell_type": "markdown",
      "source": [
        "### 8.1)- Validation for Popularity Model on Purchase Counts"
      ]
    },
    {
      "metadata": {
        "id": "cIW_BH3Z5s5P",
        "colab_type": "code",
        "colab": {}
      },
      "cell_type": "code",
      "source": [
        "models_counts = [popularity_model]"
      ],
      "execution_count": 0,
      "outputs": []
    },
    {
      "metadata": {
        "id": "pmX0_gFqzLNi",
        "colab_type": "code",
        "colab": {}
      },
      "cell_type": "code",
      "source": [
        "model_names=['Popularity Model on Purchase Counts']"
      ],
      "execution_count": 0,
      "outputs": []
    },
    {
      "metadata": {
        "id": "LXiQqoO9zLH2",
        "colab_type": "code",
        "outputId": "49bcf04e-3dc9-44af-c128-d1b90e91e707",
        "colab": {
          "base_uri": "https://localhost:8080/",
          "height": 991
        }
      },
      "cell_type": "code",
      "source": [
        "eval_counts = tc.recommender.util.compare_models(test_data, models_counts, model_names)"
      ],
      "execution_count": 51,
      "outputs": [
        {
          "output_type": "stream",
          "text": [
            "PROGRESS: Evaluate model Popularity Model on Purchase Counts\n"
          ],
          "name": "stdout"
        },
        {
          "output_type": "display_data",
          "data": {
            "text/html": [
              "<pre>recommendations finished on 1000/1923 queries. users per second: 46908.7</pre>"
            ],
            "text/plain": [
              "recommendations finished on 1000/1923 queries. users per second: 46908.7"
            ]
          },
          "metadata": {
            "tags": []
          }
        },
        {
          "output_type": "stream",
          "text": [
            "\n",
            "Precision and recall summary statistics by cutoff\n",
            "+--------+----------------------+-----------------------+\n",
            "| cutoff |    mean_precision    |      mean_recall      |\n",
            "+--------+----------------------+-----------------------+\n",
            "|   1    | 0.010400416016640688 | 0.0052839891373432715 |\n",
            "|   2    | 0.01248049921996878  |  0.011018662968740966 |\n",
            "|   3    | 0.012480499219968778 |  0.016337320159472996 |\n",
            "|   4    | 0.01235049401976078  |  0.01967989830704342  |\n",
            "|   5    | 0.013104524180967265 |  0.02660112753716492  |\n",
            "|   6    | 0.012567169353440814 |  0.030775532608605938 |\n",
            "|   7    | 0.012554787905801971 |  0.03651309544445272  |\n",
            "|   8    | 0.012675507020280816 |  0.042276659320341026 |\n",
            "|   9    | 0.012653839486912793 |  0.04711285276807897  |\n",
            "|   10   | 0.012532501300051988 |  0.05238673038985049  |\n",
            "+--------+----------------------+-----------------------+\n",
            "[10 rows x 3 columns]\n",
            "\n",
            "\n",
            "Overall RMSE: 0.1430332375828223\n",
            "\n",
            "Per User RMSE (best)\n",
            "+------+------+-------+\n",
            "|  id  | rmse | count |\n",
            "+------+------+-------+\n",
            "| 2269 | 0.0  |   1   |\n",
            "+------+------+-------+\n",
            "[1 rows x 3 columns]\n",
            "\n",
            "\n",
            "Per User RMSE (worst)\n",
            "+-----+--------------------+-------+\n",
            "|  id |        rmse        | count |\n",
            "+-----+--------------------+-------+\n",
            "| 808 | 0.9934642480255583 |   4   |\n",
            "+-----+--------------------+-------+\n",
            "[1 rows x 3 columns]\n",
            "\n",
            "\n",
            "Per Item RMSE (best)\n",
            "+-----------+------+-------+\n",
            "| productId | rmse | count |\n",
            "+-----------+------+-------+\n",
            "|    215    | 0.0  |   21  |\n",
            "+-----------+------+-------+\n",
            "[1 rows x 3 columns]\n",
            "\n",
            "\n",
            "Per Item RMSE (worst)\n",
            "+-----------+--------------------+-------+\n",
            "| productId |        rmse        | count |\n",
            "+-----------+--------------------+-------+\n",
            "|    185    | 0.4559573182035702 |   19  |\n",
            "+-----------+--------------------+-------+\n",
            "[1 rows x 3 columns]\n",
            "\n"
          ],
          "name": "stdout"
        }
      ]
    },
    {
      "metadata": {
        "id": "37umEySEuSln",
        "colab_type": "text"
      },
      "cell_type": "markdown",
      "source": [
        "### 8.2)- Validation for Popularity Model on Scaled Purchase Counts"
      ]
    },
    {
      "metadata": {
        "id": "Ft_1Z5Z0zK_m",
        "colab_type": "code",
        "outputId": "b591bfae-2a92-4c3b-e5b3-1a1612527900",
        "colab": {
          "base_uri": "https://localhost:8080/",
          "height": 991
        }
      },
      "cell_type": "code",
      "source": [
        "models_counts = [popularity_model_scaled]\n",
        "model_names=['Popularity Model on Scaled Purchase Counts']\n",
        "eval_counts_dummy = tc.recommender.util.compare_models(test_data_norm, models_counts, model_names)"
      ],
      "execution_count": 52,
      "outputs": [
        {
          "output_type": "stream",
          "text": [
            "PROGRESS: Evaluate model Popularity Model on Scaled Purchase Counts\n"
          ],
          "name": "stdout"
        },
        {
          "output_type": "display_data",
          "data": {
            "text/html": [
              "<pre>recommendations finished on 1000/1863 queries. users per second: 46801.1</pre>"
            ],
            "text/plain": [
              "recommendations finished on 1000/1863 queries. users per second: 46801.1"
            ]
          },
          "metadata": {
            "tags": []
          }
        },
        {
          "output_type": "stream",
          "text": [
            "\n",
            "Precision and recall summary statistics by cutoff\n",
            "+--------+----------------------+----------------------+\n",
            "| cutoff |    mean_precision    |     mean_recall      |\n",
            "+--------+----------------------+----------------------+\n",
            "|   1    | 0.010735373054213643 | 0.003973366050660732 |\n",
            "|   2    | 0.011003757380568984 | 0.009091838560437581 |\n",
            "|   3    | 0.011451064591161209 | 0.014267821997290597 |\n",
            "|   4    | 0.011808910359634993 | 0.020445773585870176 |\n",
            "|   5    | 0.012238325281803557 | 0.025384045190808495 |\n",
            "|   6    | 0.012077294685990341 | 0.030264805868670613 |\n",
            "|   7    | 0.011962272831838063 | 0.035968611814022534 |\n",
            "|   8    | 0.01167471819645731  | 0.03922628632773558  |\n",
            "|   9    | 0.011749269398222724 | 0.04426296551900406  |\n",
            "|   10   | 0.01159420289855072  | 0.04762671574265782  |\n",
            "+--------+----------------------+----------------------+\n",
            "[10 rows x 3 columns]\n",
            "\n",
            "\n",
            "Overall RMSE: 0.15603104680197963\n",
            "\n",
            "Per User RMSE (best)\n",
            "+-----+------+-------+\n",
            "|  id | rmse | count |\n",
            "+-----+------+-------+\n",
            "| 371 | 0.0  |   1   |\n",
            "+-----+------+-------+\n",
            "[1 rows x 3 columns]\n",
            "\n",
            "\n",
            "Per User RMSE (worst)\n",
            "+------+------+-------+\n",
            "|  id  | rmse | count |\n",
            "+------+------+-------+\n",
            "| 1892 | 1.0  |   1   |\n",
            "+------+------+-------+\n",
            "[1 rows x 3 columns]\n",
            "\n",
            "\n",
            "Per Item RMSE (best)\n",
            "+-----------+------+-------+\n",
            "| productId | rmse | count |\n",
            "+-----------+------+-------+\n",
            "|    240    | 0.01 |   13  |\n",
            "+-----------+------+-------+\n",
            "[1 rows x 3 columns]\n",
            "\n",
            "\n",
            "Per Item RMSE (worst)\n",
            "+-----------+--------------------+-------+\n",
            "| productId |        rmse        | count |\n",
            "+-----------+--------------------+-------+\n",
            "|     85    | 0.4634400493643391 |   13  |\n",
            "+-----------+--------------------+-------+\n",
            "[1 rows x 3 columns]\n",
            "\n"
          ],
          "name": "stdout"
        }
      ]
    },
    {
      "metadata": {
        "id": "RI1WEAm6u5C8",
        "colab_type": "text"
      },
      "cell_type": "markdown",
      "source": [
        " We tend to keep lowest rmse and it signifies least error in prediction. \n",
        "\n",
        "\n",
        "\n",
        "**So we will choose that as best model with rmse 0.147 i.e (in 8.1) for our final step.**"
      ]
    },
    {
      "metadata": {
        "id": "TX0x_7VAu09D",
        "colab_type": "text"
      },
      "cell_type": "markdown",
      "source": [
        "# 9) Submission"
      ]
    },
    {
      "metadata": {
        "id": "e9-7haUjwPLh",
        "colab_type": "code",
        "outputId": "16bada55-b72a-4d2e-9783-04832bb891da",
        "colab": {
          "base_uri": "https://localhost:8080/",
          "height": 386
        }
      },
      "cell_type": "code",
      "source": [
        "users_to_recommend = list(cust_2_rec)\n",
        "\n",
        "final_model = tc.item_similarity_recommender.create(tc.SFrame(data), \n",
        "                                            user_id=user_id, \n",
        "                                            item_id=item_id, \n",
        "                                            target='purchase_count')"
      ],
      "execution_count": 53,
      "outputs": [
        {
          "output_type": "display_data",
          "data": {
            "text/html": [
              "<pre>Preparing data set.</pre>"
            ],
            "text/plain": [
              "Preparing data set."
            ]
          },
          "metadata": {
            "tags": []
          }
        },
        {
          "output_type": "display_data",
          "data": {
            "text/html": [
              "<pre>    Data has 24811 observations with 2378 users and 250 items.</pre>"
            ],
            "text/plain": [
              "    Data has 24811 observations with 2378 users and 250 items."
            ]
          },
          "metadata": {
            "tags": []
          }
        },
        {
          "output_type": "display_data",
          "data": {
            "text/html": [
              "<pre>    Data prepared in: 0.034392s</pre>"
            ],
            "text/plain": [
              "    Data prepared in: 0.034392s"
            ]
          },
          "metadata": {
            "tags": []
          }
        },
        {
          "output_type": "display_data",
          "data": {
            "text/html": [
              "<pre>Training model from provided data.</pre>"
            ],
            "text/plain": [
              "Training model from provided data."
            ]
          },
          "metadata": {
            "tags": []
          }
        },
        {
          "output_type": "display_data",
          "data": {
            "text/html": [
              "<pre>Gathering per-item and per-user statistics.</pre>"
            ],
            "text/plain": [
              "Gathering per-item and per-user statistics."
            ]
          },
          "metadata": {
            "tags": []
          }
        },
        {
          "output_type": "display_data",
          "data": {
            "text/html": [
              "<pre>+--------------------------------+------------+</pre>"
            ],
            "text/plain": [
              "+--------------------------------+------------+"
            ]
          },
          "metadata": {
            "tags": []
          }
        },
        {
          "output_type": "display_data",
          "data": {
            "text/html": [
              "<pre>| Elapsed Time (Item Statistics) | % Complete |</pre>"
            ],
            "text/plain": [
              "| Elapsed Time (Item Statistics) | % Complete |"
            ]
          },
          "metadata": {
            "tags": []
          }
        },
        {
          "output_type": "display_data",
          "data": {
            "text/html": [
              "<pre>+--------------------------------+------------+</pre>"
            ],
            "text/plain": [
              "+--------------------------------+------------+"
            ]
          },
          "metadata": {
            "tags": []
          }
        },
        {
          "output_type": "display_data",
          "data": {
            "text/html": [
              "<pre>| 1.357ms                        | 42         |</pre>"
            ],
            "text/plain": [
              "| 1.357ms                        | 42         |"
            ]
          },
          "metadata": {
            "tags": []
          }
        },
        {
          "output_type": "display_data",
          "data": {
            "text/html": [
              "<pre>| 2.558ms                        | 100        |</pre>"
            ],
            "text/plain": [
              "| 2.558ms                        | 100        |"
            ]
          },
          "metadata": {
            "tags": []
          }
        },
        {
          "output_type": "display_data",
          "data": {
            "text/html": [
              "<pre>+--------------------------------+------------+</pre>"
            ],
            "text/plain": [
              "+--------------------------------+------------+"
            ]
          },
          "metadata": {
            "tags": []
          }
        },
        {
          "output_type": "display_data",
          "data": {
            "text/html": [
              "<pre>Setting up lookup tables.</pre>"
            ],
            "text/plain": [
              "Setting up lookup tables."
            ]
          },
          "metadata": {
            "tags": []
          }
        },
        {
          "output_type": "display_data",
          "data": {
            "text/html": [
              "<pre>Processing data in one pass using dense lookup tables.</pre>"
            ],
            "text/plain": [
              "Processing data in one pass using dense lookup tables."
            ]
          },
          "metadata": {
            "tags": []
          }
        },
        {
          "output_type": "display_data",
          "data": {
            "text/html": [
              "<pre>+-------------------------------------+------------------+-----------------+</pre>"
            ],
            "text/plain": [
              "+-------------------------------------+------------------+-----------------+"
            ]
          },
          "metadata": {
            "tags": []
          }
        },
        {
          "output_type": "display_data",
          "data": {
            "text/html": [
              "<pre>| Elapsed Time (Constructing Lookups) | Total % Complete | Items Processed |</pre>"
            ],
            "text/plain": [
              "| Elapsed Time (Constructing Lookups) | Total % Complete | Items Processed |"
            ]
          },
          "metadata": {
            "tags": []
          }
        },
        {
          "output_type": "display_data",
          "data": {
            "text/html": [
              "<pre>+-------------------------------------+------------------+-----------------+</pre>"
            ],
            "text/plain": [
              "+-------------------------------------+------------------+-----------------+"
            ]
          },
          "metadata": {
            "tags": []
          }
        },
        {
          "output_type": "display_data",
          "data": {
            "text/html": [
              "<pre>| 3.281ms                             | 0                | 0               |</pre>"
            ],
            "text/plain": [
              "| 3.281ms                             | 0                | 0               |"
            ]
          },
          "metadata": {
            "tags": []
          }
        },
        {
          "output_type": "display_data",
          "data": {
            "text/html": [
              "<pre>| 24.039ms                            | 100              | 250             |</pre>"
            ],
            "text/plain": [
              "| 24.039ms                            | 100              | 250             |"
            ]
          },
          "metadata": {
            "tags": []
          }
        },
        {
          "output_type": "display_data",
          "data": {
            "text/html": [
              "<pre>+-------------------------------------+------------------+-----------------+</pre>"
            ],
            "text/plain": [
              "+-------------------------------------+------------------+-----------------+"
            ]
          },
          "metadata": {
            "tags": []
          }
        },
        {
          "output_type": "display_data",
          "data": {
            "text/html": [
              "<pre>Finalizing lookup tables.</pre>"
            ],
            "text/plain": [
              "Finalizing lookup tables."
            ]
          },
          "metadata": {
            "tags": []
          }
        },
        {
          "output_type": "display_data",
          "data": {
            "text/html": [
              "<pre>Generating candidate set for working with new users.</pre>"
            ],
            "text/plain": [
              "Generating candidate set for working with new users."
            ]
          },
          "metadata": {
            "tags": []
          }
        },
        {
          "output_type": "display_data",
          "data": {
            "text/html": [
              "<pre>Finished training in 1.03233s</pre>"
            ],
            "text/plain": [
              "Finished training in 1.03233s"
            ]
          },
          "metadata": {
            "tags": []
          }
        }
      ]
    },
    {
      "metadata": {
        "id": "w0TC2imZt3VA",
        "colab_type": "code",
        "outputId": "3a967255-5509-4894-e55c-0013c7758841",
        "colab": {
          "base_uri": "https://localhost:8080/",
          "height": 638
        }
      },
      "cell_type": "code",
      "source": [
        "recom = final_model.recommend(users=users_to_recommend, k=n_rec)\n",
        "recom.print_rows(n_display)"
      ],
      "execution_count": 54,
      "outputs": [
        {
          "output_type": "display_data",
          "data": {
            "text/html": [
              "<pre>recommendations finished on 1000/1000 queries. users per second: 51132.6</pre>"
            ],
            "text/plain": [
              "recommendations finished on 1000/1000 queries. users per second: 51132.6"
            ]
          },
          "metadata": {
            "tags": []
          }
        },
        {
          "output_type": "stream",
          "text": [
            "+------+-----------+----------------------+------+\n",
            "|  id  | productId |        score         | rank |\n",
            "+------+-----------+----------------------+------+\n",
            "| 1448 |    248    | 0.027617092927296957 |  1   |\n",
            "| 1448 |    168    | 0.025631868839263917 |  2   |\n",
            "| 1448 |     23    | 0.024235220750172932 |  3   |\n",
            "| 1448 |    214    | 0.023167447249094645 |  4   |\n",
            "| 1448 |     32    | 0.02150735855102539  |  5   |\n",
            "| 1448 |     61    | 0.02031291723251343  |  6   |\n",
            "| 1448 |    243    | 0.020260564486185708 |  7   |\n",
            "| 1448 |    126    | 0.02020918925603231  |  8   |\n",
            "| 1448 |     63    | 0.020147351423899333 |  9   |\n",
            "| 1448 |     74    | 0.01874724229176839  |  10  |\n",
            "| 1010 |     23    | 0.027408692571851943 |  1   |\n",
            "| 1010 |    214    | 0.025738835334777832 |  2   |\n",
            "| 1010 |     80    | 0.02526219023598565  |  3   |\n",
            "| 1010 |    112    | 0.025098118517133925 |  4   |\n",
            "| 1010 |     2     | 0.02443495061662462  |  5   |\n",
            "| 1010 |     40    | 0.024198671181996662 |  6   |\n",
            "| 1010 |     17    | 0.023633764849768743 |  7   |\n",
            "| 1010 |    177    | 0.02356364991929796  |  8   |\n",
            "| 1010 |    122    | 0.02353888087802463  |  9   |\n",
            "| 1010 |    150    | 0.022505886024898954 |  10  |\n",
            "| 1102 |     19    | 0.042675092816352844 |  1   |\n",
            "| 1102 |     36    | 0.042177557945251465 |  2   |\n",
            "| 1102 |    119    | 0.03865352272987366  |  3   |\n",
            "| 1102 |     11    | 0.038590192794799805 |  4   |\n",
            "| 1102 |    236    | 0.03665468096733093  |  5   |\n",
            "| 1102 |     55    |  0.0363050252199173  |  6   |\n",
            "| 1102 |    250    | 0.03284776210784912  |  7   |\n",
            "| 1102 |    174    | 0.03185035288333893  |  8   |\n",
            "| 1102 |    167    |  0.0310695618391037  |  9   |\n",
            "| 1102 |    249    | 0.029738306999206543 |  10  |\n",
            "+------+-----------+----------------------+------+\n",
            "[10000 rows x 4 columns]\n",
            "\n"
          ],
          "name": "stdout"
        }
      ]
    },
    {
      "metadata": {
        "id": "0pHCm8vNvddC",
        "colab_type": "text"
      },
      "cell_type": "markdown",
      "source": [
        "### 9.2)- Checking most frequent items in final model"
      ]
    },
    {
      "metadata": {
        "id": "BP5jXHS6t3bC",
        "colab_type": "code",
        "outputId": "d181c9e7-7505-4e70-96c4-e21e29ac2b61",
        "colab": {
          "base_uri": "https://localhost:8080/",
          "height": 386
        }
      },
      "cell_type": "code",
      "source": [
        "data.groupby(by=item_id)['purchase_count'].mean().sort_values(ascending=False).head(20)"
      ],
      "execution_count": 55,
      "outputs": [
        {
          "output_type": "execute_result",
          "data": {
            "text/plain": [
              "productId\n",
              "96     1.080808\n",
              "207    1.076923\n",
              "153    1.071429\n",
              "201    1.069767\n",
              "26     1.063158\n",
              "152    1.060345\n",
              "125    1.058824\n",
              "112    1.058824\n",
              "85     1.058824\n",
              "131    1.057143\n",
              "35     1.056180\n",
              "63     1.054545\n",
              "44     1.054545\n",
              "129    1.053763\n",
              "101    1.053763\n",
              "117    1.052632\n",
              "150    1.051724\n",
              "122    1.051724\n",
              "156    1.051546\n",
              "120    1.050000\n",
              "Name: purchase_count, dtype: float64"
            ]
          },
          "metadata": {
            "tags": []
          },
          "execution_count": 55
        }
      ]
    },
    {
      "metadata": {
        "id": "2FKTeShmvKEs",
        "colab_type": "text"
      },
      "cell_type": "markdown",
      "source": [
        "**RESULT: <BR>\n",
        "products 96,207 , 153,201 and 26(and so on) are the most frequent selling items across customers.**"
      ]
    },
    {
      "metadata": {
        "id": "ktEkWTRYviDC",
        "colab_type": "text"
      },
      "cell_type": "markdown",
      "source": [
        "# 10)- Bonus Part- Recommending products to customers"
      ]
    },
    {
      "metadata": {
        "id": "OAABXQP30jJl",
        "colab_type": "code",
        "outputId": "bb900e28-e3c2-4eaa-b29e-57244a065c60",
        "colab": {
          "base_uri": "https://localhost:8080/",
          "height": 195
        }
      },
      "cell_type": "code",
      "source": [
        "# Create a csv output file\n",
        "df_rec = recom.to_dataframe()\n",
        "df_rec.head()"
      ],
      "execution_count": 56,
      "outputs": [
        {
          "output_type": "execute_result",
          "data": {
            "text/html": [
              "<div>\n",
              "<style scoped>\n",
              "    .dataframe tbody tr th:only-of-type {\n",
              "        vertical-align: middle;\n",
              "    }\n",
              "\n",
              "    .dataframe tbody tr th {\n",
              "        vertical-align: top;\n",
              "    }\n",
              "\n",
              "    .dataframe thead th {\n",
              "        text-align: right;\n",
              "    }\n",
              "</style>\n",
              "<table border=\"1\" class=\"dataframe\">\n",
              "  <thead>\n",
              "    <tr style=\"text-align: right;\">\n",
              "      <th></th>\n",
              "      <th>id</th>\n",
              "      <th>productId</th>\n",
              "      <th>score</th>\n",
              "      <th>rank</th>\n",
              "    </tr>\n",
              "  </thead>\n",
              "  <tbody>\n",
              "    <tr>\n",
              "      <th>0</th>\n",
              "      <td>1448</td>\n",
              "      <td>248</td>\n",
              "      <td>0.027617</td>\n",
              "      <td>1</td>\n",
              "    </tr>\n",
              "    <tr>\n",
              "      <th>1</th>\n",
              "      <td>1448</td>\n",
              "      <td>168</td>\n",
              "      <td>0.025632</td>\n",
              "      <td>2</td>\n",
              "    </tr>\n",
              "    <tr>\n",
              "      <th>2</th>\n",
              "      <td>1448</td>\n",
              "      <td>23</td>\n",
              "      <td>0.024235</td>\n",
              "      <td>3</td>\n",
              "    </tr>\n",
              "    <tr>\n",
              "      <th>3</th>\n",
              "      <td>1448</td>\n",
              "      <td>214</td>\n",
              "      <td>0.023167</td>\n",
              "      <td>4</td>\n",
              "    </tr>\n",
              "    <tr>\n",
              "      <th>4</th>\n",
              "      <td>1448</td>\n",
              "      <td>32</td>\n",
              "      <td>0.021507</td>\n",
              "      <td>5</td>\n",
              "    </tr>\n",
              "  </tbody>\n",
              "</table>\n",
              "</div>"
            ],
            "text/plain": [
              "     id  productId     score  rank\n",
              "0  1448        248  0.027617     1\n",
              "1  1448        168  0.025632     2\n",
              "2  1448         23  0.024235     3\n",
              "3  1448        214  0.023167     4\n",
              "4  1448         32  0.021507     5"
            ]
          },
          "metadata": {
            "tags": []
          },
          "execution_count": 56
        }
      ]
    },
    {
      "metadata": {
        "id": "fWwGkzKP0liM",
        "colab_type": "code",
        "outputId": "3df96d66-aaa5-44f3-b956-9b3eba371d9e",
        "colab": {
          "base_uri": "https://localhost:8080/",
          "height": 34
        }
      },
      "cell_type": "code",
      "source": [
        "print(df_rec.shape)"
      ],
      "execution_count": 57,
      "outputs": [
        {
          "output_type": "stream",
          "text": [
            "(10000, 4)\n"
          ],
          "name": "stdout"
        }
      ]
    },
    {
      "metadata": {
        "id": "n_9xXvjWtXAg",
        "colab_type": "code",
        "colab": {}
      },
      "cell_type": "code",
      "source": [
        "df_rec['recommendedProducts'] = df_rec.groupby([id])[item_id].transform(lambda x: '|'.join(x.astype(str)))\n",
        "df_output = df_rec[['id', 'recommendedProducts']].drop_duplicates().sort_values('id').set_index('id')"
      ],
      "execution_count": 0,
      "outputs": []
    },
    {
      "metadata": {
        "id": "PAp3RMVWFK7-",
        "colab_type": "code",
        "outputId": "8ac2b34c-75e0-4c71-b357-d6dfcfcc95ef",
        "colab": {
          "base_uri": "https://localhost:8080/",
          "height": 34
        }
      },
      "cell_type": "code",
      "source": [
        "recomendation = final_model.recommend(users=users_to_recommend, k=n_rec)"
      ],
      "execution_count": 59,
      "outputs": [
        {
          "output_type": "display_data",
          "data": {
            "text/html": [
              "<pre>recommendations finished on 1000/1000 queries. users per second: 41837.5</pre>"
            ],
            "text/plain": [
              "recommendations finished on 1000/1000 queries. users per second: 41837.5"
            ]
          },
          "metadata": {
            "tags": []
          }
        }
      ]
    },
    {
      "metadata": {
        "id": "Col5kW0eEP76",
        "colab_type": "code",
        "colab": {}
      },
      "cell_type": "code",
      "source": [
        "df_rec = recomendation.to_dataframe()\n"
      ],
      "execution_count": 0,
      "outputs": []
    },
    {
      "metadata": {
        "id": "F47rQK6RFW9R",
        "colab_type": "code",
        "colab": {}
      },
      "cell_type": "code",
      "source": [
        "df_rec['recommendedProducts'] = df_rec.groupby([user_id])[item_id] \\\n",
        "        .transform(lambda x: '|'.join(x.astype(str)))"
      ],
      "execution_count": 0,
      "outputs": []
    },
    {
      "metadata": {
        "id": "eQNzFWdBEXWp",
        "colab_type": "code",
        "colab": {}
      },
      "cell_type": "code",
      "source": [
        "df_output = df_rec[['id', 'recommendedProducts']].drop_duplicates() \\\n",
        "        .sort_values('id').set_index('id')"
      ],
      "execution_count": 0,
      "outputs": []
    },
    {
      "metadata": {
        "id": "ztsQTdETFdVW",
        "colab_type": "code",
        "outputId": "30b5a064-7f4e-412c-a5d4-c127a9ee3eb5",
        "colab": {
          "base_uri": "https://localhost:8080/",
          "height": 225
        }
      },
      "cell_type": "code",
      "source": [
        "df_output.head()"
      ],
      "execution_count": 63,
      "outputs": [
        {
          "output_type": "execute_result",
          "data": {
            "text/html": [
              "<div>\n",
              "<style scoped>\n",
              "    .dataframe tbody tr th:only-of-type {\n",
              "        vertical-align: middle;\n",
              "    }\n",
              "\n",
              "    .dataframe tbody tr th {\n",
              "        vertical-align: top;\n",
              "    }\n",
              "\n",
              "    .dataframe thead th {\n",
              "        text-align: right;\n",
              "    }\n",
              "</style>\n",
              "<table border=\"1\" class=\"dataframe\">\n",
              "  <thead>\n",
              "    <tr style=\"text-align: right;\">\n",
              "      <th></th>\n",
              "      <th>recommendedProducts</th>\n",
              "    </tr>\n",
              "    <tr>\n",
              "      <th>id</th>\n",
              "      <th></th>\n",
              "    </tr>\n",
              "  </thead>\n",
              "  <tbody>\n",
              "    <tr>\n",
              "      <th>3</th>\n",
              "      <td>50|41|159|245|170|85|147|183|75|45</td>\n",
              "    </tr>\n",
              "    <tr>\n",
              "      <th>4</th>\n",
              "      <td>3|78|108|87|84|236|125|227|223|146</td>\n",
              "    </tr>\n",
              "    <tr>\n",
              "      <th>5</th>\n",
              "      <td>11|126|65|229|24|2|242|85|79|181</td>\n",
              "    </tr>\n",
              "    <tr>\n",
              "      <th>6</th>\n",
              "      <td>21|69|246|87|36|125|90|77|211|126</td>\n",
              "    </tr>\n",
              "    <tr>\n",
              "      <th>7</th>\n",
              "      <td>41|9|125|131|207|33|121|28|137|214</td>\n",
              "    </tr>\n",
              "  </tbody>\n",
              "</table>\n",
              "</div>"
            ],
            "text/plain": [
              "                   recommendedProducts\n",
              "id                                    \n",
              "3   50|41|159|245|170|85|147|183|75|45\n",
              "4   3|78|108|87|84|236|125|227|223|146\n",
              "5     11|126|65|229|24|2|242|85|79|181\n",
              "6    21|69|246|87|36|125|90|77|211|126\n",
              "7   41|9|125|131|207|33|121|28|137|214"
            ]
          },
          "metadata": {
            "tags": []
          },
          "execution_count": 63
        }
      ]
    },
    {
      "metadata": {
        "id": "nm6d3gfqfOX4",
        "colab_type": "code",
        "colab": {}
      },
      "cell_type": "code",
      "source": [
        "# define recommendation function\n",
        "def customer_recomendation(id):\n",
        "    if id not in df_output.index:\n",
        "        print('Customer not found.')\n",
        "        return id\n",
        "    return df_output.loc[id]"
      ],
      "execution_count": 0,
      "outputs": []
    },
    {
      "metadata": {
        "id": "TcOluO1DfOh9",
        "colab_type": "code",
        "outputId": "826213a6-455a-45ba-a90b-912dafa3b6c5",
        "colab": {
          "base_uri": "https://localhost:8080/",
          "height": 50
        }
      },
      "cell_type": "code",
      "source": [
        "customer_recomendation(48)"
      ],
      "execution_count": 65,
      "outputs": [
        {
          "output_type": "stream",
          "text": [
            "Customer not found.\n"
          ],
          "name": "stdout"
        },
        {
          "output_type": "execute_result",
          "data": {
            "text/plain": [
              "48"
            ]
          },
          "metadata": {
            "tags": []
          },
          "execution_count": 65
        }
      ]
    },
    {
      "metadata": {
        "id": "QhfprNz4fXNT",
        "colab_type": "code",
        "outputId": "bd02f471-8e3d-481d-dbb0-259ff9c0cecb",
        "colab": {
          "base_uri": "https://localhost:8080/",
          "height": 50
        }
      },
      "cell_type": "code",
      "source": [
        "customer_recomendation(2438)"
      ],
      "execution_count": 66,
      "outputs": [
        {
          "output_type": "stream",
          "text": [
            "Customer not found.\n"
          ],
          "name": "stdout"
        },
        {
          "output_type": "execute_result",
          "data": {
            "text/plain": [
              "2438"
            ]
          },
          "metadata": {
            "tags": []
          },
          "execution_count": 66
        }
      ]
    },
    {
      "metadata": {
        "id": "FJo-zvQkfbBQ",
        "colab_type": "code",
        "outputId": "391d1d54-3039-4eff-bd8f-091241e88415",
        "colab": {
          "base_uri": "https://localhost:8080/",
          "height": 50
        }
      },
      "cell_type": "code",
      "source": [
        "customer_recomendation(368)"
      ],
      "execution_count": 67,
      "outputs": [
        {
          "output_type": "execute_result",
          "data": {
            "text/plain": [
              "recommendedProducts    9|211|152|2|36|113|245|166|77|151\n",
              "Name: 368, dtype: object"
            ]
          },
          "metadata": {
            "tags": []
          },
          "execution_count": 67
        }
      ]
    }
  ]
}